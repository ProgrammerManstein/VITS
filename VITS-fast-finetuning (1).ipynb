{
 "cells": [
  {
   "cell_type": "code",
   "execution_count": 8,
   "metadata": {
    "id": "03vVx0mDtuwN"
   },
   "outputs": [
    {
     "name": "stdout",
     "output_type": "stream",
     "text": [
      "Fri May 12 20:44:45 2023       \n",
      "+-----------------------------------------------------------------------------+\n",
      "| NVIDIA-SMI 525.105.17   Driver Version: 525.105.17   CUDA Version: 12.0     |\n",
      "|-------------------------------+----------------------+----------------------+\n",
      "| GPU  Name        Persistence-M| Bus-Id        Disp.A | Volatile Uncorr. ECC |\n",
      "| Fan  Temp  Perf  Pwr:Usage/Cap|         Memory-Usage | GPU-Util  Compute M. |\n",
      "|                               |                      |               MIG M. |\n",
      "|===============================+======================+======================|\n",
      "|   0  NVIDIA RTX A5000    On   | 00000000:06:00.0 Off |                  Off |\n",
      "| 30%   27C    P8    15W / 230W |      0MiB / 24564MiB |      0%      Default |\n",
      "|                               |                      |                  N/A |\n",
      "+-------------------------------+----------------------+----------------------+\n",
      "                                                                               \n",
      "+-----------------------------------------------------------------------------+\n",
      "| Processes:                                                                  |\n",
      "|  GPU   GI   CI        PID   Type   Process name                  GPU Memory |\n",
      "|        ID   ID                                                   Usage      |\n",
      "|=============================================================================|\n",
      "|  No running processes found                                                 |\n",
      "+-----------------------------------------------------------------------------+\n"
     ]
    }
   ],
   "source": [
    "# 查看GPU配置\n",
    "# Check GPU configuration\n",
    "!nvidia-smi"
   ]
  },
  {
   "cell_type": "markdown",
   "metadata": {
    "id": "fwJ-lNbOtp-9"
   },
   "source": [
    "#STEP 0  \n",
    "##本笔记本必须在GPU模式下运行，可以运行上方的nvidia-smi查看GPU是否装载。若没有，点击左上角>修改>笔记本设置，把硬件加速改成GPU。  \n",
    "##！！！开始之前请仔细阅读[数据集上传格式要求](https://github.com/Plachtaa/VITS-fast-fine-tuning/blob/main/DATA.MD)避免后续因为读取不到音频文件而报错。！！！\n",
    "##Note: GPU is necessary for this notebook. Check whether your GPU is loaded before you start.Please read [Requirements for uploaded data format](https://github.com/Plachtaa/VITS-fast-fine-tuning/blob/main/DATA_EN.MD) carefully to avoid any possible error caused by voice file not found.\n"
   ]
  },
  {
   "cell_type": "code",
   "execution_count": 13,
   "metadata": {
    "collapsed": true,
    "id": "-XEdEXyTHVfD",
    "jupyter": {
     "outputs_hidden": true
    },
    "tags": []
   },
   "outputs": [
    {
     "name": "stdout",
     "output_type": "stream",
     "text": [
      "Looking in indexes: https://pypi.tuna.tsinghua.edu.cn/simple\n",
      "Collecting imageio==2.4.1\n",
      "  Using cached imageio-2.4.1-py3-none-any.whl\n",
      "Requirement already satisfied: numpy in /root/miniconda3/lib/python3.8/site-packages (from imageio==2.4.1) (1.21.2)\n",
      "Requirement already satisfied: pillow in /root/miniconda3/lib/python3.8/site-packages (from imageio==2.4.1) (9.5.0)\n",
      "Installing collected packages: imageio\n",
      "  Attempting uninstall: imageio\n",
      "    Found existing installation: imageio 2.28.1\n",
      "    Uninstalling imageio-2.28.1:\n",
      "      Successfully uninstalled imageio-2.28.1\n",
      "\u001b[31mERROR: pip's dependency resolver does not currently take into account all the packages that are installed. This behaviour is the source of the following dependency conflicts.\n",
      "moviepy 1.0.3 requires imageio<3.0,>=2.5; python_version >= \"3.4\", but you have imageio 2.4.1 which is incompatible.\u001b[0m\n",
      "Successfully installed imageio-2.4.1\n",
      "\u001b[33mWARNING: Running pip as the 'root' user can result in broken permissions and conflicting behaviour with the system package manager. It is recommended to use a virtual environment instead: https://pip.pypa.io/warnings/venv\u001b[0m\n",
      "Looking in indexes: https://pypi.tuna.tsinghua.edu.cn/simple\n",
      "Requirement already satisfied: youtube-dl in /root/miniconda3/lib/python3.8/site-packages (2021.12.17)\n",
      "\u001b[33mWARNING: Running pip as the 'root' user can result in broken permissions and conflicting behaviour with the system package manager. It is recommended to use a virtual environment instead: https://pip.pypa.io/warnings/venv\u001b[0m\n",
      "Looking in indexes: https://pypi.tuna.tsinghua.edu.cn/simple\n",
      "Requirement already satisfied: moviepy in /root/miniconda3/lib/python3.8/site-packages (1.0.3)\n",
      "Requirement already satisfied: tqdm<5.0,>=4.11.2 in /root/miniconda3/lib/python3.8/site-packages (from moviepy) (4.61.2)\n",
      "Requirement already satisfied: proglog<=1.0.0 in /root/miniconda3/lib/python3.8/site-packages (from moviepy) (0.1.10)\n",
      "Collecting imageio<3.0,>=2.5\n",
      "  Using cached https://pypi.tuna.tsinghua.edu.cn/packages/e9/67/98ed2279fcd66cc50112abb8f5a3de4526307dc43a16d220d7b48afd113a/imageio-2.28.1-py3-none-any.whl (3.4 MB)\n",
      "Requirement already satisfied: numpy in /root/miniconda3/lib/python3.8/site-packages (from moviepy) (1.21.2)\n",
      "Requirement already satisfied: imageio-ffmpeg>=0.2.0 in /root/miniconda3/lib/python3.8/site-packages (from moviepy) (0.4.8)\n",
      "Requirement already satisfied: decorator<5.0,>=4.0.2 in /root/miniconda3/lib/python3.8/site-packages (from moviepy) (4.4.2)\n",
      "Requirement already satisfied: requests<3.0,>=2.8.1 in /root/miniconda3/lib/python3.8/site-packages (from moviepy) (2.28.2)\n",
      "Requirement already satisfied: pillow>=8.3.2 in /root/miniconda3/lib/python3.8/site-packages (from imageio<3.0,>=2.5->moviepy) (9.5.0)\n",
      "Requirement already satisfied: charset-normalizer<4,>=2 in /root/miniconda3/lib/python3.8/site-packages (from requests<3.0,>=2.8.1->moviepy) (3.1.0)\n",
      "Requirement already satisfied: certifi>=2017.4.17 in /root/miniconda3/lib/python3.8/site-packages (from requests<3.0,>=2.8.1->moviepy) (2021.5.30)\n",
      "Requirement already satisfied: idna<4,>=2.5 in /root/miniconda3/lib/python3.8/site-packages (from requests<3.0,>=2.8.1->moviepy) (2.10)\n",
      "Requirement already satisfied: urllib3<1.27,>=1.21.1 in /root/miniconda3/lib/python3.8/site-packages (from requests<3.0,>=2.8.1->moviepy) (1.26.6)\n",
      "Installing collected packages: imageio\n",
      "  Attempting uninstall: imageio\n",
      "    Found existing installation: imageio 2.4.1\n",
      "    Uninstalling imageio-2.4.1:\n",
      "      Successfully uninstalled imageio-2.4.1\n",
      "Successfully installed imageio-2.28.1\n",
      "\u001b[33mWARNING: Running pip as the 'root' user can result in broken permissions and conflicting behaviour with the system package manager. It is recommended to use a virtual environment instead: https://pip.pypa.io/warnings/venv\u001b[0m\n",
      "[Errno 2] No such file or directory: 'VITS-fast-fine-tuning'\n",
      "/root/VITS-fast-fine-tuning\n",
      "Looking in indexes: https://pypi.tuna.tsinghua.edu.cn/simple\n",
      "Requirement already satisfied: Cython in /root/miniconda3/lib/python3.8/site-packages (from -r requirements.txt (line 1)) (0.29.21)\n",
      "Requirement already satisfied: librosa==0.9.2 in /root/miniconda3/lib/python3.8/site-packages (from -r requirements.txt (line 2)) (0.9.2)\n",
      "Requirement already satisfied: numpy in /root/miniconda3/lib/python3.8/site-packages (from -r requirements.txt (line 3)) (1.21.2)\n",
      "Requirement already satisfied: scipy in /root/miniconda3/lib/python3.8/site-packages (from -r requirements.txt (line 4)) (1.5.2)\n",
      "Requirement already satisfied: tensorboard in /root/miniconda3/lib/python3.8/site-packages (from -r requirements.txt (line 5)) (2.3.0)\n",
      "Requirement already satisfied: torch==1.13.1 in /root/miniconda3/lib/python3.8/site-packages (from -r requirements.txt (line 6)) (1.13.1)\n",
      "Requirement already satisfied: torchvision==0.14.1 in /root/miniconda3/lib/python3.8/site-packages (from -r requirements.txt (line 7)) (0.14.1)\n",
      "Requirement already satisfied: torchaudio==0.13.1 in /root/miniconda3/lib/python3.8/site-packages (from -r requirements.txt (line 8)) (0.13.1)\n",
      "Requirement already satisfied: unidecode in /root/miniconda3/lib/python3.8/site-packages (from -r requirements.txt (line 9)) (1.1.1)\n",
      "Requirement already satisfied: pyopenjtalk==0.1.3 in /root/miniconda3/lib/python3.8/site-packages (from -r requirements.txt (line 10)) (0.1.3)\n",
      "Requirement already satisfied: jamo in /root/miniconda3/lib/python3.8/site-packages (from -r requirements.txt (line 11)) (0.4.1)\n",
      "Requirement already satisfied: pypinyin in /root/miniconda3/lib/python3.8/site-packages (from -r requirements.txt (line 12)) (0.44.0)\n",
      "Requirement already satisfied: jieba in /root/miniconda3/lib/python3.8/site-packages (from -r requirements.txt (line 13)) (0.42.1)\n",
      "Requirement already satisfied: protobuf in /root/miniconda3/lib/python3.8/site-packages (from -r requirements.txt (line 14)) (3.19.0)\n",
      "Requirement already satisfied: cn2an in /root/miniconda3/lib/python3.8/site-packages (from -r requirements.txt (line 15)) (0.5.17)\n",
      "Requirement already satisfied: inflect in /root/miniconda3/lib/python3.8/site-packages (from -r requirements.txt (line 16)) (6.0.2)\n",
      "Requirement already satisfied: eng_to_ipa in /root/miniconda3/lib/python3.8/site-packages (from -r requirements.txt (line 17)) (0.0.2)\n",
      "Requirement already satisfied: ko_pron in /root/miniconda3/lib/python3.8/site-packages (from -r requirements.txt (line 18)) (1.3)\n",
      "Requirement already satisfied: indic_transliteration==2.3.37 in /root/miniconda3/lib/python3.8/site-packages (from -r requirements.txt (line 19)) (2.3.37)\n",
      "Requirement already satisfied: num_thai==0.0.5 in /root/miniconda3/lib/python3.8/site-packages (from -r requirements.txt (line 20)) (0.0.5)\n",
      "Requirement already satisfied: opencc==1.1.1 in /root/miniconda3/lib/python3.8/site-packages (from -r requirements.txt (line 21)) (1.1.1)\n",
      "Requirement already satisfied: demucs in /root/miniconda3/lib/python3.8/site-packages (from -r requirements.txt (line 22)) (4.0.0)\n",
      "Requirement already satisfied: openai-whisper in /root/miniconda3/lib/python3.8/site-packages (from -r requirements.txt (line 23)) (20230314)\n",
      "Requirement already satisfied: gradio in /root/miniconda3/lib/python3.8/site-packages (from -r requirements.txt (line 24)) (3.27.0)\n",
      "Requirement already satisfied: joblib>=0.14 in /root/miniconda3/lib/python3.8/site-packages (from librosa==0.9.2->-r requirements.txt (line 2)) (1.2.0)\n",
      "Requirement already satisfied: numba>=0.45.1 in /root/miniconda3/lib/python3.8/site-packages (from librosa==0.9.2->-r requirements.txt (line 2)) (0.56.3)\n",
      "Requirement already satisfied: soundfile>=0.10.2 in /root/miniconda3/lib/python3.8/site-packages (from librosa==0.9.2->-r requirements.txt (line 2)) (0.11.0)\n",
      "Requirement already satisfied: packaging>=20.0 in /root/miniconda3/lib/python3.8/site-packages (from librosa==0.9.2->-r requirements.txt (line 2)) (21.0)\n",
      "Requirement already satisfied: decorator>=4.0.10 in /root/miniconda3/lib/python3.8/site-packages (from librosa==0.9.2->-r requirements.txt (line 2)) (4.4.2)\n",
      "Requirement already satisfied: audioread>=2.1.9 in /root/miniconda3/lib/python3.8/site-packages (from librosa==0.9.2->-r requirements.txt (line 2)) (3.0.0)\n",
      "Requirement already satisfied: scikit-learn>=0.19.1 in /root/miniconda3/lib/python3.8/site-packages (from librosa==0.9.2->-r requirements.txt (line 2)) (1.1.3)\n",
      "Requirement already satisfied: pooch>=1.0 in /root/miniconda3/lib/python3.8/site-packages (from librosa==0.9.2->-r requirements.txt (line 2)) (1.6.0)\n",
      "Requirement already satisfied: resampy>=0.2.2 in /root/miniconda3/lib/python3.8/site-packages (from librosa==0.9.2->-r requirements.txt (line 2)) (0.4.2)\n",
      "Requirement already satisfied: nvidia-cublas-cu11==11.10.3.66 in /root/miniconda3/lib/python3.8/site-packages (from torch==1.13.1->-r requirements.txt (line 6)) (11.10.3.66)\n",
      "Requirement already satisfied: typing-extensions in /root/miniconda3/lib/python3.8/site-packages (from torch==1.13.1->-r requirements.txt (line 6)) (4.4.0)\n",
      "Requirement already satisfied: nvidia-cudnn-cu11==8.5.0.96 in /root/miniconda3/lib/python3.8/site-packages (from torch==1.13.1->-r requirements.txt (line 6)) (8.5.0.96)\n",
      "Requirement already satisfied: nvidia-cuda-nvrtc-cu11==11.7.99 in /root/miniconda3/lib/python3.8/site-packages (from torch==1.13.1->-r requirements.txt (line 6)) (11.7.99)\n",
      "Requirement already satisfied: nvidia-cuda-runtime-cu11==11.7.99 in /root/miniconda3/lib/python3.8/site-packages (from torch==1.13.1->-r requirements.txt (line 6)) (11.7.99)\n",
      "Requirement already satisfied: pillow!=8.3.*,>=5.3.0 in /root/miniconda3/lib/python3.8/site-packages (from torchvision==0.14.1->-r requirements.txt (line 7)) (9.5.0)\n",
      "Requirement already satisfied: requests in /root/miniconda3/lib/python3.8/site-packages (from torchvision==0.14.1->-r requirements.txt (line 7)) (2.28.2)\n",
      "Requirement already satisfied: six in /root/miniconda3/lib/python3.8/site-packages (from pyopenjtalk==0.1.3->-r requirements.txt (line 10)) (1.16.0)\n",
      "Requirement already satisfied: roman in /root/miniconda3/lib/python3.8/site-packages (from indic_transliteration==2.3.37->-r requirements.txt (line 19)) (3.3)\n",
      "Requirement already satisfied: typer in /root/miniconda3/lib/python3.8/site-packages (from indic_transliteration==2.3.37->-r requirements.txt (line 19)) (0.6.1)\n",
      "Requirement already satisfied: regex in /root/miniconda3/lib/python3.8/site-packages (from indic_transliteration==2.3.37->-r requirements.txt (line 19)) (2022.9.13)\n",
      "Requirement already satisfied: toml in /root/miniconda3/lib/python3.8/site-packages (from indic_transliteration==2.3.37->-r requirements.txt (line 19)) (0.10.2)\n",
      "Requirement already satisfied: backports.functools-lru-cache in /root/miniconda3/lib/python3.8/site-packages (from indic_transliteration==2.3.37->-r requirements.txt (line 19)) (1.6.4)\n",
      "Requirement already satisfied: setuptools in /root/miniconda3/lib/python3.8/site-packages (from nvidia-cublas-cu11==11.10.3.66->torch==1.13.1->-r requirements.txt (line 6)) (52.0.0.post20210125)\n",
      "Requirement already satisfied: wheel in /root/miniconda3/lib/python3.8/site-packages (from nvidia-cublas-cu11==11.10.3.66->torch==1.13.1->-r requirements.txt (line 6)) (0.36.2)\n",
      "Requirement already satisfied: importlib-metadata in /root/miniconda3/lib/python3.8/site-packages (from numba>=0.45.1->librosa==0.9.2->-r requirements.txt (line 2)) (5.0.0)\n",
      "Requirement already satisfied: llvmlite<0.40,>=0.39.0dev0 in /root/miniconda3/lib/python3.8/site-packages (from numba>=0.45.1->librosa==0.9.2->-r requirements.txt (line 2)) (0.39.1)\n",
      "Requirement already satisfied: pyparsing>=2.0.2 in /root/miniconda3/lib/python3.8/site-packages (from packaging>=20.0->librosa==0.9.2->-r requirements.txt (line 2)) (2.4.7)\n",
      "Requirement already satisfied: appdirs>=1.3.0 in /root/miniconda3/lib/python3.8/site-packages (from pooch>=1.0->librosa==0.9.2->-r requirements.txt (line 2)) (1.4.4)\n",
      "Requirement already satisfied: urllib3<1.27,>=1.21.1 in /root/miniconda3/lib/python3.8/site-packages (from requests->torchvision==0.14.1->-r requirements.txt (line 7)) (1.26.6)\n",
      "Requirement already satisfied: certifi>=2017.4.17 in /root/miniconda3/lib/python3.8/site-packages (from requests->torchvision==0.14.1->-r requirements.txt (line 7)) (2021.5.30)\n",
      "Requirement already satisfied: idna<4,>=2.5 in /root/miniconda3/lib/python3.8/site-packages (from requests->torchvision==0.14.1->-r requirements.txt (line 7)) (2.10)\n",
      "Requirement already satisfied: charset-normalizer<4,>=2 in /root/miniconda3/lib/python3.8/site-packages (from requests->torchvision==0.14.1->-r requirements.txt (line 7)) (3.1.0)\n",
      "Requirement already satisfied: threadpoolctl>=2.0.0 in /root/miniconda3/lib/python3.8/site-packages (from scikit-learn>=0.19.1->librosa==0.9.2->-r requirements.txt (line 2)) (3.1.0)\n",
      "Requirement already satisfied: cffi>=1.0 in /root/miniconda3/lib/python3.8/site-packages (from soundfile>=0.10.2->librosa==0.9.2->-r requirements.txt (line 2)) (1.14.6)\n",
      "Requirement already satisfied: pycparser in /root/miniconda3/lib/python3.8/site-packages (from cffi>=1.0->soundfile>=0.10.2->librosa==0.9.2->-r requirements.txt (line 2)) (2.20)\n",
      "Requirement already satisfied: google-auth<2,>=1.6.3 in /root/miniconda3/lib/python3.8/site-packages (from tensorboard->-r requirements.txt (line 5)) (1.35.0)\n",
      "Requirement already satisfied: markdown>=2.6.8 in /root/miniconda3/lib/python3.8/site-packages (from tensorboard->-r requirements.txt (line 5)) (3.3.4)\n",
      "Requirement already satisfied: absl-py>=0.4 in /root/miniconda3/lib/python3.8/site-packages (from tensorboard->-r requirements.txt (line 5)) (0.13.0)\n",
      "Requirement already satisfied: grpcio>=1.24.3 in /root/miniconda3/lib/python3.8/site-packages (from tensorboard->-r requirements.txt (line 5)) (1.40.0)\n",
      "Requirement already satisfied: google-auth-oauthlib<0.5,>=0.4.1 in /root/miniconda3/lib/python3.8/site-packages (from tensorboard->-r requirements.txt (line 5)) (0.4.6)\n",
      "Requirement already satisfied: tensorboard-plugin-wit>=1.6.0 in /root/miniconda3/lib/python3.8/site-packages (from tensorboard->-r requirements.txt (line 5)) (1.8.0)\n",
      "Requirement already satisfied: werkzeug>=0.11.15 in /root/miniconda3/lib/python3.8/site-packages (from tensorboard->-r requirements.txt (line 5)) (2.0.1)\n",
      "Requirement already satisfied: rsa<5,>=3.1.4 in /root/miniconda3/lib/python3.8/site-packages (from google-auth<2,>=1.6.3->tensorboard->-r requirements.txt (line 5)) (4.7.2)\n",
      "Requirement already satisfied: pyasn1-modules>=0.2.1 in /root/miniconda3/lib/python3.8/site-packages (from google-auth<2,>=1.6.3->tensorboard->-r requirements.txt (line 5)) (0.2.8)\n",
      "Requirement already satisfied: cachetools<5.0,>=2.0.0 in /root/miniconda3/lib/python3.8/site-packages (from google-auth<2,>=1.6.3->tensorboard->-r requirements.txt (line 5)) (4.2.2)\n",
      "Requirement already satisfied: requests-oauthlib>=0.7.0 in /root/miniconda3/lib/python3.8/site-packages (from google-auth-oauthlib<0.5,>=0.4.1->tensorboard->-r requirements.txt (line 5)) (1.3.0)\n",
      "Requirement already satisfied: pyasn1<0.5.0,>=0.4.6 in /root/miniconda3/lib/python3.8/site-packages (from pyasn1-modules>=0.2.1->google-auth<2,>=1.6.3->tensorboard->-r requirements.txt (line 5)) (0.4.8)\n",
      "Requirement already satisfied: oauthlib>=3.0.0 in /root/miniconda3/lib/python3.8/site-packages (from requests-oauthlib>=0.7.0->google-auth-oauthlib<0.5,>=0.4.1->tensorboard->-r requirements.txt (line 5)) (3.1.1)\n",
      "Requirement already satisfied: ruamel.yaml>=0.16.0 in /root/miniconda3/lib/python3.8/site-packages (from cn2an->-r requirements.txt (line 15)) (0.17.21)\n",
      "Requirement already satisfied: proces>=0.1.0 in /root/miniconda3/lib/python3.8/site-packages (from cn2an->-r requirements.txt (line 15)) (0.1.2)\n",
      "Requirement already satisfied: zhconv==1.4.3 in /root/miniconda3/lib/python3.8/site-packages (from proces>=0.1.0->cn2an->-r requirements.txt (line 15)) (1.4.3)\n",
      "Requirement already satisfied: ruamel.yaml.clib>=0.2.6 in /root/miniconda3/lib/python3.8/site-packages (from ruamel.yaml>=0.16.0->cn2an->-r requirements.txt (line 15)) (0.2.7)\n",
      "Requirement already satisfied: pydantic>=1.9.1 in /root/miniconda3/lib/python3.8/site-packages (from inflect->-r requirements.txt (line 16)) (1.10.2)\n",
      "Requirement already satisfied: openunmix in /root/miniconda3/lib/python3.8/site-packages (from demucs->-r requirements.txt (line 22)) (1.2.1)\n",
      "Requirement already satisfied: tqdm in /root/miniconda3/lib/python3.8/site-packages (from demucs->-r requirements.txt (line 22)) (4.61.2)\n",
      "Requirement already satisfied: dora-search in /root/miniconda3/lib/python3.8/site-packages (from demucs->-r requirements.txt (line 22)) (0.1.11)\n",
      "Requirement already satisfied: julius>=0.2.3 in /root/miniconda3/lib/python3.8/site-packages (from demucs->-r requirements.txt (line 22)) (0.2.7)\n",
      "Requirement already satisfied: pyyaml in /root/miniconda3/lib/python3.8/site-packages (from demucs->-r requirements.txt (line 22)) (6.0)\n",
      "Requirement already satisfied: lameenc>=1.2 in /root/miniconda3/lib/python3.8/site-packages (from demucs->-r requirements.txt (line 22)) (1.4.2)\n",
      "Requirement already satisfied: diffq>=0.2.1 in /root/miniconda3/lib/python3.8/site-packages (from demucs->-r requirements.txt (line 22)) (0.2.3)\n",
      "Requirement already satisfied: einops in /root/miniconda3/lib/python3.8/site-packages (from demucs->-r requirements.txt (line 22)) (0.6.0)\n",
      "Requirement already satisfied: triton==2.0.0 in /root/miniconda3/lib/python3.8/site-packages (from openai-whisper->-r requirements.txt (line 23)) (2.0.0)\n",
      "Requirement already satisfied: tiktoken==0.3.1 in /root/miniconda3/lib/python3.8/site-packages (from openai-whisper->-r requirements.txt (line 23)) (0.3.1)\n",
      "Requirement already satisfied: more-itertools in /root/miniconda3/lib/python3.8/site-packages (from openai-whisper->-r requirements.txt (line 23)) (9.1.0)\n",
      "Requirement already satisfied: ffmpeg-python==0.2.0 in /root/miniconda3/lib/python3.8/site-packages (from openai-whisper->-r requirements.txt (line 23)) (0.2.0)\n",
      "Requirement already satisfied: future in /root/miniconda3/lib/python3.8/site-packages (from ffmpeg-python==0.2.0->openai-whisper->-r requirements.txt (line 23)) (0.18.3)\n",
      "Requirement already satisfied: lit in /root/miniconda3/lib/python3.8/site-packages (from triton==2.0.0->openai-whisper->-r requirements.txt (line 23)) (16.0.1)\n",
      "Requirement already satisfied: cmake in /root/miniconda3/lib/python3.8/site-packages (from triton==2.0.0->openai-whisper->-r requirements.txt (line 23)) (3.26.3)\n",
      "Requirement already satisfied: filelock in /root/miniconda3/lib/python3.8/site-packages (from triton==2.0.0->openai-whisper->-r requirements.txt (line 23)) (3.8.0)\n",
      "Requirement already satisfied: aiohttp in /root/miniconda3/lib/python3.8/site-packages (from gradio->-r requirements.txt (line 24)) (3.8.4)\n",
      "Requirement already satisfied: jinja2 in /root/miniconda3/lib/python3.8/site-packages (from gradio->-r requirements.txt (line 24)) (3.0.1)\n",
      "Requirement already satisfied: orjson in /root/miniconda3/lib/python3.8/site-packages (from gradio->-r requirements.txt (line 24)) (3.8.10)\n",
      "Requirement already satisfied: mdit-py-plugins<=0.3.3 in /root/miniconda3/lib/python3.8/site-packages (from gradio->-r requirements.txt (line 24)) (0.3.3)\n",
      "Requirement already satisfied: uvicorn in /root/miniconda3/lib/python3.8/site-packages (from gradio->-r requirements.txt (line 24)) (0.21.1)\n",
      "Requirement already satisfied: python-multipart in /root/miniconda3/lib/python3.8/site-packages (from gradio->-r requirements.txt (line 24)) (0.0.6)\n",
      "Requirement already satisfied: ffmpy in /root/miniconda3/lib/python3.8/site-packages (from gradio->-r requirements.txt (line 24)) (0.3.0)\n",
      "Requirement already satisfied: websockets>=10.0 in /root/miniconda3/lib/python3.8/site-packages (from gradio->-r requirements.txt (line 24)) (11.0.1)\n",
      "Requirement already satisfied: markdown-it-py[linkify]>=2.0.0 in /root/miniconda3/lib/python3.8/site-packages (from gradio->-r requirements.txt (line 24)) (2.2.0)\n",
      "Requirement already satisfied: huggingface-hub>=0.13.0 in /root/miniconda3/lib/python3.8/site-packages (from gradio->-r requirements.txt (line 24)) (0.13.4)\n",
      "Requirement already satisfied: pydub in /root/miniconda3/lib/python3.8/site-packages (from gradio->-r requirements.txt (line 24)) (0.25.1)\n",
      "Requirement already satisfied: altair>=4.2.0 in /root/miniconda3/lib/python3.8/site-packages (from gradio->-r requirements.txt (line 24)) (4.2.2)\n",
      "Requirement already satisfied: fastapi in /root/miniconda3/lib/python3.8/site-packages (from gradio->-r requirements.txt (line 24)) (0.95.1)\n",
      "Requirement already satisfied: httpx in /root/miniconda3/lib/python3.8/site-packages (from gradio->-r requirements.txt (line 24)) (0.24.0)\n",
      "Requirement already satisfied: semantic-version in /root/miniconda3/lib/python3.8/site-packages (from gradio->-r requirements.txt (line 24)) (2.10.0)\n",
      "Requirement already satisfied: markupsafe in /root/miniconda3/lib/python3.8/site-packages (from gradio->-r requirements.txt (line 24)) (2.0.1)\n",
      "Requirement already satisfied: aiofiles in /root/miniconda3/lib/python3.8/site-packages (from gradio->-r requirements.txt (line 24)) (23.1.0)\n",
      "Requirement already satisfied: matplotlib in /root/miniconda3/lib/python3.8/site-packages (from gradio->-r requirements.txt (line 24)) (3.3.1)\n",
      "Requirement already satisfied: gradio-client>=0.1.3 in /root/miniconda3/lib/python3.8/site-packages (from gradio->-r requirements.txt (line 24)) (0.1.3)\n",
      "Requirement already satisfied: pandas in /root/miniconda3/lib/python3.8/site-packages (from gradio->-r requirements.txt (line 24)) (2.0.0)\n",
      "Requirement already satisfied: toolz in /root/miniconda3/lib/python3.8/site-packages (from altair>=4.2.0->gradio->-r requirements.txt (line 24)) (0.12.0)\n",
      "Requirement already satisfied: entrypoints in /root/miniconda3/lib/python3.8/site-packages (from altair>=4.2.0->gradio->-r requirements.txt (line 24)) (0.3)\n",
      "Requirement already satisfied: jsonschema>=3.0 in /root/miniconda3/lib/python3.8/site-packages (from altair>=4.2.0->gradio->-r requirements.txt (line 24)) (3.2.0)\n",
      "Requirement already satisfied: fsspec in /root/miniconda3/lib/python3.8/site-packages (from gradio-client>=0.1.3->gradio->-r requirements.txt (line 24)) (2023.4.0)\n",
      "Requirement already satisfied: pyrsistent>=0.14.0 in /root/miniconda3/lib/python3.8/site-packages (from jsonschema>=3.0->altair>=4.2.0->gradio->-r requirements.txt (line 24)) (0.18.0)\n",
      "Requirement already satisfied: attrs>=17.4.0 in /root/miniconda3/lib/python3.8/site-packages (from jsonschema>=3.0->altair>=4.2.0->gradio->-r requirements.txt (line 24)) (21.2.0)\n",
      "Requirement already satisfied: mdurl~=0.1 in /root/miniconda3/lib/python3.8/site-packages (from markdown-it-py[linkify]>=2.0.0->gradio->-r requirements.txt (line 24)) (0.1.2)\n",
      "Requirement already satisfied: linkify-it-py<3,>=1 in /root/miniconda3/lib/python3.8/site-packages (from markdown-it-py[linkify]>=2.0.0->gradio->-r requirements.txt (line 24)) (2.0.0)\n",
      "Requirement already satisfied: uc-micro-py in /root/miniconda3/lib/python3.8/site-packages (from linkify-it-py<3,>=1->markdown-it-py[linkify]>=2.0.0->gradio->-r requirements.txt (line 24)) (1.0.1)\n",
      "Requirement already satisfied: python-dateutil>=2.8.2 in /root/miniconda3/lib/python3.8/site-packages (from pandas->gradio->-r requirements.txt (line 24)) (2.8.2)\n",
      "Requirement already satisfied: pytz>=2020.1 in /root/miniconda3/lib/python3.8/site-packages (from pandas->gradio->-r requirements.txt (line 24)) (2021.1)\n",
      "Requirement already satisfied: tzdata>=2022.1 in /root/miniconda3/lib/python3.8/site-packages (from pandas->gradio->-r requirements.txt (line 24)) (2023.3)\n",
      "Requirement already satisfied: multidict<7.0,>=4.5 in /root/miniconda3/lib/python3.8/site-packages (from aiohttp->gradio->-r requirements.txt (line 24)) (6.0.4)\n",
      "Requirement already satisfied: aiosignal>=1.1.2 in /root/miniconda3/lib/python3.8/site-packages (from aiohttp->gradio->-r requirements.txt (line 24)) (1.3.1)\n",
      "Requirement already satisfied: frozenlist>=1.1.1 in /root/miniconda3/lib/python3.8/site-packages (from aiohttp->gradio->-r requirements.txt (line 24)) (1.3.3)\n",
      "Requirement already satisfied: yarl<2.0,>=1.0 in /root/miniconda3/lib/python3.8/site-packages (from aiohttp->gradio->-r requirements.txt (line 24)) (1.8.2)\n",
      "Requirement already satisfied: async-timeout<5.0,>=4.0.0a3 in /root/miniconda3/lib/python3.8/site-packages (from aiohttp->gradio->-r requirements.txt (line 24)) (4.0.2)\n",
      "Requirement already satisfied: omegaconf in /root/miniconda3/lib/python3.8/site-packages (from dora-search->demucs->-r requirements.txt (line 22)) (2.3.0)\n",
      "Requirement already satisfied: submitit in /root/miniconda3/lib/python3.8/site-packages (from dora-search->demucs->-r requirements.txt (line 22)) (1.4.5)\n",
      "Requirement already satisfied: retrying in /root/miniconda3/lib/python3.8/site-packages (from dora-search->demucs->-r requirements.txt (line 22)) (1.3.4)\n",
      "Requirement already satisfied: treetable in /root/miniconda3/lib/python3.8/site-packages (from dora-search->demucs->-r requirements.txt (line 22)) (0.2.5)\n",
      "Requirement already satisfied: starlette<0.27.0,>=0.26.1 in /root/miniconda3/lib/python3.8/site-packages (from fastapi->gradio->-r requirements.txt (line 24)) (0.26.1)\n",
      "Requirement already satisfied: anyio<5,>=3.4.0 in /root/miniconda3/lib/python3.8/site-packages (from starlette<0.27.0,>=0.26.1->fastapi->gradio->-r requirements.txt (line 24)) (3.6.2)\n",
      "Requirement already satisfied: sniffio>=1.1 in /root/miniconda3/lib/python3.8/site-packages (from anyio<5,>=3.4.0->starlette<0.27.0,>=0.26.1->fastapi->gradio->-r requirements.txt (line 24)) (1.2.0)\n",
      "Requirement already satisfied: httpcore<0.18.0,>=0.15.0 in /root/miniconda3/lib/python3.8/site-packages (from httpx->gradio->-r requirements.txt (line 24)) (0.17.0)\n",
      "Requirement already satisfied: h11<0.15,>=0.13 in /root/miniconda3/lib/python3.8/site-packages (from httpcore<0.18.0,>=0.15.0->httpx->gradio->-r requirements.txt (line 24)) (0.14.0)\n",
      "Requirement already satisfied: zipp>=0.5 in /root/miniconda3/lib/python3.8/site-packages (from importlib-metadata->numba>=0.45.1->librosa==0.9.2->-r requirements.txt (line 2)) (3.10.0)\n",
      "Requirement already satisfied: cycler>=0.10 in /root/miniconda3/lib/python3.8/site-packages (from matplotlib->gradio->-r requirements.txt (line 24)) (0.10.0)\n",
      "Requirement already satisfied: kiwisolver>=1.0.1 in /root/miniconda3/lib/python3.8/site-packages (from matplotlib->gradio->-r requirements.txt (line 24)) (1.3.2)\n",
      "Requirement already satisfied: antlr4-python3-runtime==4.9.* in /root/miniconda3/lib/python3.8/site-packages (from omegaconf->dora-search->demucs->-r requirements.txt (line 22)) (4.9.3)\n",
      "Requirement already satisfied: cloudpickle>=1.2.1 in /root/miniconda3/lib/python3.8/site-packages (from submitit->dora-search->demucs->-r requirements.txt (line 22)) (2.2.1)\n",
      "Requirement already satisfied: click<9.0.0,>=7.1.1 in /root/miniconda3/lib/python3.8/site-packages (from typer->indic_transliteration==2.3.37->-r requirements.txt (line 19)) (8.1.3)\n",
      "\u001b[33mWARNING: Running pip as the 'root' user can result in broken permissions and conflicting behaviour with the system package manager. It is recommended to use a virtual environment instead: https://pip.pypa.io/warnings/venv\u001b[0m\n",
      "/root/VITS-fast-fine-tuning/monotonic_align\n",
      "mkdir: cannot create directory ‘monotonic_align’: File exists\n",
      "running build_ext\n",
      "/root/VITS-fast-fine-tuning\n",
      "mkdir: cannot create directory ‘pretrained_models’: File exists\n",
      "mkdir: cannot create directory ‘video_data’: File exists\n",
      "mkdir: cannot create directory ‘raw_audio’: File exists\n",
      "mkdir: cannot create directory ‘denoised_audio’: File exists\n",
      "mkdir: cannot create directory ‘custom_character_voice’: File exists\n",
      "mkdir: cannot create directory ‘segmented_character_voice’: File exists\n"
     ]
    }
   ],
   "source": [
    "#@title STEP 1 复制代码库并安装运行环境\n",
    "#@markdown #STEP 1 (3 min)\n",
    "#@markdown ##复制代码库并安装运行环境\n",
    "#@markdown ##Clone repository & Build environment\n",
    "#! git clone https://github.com/Plachtaa/VITS-fast-fine-tuning.git\n",
    "!pip install imageio==2.4.1 -i https://pypi.tuna.tsinghua.edu.cn/simple\n",
    "!pip install --upgrade youtube-dl  -i https://pypi.tuna.tsinghua.edu.cn/simple\n",
    "!pip install moviepy  -i https://pypi.tuna.tsinghua.edu.cn/simple\n",
    "%cd VITS-fast-fine-tuning\n",
    "!pip install -r requirements.txt -i https://pypi.tuna.tsinghua.edu.cn/simple\n",
    "# build monotonic align\n",
    "%cd monotonic_align/\n",
    "!mkdir monotonic_align\n",
    "!python setup.py build_ext --inplace\n",
    "%cd ..\n",
    "!mkdir pretrained_models\n",
    "# download data for fine-tuning\n",
    "#!wget https://huggingface.co/datasets/Plachta/sampled_audio4ft/resolve/main/sampled_audio4ft_v2.zip\n",
    "#!unzip sampled_audio4ft_v2.zip\n",
    "# create necessary directories\n",
    "!mkdir video_data\n",
    "!mkdir raw_audio\n",
    "!mkdir denoised_audio\n",
    "!mkdir custom_character_voice\n",
    "!mkdir segmented_character_voice"
   ]
  },
  {
   "cell_type": "code",
   "execution_count": 2,
   "metadata": {
    "collapsed": true,
    "id": "2tzsb5mR6-d9",
    "jupyter": {
     "outputs_hidden": true
    },
    "tags": []
   },
   "outputs": [
    {
     "name": "stdout",
     "output_type": "stream",
     "text": [
      "--2023-05-10 22:57:35--  https://huggingface.co/spaces/sayashi/vits-uma-genshin-honkai/resolve/main/model/D_0-p.pth\n",
      "Resolving huggingface.co (huggingface.co)... 143.204.86.80, 143.204.86.120, 143.204.86.95, ...\n",
      "Connecting to huggingface.co (huggingface.co)|143.204.86.80|:443... connected.\n",
      "HTTP request sent, awaiting response... 307 Temporary Redirect\n",
      "Location: /spaces/zomehwh/vits-uma-genshin-honkai/resolve/main/model/D_0-p.pth [following]\n",
      "--2023-05-10 22:57:36--  https://huggingface.co/spaces/zomehwh/vits-uma-genshin-honkai/resolve/main/model/D_0-p.pth\n",
      "Reusing existing connection to huggingface.co:443.\n",
      "HTTP request sent, awaiting response... 302 Found\n",
      "Location: https://cdn-lfs.huggingface.co/repos/73/57/7357194223863ef0c28d9dd59386c0c4933f0105f0b51e2d107958e679c17cd6/afb0deef1470921019c7edff2e648eee4c35eeae6d4458d1b86fe2ad6c86a4e0?response-content-disposition=attachment%3B+filename*%3DUTF-8%27%27D_0-p.pth%3B+filename%3D%22D_0-p.pth%22%3B&Expires=1683987435&Policy=eyJTdGF0ZW1lbnQiOlt7IlJlc291cmNlIjoiaHR0cHM6Ly9jZG4tbGZzLmh1Z2dpbmdmYWNlLmNvL3JlcG9zLzczLzU3LzczNTcxOTQyMjM4NjNlZjBjMjhkOWRkNTkzODZjMGM0OTMzZjAxMDVmMGI1MWUyZDEwNzk1OGU2NzljMTdjZDYvYWZiMGRlZWYxNDcwOTIxMDE5YzdlZGZmMmU2NDhlZWU0YzM1ZWVhZTZkNDQ1OGQxYjg2ZmUyYWQ2Yzg2YTRlMD9yZXNwb25zZS1jb250ZW50LWRpc3Bvc2l0aW9uPSoiLCJDb25kaXRpb24iOnsiRGF0ZUxlc3NUaGFuIjp7IkFXUzpFcG9jaFRpbWUiOjE2ODM5ODc0MzV9fX1dfQ__&Signature=hK3uxJ2r0ay7dv%7EVVHArwAk1LcGsl7rjPGKXrzaYovl-SHfac3CfrV3cVd%7Efiu6pghMW3miIGMf1D3WkE4N8wcUJq029-82s48gB-ABLnusDkomDNLuDLLrz%7E-XEIQQNGD9nIPdJmxGlm-z%7EP0BxMCz6TDrTPGaBv2xMlbfVLviKZw%7EzgxUepdGIlywoV6NGhfdDcEYL8dIBaCAiKGGKIyLJM%7EMMdUJ4m9obOUc6colWWYtGSLkYK2LWoqFE%7EhaBAJOgBhM6t1F1w7A00UTOTR3AJFzkNZ9p2aY6e%7EfIhbZQnSX3yrVTQuAsnlDrj%7EOJOVyvQweIKkTpDozA4wUCbg__&Key-Pair-Id=KVTP0A1DKRTAX [following]\n",
      "--2023-05-10 22:57:36--  https://cdn-lfs.huggingface.co/repos/73/57/7357194223863ef0c28d9dd59386c0c4933f0105f0b51e2d107958e679c17cd6/afb0deef1470921019c7edff2e648eee4c35eeae6d4458d1b86fe2ad6c86a4e0?response-content-disposition=attachment%3B+filename*%3DUTF-8%27%27D_0-p.pth%3B+filename%3D%22D_0-p.pth%22%3B&Expires=1683987435&Policy=eyJTdGF0ZW1lbnQiOlt7IlJlc291cmNlIjoiaHR0cHM6Ly9jZG4tbGZzLmh1Z2dpbmdmYWNlLmNvL3JlcG9zLzczLzU3LzczNTcxOTQyMjM4NjNlZjBjMjhkOWRkNTkzODZjMGM0OTMzZjAxMDVmMGI1MWUyZDEwNzk1OGU2NzljMTdjZDYvYWZiMGRlZWYxNDcwOTIxMDE5YzdlZGZmMmU2NDhlZWU0YzM1ZWVhZTZkNDQ1OGQxYjg2ZmUyYWQ2Yzg2YTRlMD9yZXNwb25zZS1jb250ZW50LWRpc3Bvc2l0aW9uPSoiLCJDb25kaXRpb24iOnsiRGF0ZUxlc3NUaGFuIjp7IkFXUzpFcG9jaFRpbWUiOjE2ODM5ODc0MzV9fX1dfQ__&Signature=hK3uxJ2r0ay7dv%7EVVHArwAk1LcGsl7rjPGKXrzaYovl-SHfac3CfrV3cVd%7Efiu6pghMW3miIGMf1D3WkE4N8wcUJq029-82s48gB-ABLnusDkomDNLuDLLrz%7E-XEIQQNGD9nIPdJmxGlm-z%7EP0BxMCz6TDrTPGaBv2xMlbfVLviKZw%7EzgxUepdGIlywoV6NGhfdDcEYL8dIBaCAiKGGKIyLJM%7EMMdUJ4m9obOUc6colWWYtGSLkYK2LWoqFE%7EhaBAJOgBhM6t1F1w7A00UTOTR3AJFzkNZ9p2aY6e%7EfIhbZQnSX3yrVTQuAsnlDrj%7EOJOVyvQweIKkTpDozA4wUCbg__&Key-Pair-Id=KVTP0A1DKRTAX\n",
      "Resolving cdn-lfs.huggingface.co (cdn-lfs.huggingface.co)... 65.9.42.11, 65.9.42.100, 65.9.42.122, ...\n",
      "Connecting to cdn-lfs.huggingface.co (cdn-lfs.huggingface.co)|65.9.42.11|:443... connected.\n",
      "HTTP request sent, awaiting response... 200 OK\n",
      "Length: 187022499 (178M) [binary/octet-stream]\n",
      "Saving to: ‘./pretrained_models/D_0.pth’\n",
      "\n",
      "./pretrained_models 100%[===================>] 178.36M  2.21MB/s    in 27m 19s \n",
      "\n",
      "2023-05-10 23:24:57 (111 KB/s) - ‘./pretrained_models/D_0.pth’ saved [187022499/187022499]\n",
      "\n",
      "--2023-05-10 23:24:57--  https://huggingface.co/spaces/sayashi/vits-uma-genshin-honkai/resolve/main/model/G_0-p.pth\n",
      "Resolving huggingface.co (huggingface.co)... 143.204.86.120, 143.204.86.95, 143.204.86.80, ...\n",
      "Connecting to huggingface.co (huggingface.co)|143.204.86.120|:443... connected.\n",
      "HTTP request sent, awaiting response... 307 Temporary Redirect\n",
      "Location: /spaces/zomehwh/vits-uma-genshin-honkai/resolve/main/model/G_0-p.pth [following]\n",
      "--2023-05-10 23:24:58--  https://huggingface.co/spaces/zomehwh/vits-uma-genshin-honkai/resolve/main/model/G_0-p.pth\n",
      "Reusing existing connection to huggingface.co:443.\n",
      "HTTP request sent, awaiting response... 302 Found\n",
      "Location: https://cdn-lfs.huggingface.co/repos/73/57/7357194223863ef0c28d9dd59386c0c4933f0105f0b51e2d107958e679c17cd6/18915a2f2021f39cea821795fa78c8145e3a9fbcc0ef72744b478b7fb403304d?response-content-disposition=attachment%3B+filename*%3DUTF-8%27%27G_0-p.pth%3B+filename%3D%22G_0-p.pth%22%3B&Expires=1683991227&Policy=eyJTdGF0ZW1lbnQiOlt7IlJlc291cmNlIjoiaHR0cHM6Ly9jZG4tbGZzLmh1Z2dpbmdmYWNlLmNvL3JlcG9zLzczLzU3LzczNTcxOTQyMjM4NjNlZjBjMjhkOWRkNTkzODZjMGM0OTMzZjAxMDVmMGI1MWUyZDEwNzk1OGU2NzljMTdjZDYvMTg5MTVhMmYyMDIxZjM5Y2VhODIxNzk1ZmE3OGM4MTQ1ZTNhOWZiY2MwZWY3Mjc0NGI0NzhiN2ZiNDAzMzA0ZD9yZXNwb25zZS1jb250ZW50LWRpc3Bvc2l0aW9uPSoiLCJDb25kaXRpb24iOnsiRGF0ZUxlc3NUaGFuIjp7IkFXUzpFcG9jaFRpbWUiOjE2ODM5OTEyMjd9fX1dfQ__&Signature=HqNzMSgGOKViZxjoKzW3eorC%7Ex5XWdobvd8OOx7560h8QtHFavZ62sckboKm8CQsFlfti9gy2XPX-yPyRoLK5yi5IxJSb3rmBWpZ6ngdyyLK3O6ac-jJ1lB6sb5HycHkcqzwE7pZoohzR5nJ0em1NhXOeME81jasVn4qw4dZE4CGnYswV-BrUmPjVxo0NcnLw82kGbEdaw1uaWmvnO71pA-WONWByEsqNR22lUwswJGR1%7EEz7GoQ67jTRlcWeshvdJw0KNNTgbtueOI91wpc3fTed8QAFQ4yEq28V4GwkvT2TyNBo8GeV5oiME28tMkE%7Ey7q0g1A289fUdqoqoQvGg__&Key-Pair-Id=KVTP0A1DKRTAX [following]\n",
      "--2023-05-10 23:24:59--  https://cdn-lfs.huggingface.co/repos/73/57/7357194223863ef0c28d9dd59386c0c4933f0105f0b51e2d107958e679c17cd6/18915a2f2021f39cea821795fa78c8145e3a9fbcc0ef72744b478b7fb403304d?response-content-disposition=attachment%3B+filename*%3DUTF-8%27%27G_0-p.pth%3B+filename%3D%22G_0-p.pth%22%3B&Expires=1683991227&Policy=eyJTdGF0ZW1lbnQiOlt7IlJlc291cmNlIjoiaHR0cHM6Ly9jZG4tbGZzLmh1Z2dpbmdmYWNlLmNvL3JlcG9zLzczLzU3LzczNTcxOTQyMjM4NjNlZjBjMjhkOWRkNTkzODZjMGM0OTMzZjAxMDVmMGI1MWUyZDEwNzk1OGU2NzljMTdjZDYvMTg5MTVhMmYyMDIxZjM5Y2VhODIxNzk1ZmE3OGM4MTQ1ZTNhOWZiY2MwZWY3Mjc0NGI0NzhiN2ZiNDAzMzA0ZD9yZXNwb25zZS1jb250ZW50LWRpc3Bvc2l0aW9uPSoiLCJDb25kaXRpb24iOnsiRGF0ZUxlc3NUaGFuIjp7IkFXUzpFcG9jaFRpbWUiOjE2ODM5OTEyMjd9fX1dfQ__&Signature=HqNzMSgGOKViZxjoKzW3eorC%7Ex5XWdobvd8OOx7560h8QtHFavZ62sckboKm8CQsFlfti9gy2XPX-yPyRoLK5yi5IxJSb3rmBWpZ6ngdyyLK3O6ac-jJ1lB6sb5HycHkcqzwE7pZoohzR5nJ0em1NhXOeME81jasVn4qw4dZE4CGnYswV-BrUmPjVxo0NcnLw82kGbEdaw1uaWmvnO71pA-WONWByEsqNR22lUwswJGR1%7EEz7GoQ67jTRlcWeshvdJw0KNNTgbtueOI91wpc3fTed8QAFQ4yEq28V4GwkvT2TyNBo8GeV5oiME28tMkE%7Ey7q0g1A289fUdqoqoQvGg__&Key-Pair-Id=KVTP0A1DKRTAX\n",
      "Resolving cdn-lfs.huggingface.co (cdn-lfs.huggingface.co)... 13.33.174.80, 13.33.174.84, 13.33.174.103, ...\n",
      "Connecting to cdn-lfs.huggingface.co (cdn-lfs.huggingface.co)|13.33.174.80|:443... connected.\n",
      "HTTP request sent, awaiting response... 200 OK\n",
      "Length: 158856783 (151M) [binary/octet-stream]\n",
      "Saving to: ‘./pretrained_models/G_0.pth’\n",
      "\n",
      "./pretrained_models 100%[===================>] 151.50M  5.74MB/s    in 26s     \n",
      "\n",
      "2023-05-10 23:25:25 (5.86 MB/s) - ‘./pretrained_models/G_0.pth’ saved [158856783/158856783]\n",
      "\n",
      "--2023-05-10 23:25:25--  https://huggingface.co/spaces/sayashi/vits-uma-genshin-honkai/resolve/main/model/config.json\n",
      "Resolving huggingface.co (huggingface.co)... 143.204.86.120, 143.204.86.95, 143.204.86.80, ...\n",
      "Connecting to huggingface.co (huggingface.co)|143.204.86.120|:443... connected.\n",
      "HTTP request sent, awaiting response... 307 Temporary Redirect\n",
      "Location: /spaces/zomehwh/vits-uma-genshin-honkai/resolve/main/model/config.json [following]\n",
      "--2023-05-10 23:25:26--  https://huggingface.co/spaces/zomehwh/vits-uma-genshin-honkai/resolve/main/model/config.json\n",
      "Reusing existing connection to huggingface.co:443.\n",
      "HTTP request sent, awaiting response... 200 OK\n",
      "Length: 22375 (22K) [text/plain]\n",
      "Saving to: ‘./configs/finetune_speaker.json’\n",
      "\n",
      "./configs/finetune_ 100%[===================>]  21.85K  --.-KB/s    in 0s      \n",
      "\n",
      "2023-05-10 23:25:26 (280 MB/s) - ‘./configs/finetune_speaker.json’ saved [22375/22375]\n",
      "\n"
     ]
    }
   ],
   "source": [
    "#@title STEP 1.5 选择预训练模型\n",
    "#@markdown ###STEP 1.5 选择预训练模型  \n",
    "#@markdown ###Choose pretrained model to start  \n",
    "#@markdown CJE为中日英三语模型，CJ为中日双语模型  \n",
    "\n",
    "#@markdown CJE for Chinese, Japanese & English model，CJ for Chinese & Japanese model\n",
    "PRETRAINED_MODEL = \"CJ\" #@param [\"CJE\",\"CJ\"]\n",
    "if PRETRAINED_MODEL == \"CJ\":\n",
    "  !wget https://huggingface.co/spaces/sayashi/vits-uma-genshin-honkai/resolve/main/model/D_0-p.pth -O ./pretrained_models/D_0.pth\n",
    "  !wget https://huggingface.co/spaces/sayashi/vits-uma-genshin-honkai/resolve/main/model/G_0-p.pth -O ./pretrained_models/G_0.pth\n",
    "  !wget https://huggingface.co/spaces/sayashi/vits-uma-genshin-honkai/resolve/main/model/config.json -O ./configs/finetune_speaker.json\n",
    "elif PRETRAINED_MODEL == \"CJE\":\n",
    "  !wget https://huggingface.co/spaces/Plachta/VITS-Umamusume-voice-synthesizer/resolve/main/pretrained_models/D_trilingual.pth -O ./pretrained_models/D_0.pth\n",
    "  !wget https://huggingface.co/spaces/Plachta/VITS-Umamusume-voice-synthesizer/resolve/main/pretrained_models/G_trilingual.pth -O ./pretrained_models/G_0.pth\n",
    "  !wget https://huggingface.co/spaces/Plachta/VITS-Umamusume-voice-synthesizer/resolve/main/configs/uma_trilingual.json -O ./configs/finetune_speaker.json"
   ]
  },
  {
   "cell_type": "code",
   "execution_count": null,
   "metadata": {
    "cellView": "form",
    "id": "j1Q43oXND7Ih"
   },
   "outputs": [],
   "source": [
    "#@title （可选）加载Google云端硬盘 / Mount Google drive\n",
    "#@title (optional) \n",
    "\n",
    "#@markdown 加载Google云端硬盘（更快地上传数据集文件）  \n",
    "\n",
    "#@markdown Mount Google drive for faster data upload\n",
    "from google.colab import drive\n",
    "drive.mount('/content/drive')"
   ]
  },
  {
   "cell_type": "markdown",
   "metadata": {
    "id": "Z5G1jozPFd6p"
   },
   "source": [
    "## STEP 2 上传您的角色音频数据  \n",
    "## Upload your character voices\n",
    "见[数据集上传选项](https://github.com/Plachtaa/VITS-fast-fine-tuning/blob/main/DATA.MD)  \n",
    "See [data upload options](https://github.com/Plachtaa/VITS-fast-fine-tuning/blob/main/DATA_EN.MD)\n"
   ]
  },
  {
   "cell_type": "markdown",
   "metadata": {
    "id": "Wjpr__yCPp_J"
   },
   "source": [
    "###STEP 2.1 上传短音频\n",
    "### Short audio upload"
   ]
  },
  {
   "cell_type": "code",
   "execution_count": null,
   "metadata": {
    "id": "hmNHnpBL5sgF"
   },
   "outputs": [],
   "source": [
    "#@markdown 上传选项1：运行该代码块会出现一个文件上传的入口  \n",
    "\n",
    "#@markdown Upload option 1: Running this code block will prompt you to upload a file.\n",
    "%run voice_upload.py --type zip\n",
    "!unzip ./custom_character_voice/custom_character_voice.zip -d ./custom_character_voice/"
   ]
  },
  {
   "cell_type": "code",
   "execution_count": null,
   "metadata": {
    "id": "YOfe2ercNLal"
   },
   "outputs": [],
   "source": [
    "#@markdown 上传选项2：若您装载了Google云端硬盘，可以直接从Google云端硬盘加载文件。将`.zip`文件上传云端硬盘后，在下面填写文件路径：  \n",
    "\n",
    "#@markdown Upload option 2: If you have mounted Google drive, you can load your files from Google drive directly. After uploading your `.zip` file to Google drive, fill in the path to your file below:\n",
    "ZIP_PATH = \"../drive/MyDrive/samples.zip\"  #@param {type:\"string\"}\n",
    "!cp {ZIP_PATH} ./custom_character_voice/custom_character_voice.zip\n",
    "!unzip ./custom_character_voice/custom_character_voice.zip -d ./custom_character_voice/"
   ]
  },
  {
   "cell_type": "markdown",
   "metadata": {
    "id": "FLGkhbvhP33f"
   },
   "source": [
    "### STEP 2.2 上传长音频 （单个不应长于20分钟）\n",
    "### Long audio upload"
   ]
  },
  {
   "cell_type": "code",
   "execution_count": 5,
   "metadata": {
    "id": "unvLB7zrQTVA"
   },
   "outputs": [
    {
     "ename": "ModuleNotFoundError",
     "evalue": "No module named 'google.colab'",
     "output_type": "error",
     "traceback": [
      "\u001b[0;31m---------------------------------------------------------------------------\u001b[0m",
      "\u001b[0;31mModuleNotFoundError\u001b[0m                       Traceback (most recent call last)",
      "\u001b[0;32m~/VITS-fast-fine-tuning/voice_upload.py\u001b[0m in \u001b[0;36m<module>\u001b[0;34m\u001b[0m\n\u001b[0;32m----> 1\u001b[0;31m \u001b[0;32mfrom\u001b[0m \u001b[0mgoogle\u001b[0m\u001b[0;34m.\u001b[0m\u001b[0mcolab\u001b[0m \u001b[0;32mimport\u001b[0m \u001b[0mfiles\u001b[0m\u001b[0;34m\u001b[0m\u001b[0;34m\u001b[0m\u001b[0m\n\u001b[0m\u001b[1;32m      2\u001b[0m \u001b[0;32mimport\u001b[0m \u001b[0mshutil\u001b[0m\u001b[0;34m\u001b[0m\u001b[0;34m\u001b[0m\u001b[0m\n\u001b[1;32m      3\u001b[0m \u001b[0;32mimport\u001b[0m \u001b[0mos\u001b[0m\u001b[0;34m\u001b[0m\u001b[0;34m\u001b[0m\u001b[0m\n\u001b[1;32m      4\u001b[0m \u001b[0;32mimport\u001b[0m \u001b[0margparse\u001b[0m\u001b[0;34m\u001b[0m\u001b[0;34m\u001b[0m\u001b[0m\n\u001b[1;32m      5\u001b[0m \u001b[0;32mif\u001b[0m \u001b[0m__name__\u001b[0m \u001b[0;34m==\u001b[0m \u001b[0;34m\"__main__\"\u001b[0m\u001b[0;34m:\u001b[0m\u001b[0;34m\u001b[0m\u001b[0;34m\u001b[0m\u001b[0m\n",
      "\u001b[0;31mModuleNotFoundError\u001b[0m: No module named 'google.colab'"
     ]
    }
   ],
   "source": [
    "#@markdown 上传选项1：运行该代码块会出现一个文件上传的入口  \n",
    "\n",
    "#@markdown Upload option 1: Running this code block will prompt you to upload a file.\n",
    "%run voice_upload.py --type audio"
   ]
  },
  {
   "cell_type": "code",
   "execution_count": null,
   "metadata": {
    "id": "-GWXUozRTZsj"
   },
   "outputs": [],
   "source": [
    "#@markdown 上传选项2：若您装载了Google云端硬盘，可以直接从Google云端硬盘加载文件。将所有长音频文件上传至云端硬盘的同一个文件夹下，在下面填写文件夹路径：  \n",
    "\n",
    "#@markdown Upload option 2: If you have mounted Google drive, you can load your files from Google drive directly. Put all the long audios under one folder, and fill in the path to your folder below:\n",
    "AUDIO_FOLDER_PATH = \"../drive/MyDrive/long_audios/\"  #@param {type:\"string\"}\n",
    "!cp {AUDIO_FOLDER_PATH}/* ./raw_audio/"
   ]
  },
  {
   "cell_type": "markdown",
   "metadata": {
    "id": "5IDg3hAgWY0T"
   },
   "source": [
    "### STEP 2.3 上传视频（单个不应长于20分钟）\n",
    "### Video upload"
   ]
  },
  {
   "cell_type": "code",
   "execution_count": null,
   "metadata": {
    "id": "A4Fk-06bXq7b"
   },
   "outputs": [],
   "source": [
    "#@markdown 上传选项1：运行该代码块会出现一个文件上传的入口  \n",
    "\n",
    "#@markdown Upload option 1: Running this code block will prompt you to upload a file.\n",
    "%run voice_upload.py --type video"
   ]
  },
  {
   "cell_type": "code",
   "execution_count": null,
   "metadata": {
    "id": "VuDsoW84X3BK"
   },
   "outputs": [],
   "source": [
    "#@markdown 上传选项2：若您装载了Google云端硬盘，可以直接从Google云端硬盘加载文件。将所有视频文件上传至云端硬盘的同一个文件夹下，在下面填写文件夹路径:  \n",
    "\n",
    "#@markdown Upload option 2: If you have mounted Google drive, you can load your files from Google drive directly. Put all the videos under one folder, and fill in the path to your folder below:\n",
    "VIDEO_FOLDER_PATH = \"../drive/MyDrive/videos/\"  #@param {type:\"string\"}\n",
    "!cp {VIDEO_FOLDER_PATH}/* ./video_data/"
   ]
  },
  {
   "cell_type": "markdown",
   "metadata": {
    "id": "n1UxoAnoY8Cp"
   },
   "source": [
    "### STEP 2.4 上传视频链接（单个不应长于20分钟）\n",
    "### Video link upload"
   ]
  },
  {
   "cell_type": "code",
   "execution_count": null,
   "metadata": {
    "id": "ua_Blt02Cg97"
   },
   "outputs": [],
   "source": [
    "#@markdown 运行该代码块会出现一个文件上传的入口，上传单个`.txt`文件。若格式正确的话，视频会自动下载并将下载后的文件名打印在下方。  \n",
    "\n",
    "#@markdown Running this code block will prompt you to upload a file. \n",
    "#@markdown Please upload a single `.txt` file. If you have put the links in the correct format, \n",
    "#@markdown the videos will be automatically downloaded and displayed below.\n",
    "%run download_video.py\n",
    "!ls ./video_data/"
   ]
  },
  {
   "cell_type": "code",
   "execution_count": null,
   "metadata": {},
   "outputs": [],
   "source": []
  },
  {
   "cell_type": "markdown",
   "metadata": {
    "id": "YQGC-JyAaD2D"
   },
   "source": [
    "## STEP 3 自动处理所有上传的数据"
   ]
  },
  {
   "cell_type": "code",
   "execution_count": 7,
   "metadata": {},
   "outputs": [
    {
     "name": "stdout",
     "output_type": "stream",
     "text": [
      "[Errno 2] No such file or directory: 'VITS-fast-fine-tuning'\n",
      "/root/VITS-fast-fine-tuning\n"
     ]
    }
   ],
   "source": [
    "%cd VITS-fast-fine-tuning"
   ]
  },
  {
   "cell_type": "code",
   "execution_count": 4,
   "metadata": {},
   "outputs": [],
   "source": [
    "PRETRAINED_MODEL = \"CJ\""
   ]
  },
  {
   "cell_type": "code",
   "execution_count": 5,
   "metadata": {
    "id": "aJOO7VsPQf3G"
   },
   "outputs": [
    {
     "name": "stdout",
     "output_type": "stream",
     "text": [
      "\u001b[1mImportant: the default model was recently changed to `htdemucs`\u001b[0m the latest Hybrid Transformer Demucs model. In some cases, this model can actually perform worse than previous models. To get back the old default model use `-n mdx_extra_q`.\n",
      "Selected model is a bag of 1 models. You will see that many progress bars per track.\n",
      "Separated tracks will be stored in /root/VITS-fast-fine-tuning/separated/htdemucs\n",
      "Separating track raw_audio/Sxy_00001.wav\n",
      "100%|████████████████████████████████████████████████████████████████████████| 643.5/643.5 [00:15<00:00, 42.44seconds/s]\n",
      "\u001b[1mImportant: the default model was recently changed to `htdemucs`\u001b[0m the latest Hybrid Transformer Demucs model. In some cases, this model can actually perform worse than previous models. To get back the old default model use `-n mdx_extra_q`.\n",
      "Selected model is a bag of 1 models. You will see that many progress bars per track.\n",
      "Separated tracks will be stored in /root/VITS-fast-fine-tuning/separated/htdemucs\n",
      "Separating track raw_audio/Sxy_00002.wav\n",
      "100%|██████████████████████████████████████████████████████████████████████| 544.05/544.05 [00:13<00:00, 41.12seconds/s]\n",
      "\u001b[1mImportant: the default model was recently changed to `htdemucs`\u001b[0m the latest Hybrid Transformer Demucs model. In some cases, this model can actually perform worse than previous models. To get back the old default model use `-n mdx_extra_q`.\n",
      "Selected model is a bag of 1 models. You will see that many progress bars per track.\n",
      "Separated tracks will be stored in /root/VITS-fast-fine-tuning/separated/htdemucs\n",
      "Separating track raw_audio/Sxy_00003.wav\n",
      "100%|██████████████████████████████████████████████| 444.59999999999997/444.59999999999997 [00:11<00:00, 40.37seconds/s]\n"
     ]
    }
   ],
   "source": [
    "#@markdown 运行该单元格会对所有上传的数据进行自动去背景音&标注。 \n",
    "#@markdown 由于需要调用Whisper和Demucs，运行时间可能较长。  \n",
    "#@markdown Running this codeblock will perform automatic vocal seperation & annotation. \n",
    "#@markdown Since this step uses Whisper & Demucs, it may take a while to complete.\n",
    "# 将所有视频（无论是上传的还是下载的，且必须是.mp4格式）抽取音频\n",
    "%run video2audio.py\n",
    "# 将所有音频（无论是上传的还是从视频抽取的，必须是.wav格式）去噪\n",
    "!python denoise_audio.py\n"
   ]
  },
  {
   "cell_type": "code",
   "execution_count": 6,
   "metadata": {
    "tags": []
   },
   "outputs": [
    {
     "name": "stdout",
     "output_type": "stream",
     "text": [
      "CJ\n",
      "['Sxy_00001.wav', 'Sxy_00002.wav', 'Sxy_00003.wav']\n",
      "transcribing ./denoised_audio/Sxy_00001.wav...\n",
      "\n",
      "{'task': 'transcribe', 'beam_size': 5, 'best_of': 5}\n",
      "kkkk\n",
      "Transcribed segment: ./segmented_character_voice/Sxy/Sxy_00001_0.wav|Sxy|[ZH]我们所要介绍的是翔子,不是骆驼,因为骆驼只是个外号,那么我们就先说翔子,随手把骆驼与翔子那点关系说过去也就算了。[ZH]\n",
      "\n",
      "Transcribed segment: ./segmented_character_voice/Sxy/Sxy_00001_1.wav|Sxy|[ZH]北平的洋车夫有许多派,年轻力壮,腿脚灵力的,讲究漂亮的车,拉着整天爱什么时候出车与收车都有自由,拉出车来,在固定的车口或宅门一放,专等坐车,坐快车的主,弄好了,也许一下子弄个一两块,[ZH]\n",
      "\n",
      "Transcribed segment: ./segmented_character_voice/Sxy/Sxy_00001_2.wav|Sxy|[ZH]碰巧了也许白号一天连车份也没落着,但也不在乎,这一派哥们的大希望大概有两个,或是拉包车,或是自己买上辆车,有了自己的车,再去拉包月或者散座就没多大关系了,反正是自己的车。[ZH]\n",
      "\n",
      "Transcribed segment: ./segmented_character_voice/Sxy/Sxy_00001_3.wav|Sxy|[ZH]以这一派最处稍大的,或因身体关系而跑得稍微差点点的,或因家庭关系而不敢白号一天的,大概就是多数拉车,拉八成星的车,人与车都有相当漂亮的,所以在要价的时候也还能保持住相当的尊严。[ZH]\n",
      "\n",
      "Transcribed segment: ./segmented_character_voice/Sxy/Sxy_00001_4.wav|Sxy|[ZH]这派的车夫,也许拉整天,也许拉半天,在后者的情景下,因为还有相当的精气神,所以无论冬天、夏天总是拉晚儿。[ZH]\n",
      "\n",
      "Transcribed segment: ./segmented_character_voice/Sxy/Sxy_00001_5.wav|Sxy|[ZH]夜间,当然也比白天需要更多留神于本事,前自然也多挣一些,年纪在四十以上二十以下的,恐怕就不易在前两派里有个第二位了。[ZH]\n",
      "\n",
      "Transcribed segment: ./segmented_character_voice/Sxy/Sxy_00001_6.wav|Sxy|[ZH]他们的破车又不敢拉晚,所以只能早早地出车,希望能从清晨转到午后三四点,拉出车份儿和自己的脚骨。[ZH]\n",
      "\n",
      "Transcribed segment: ./segmented_character_voice/Sxy/Sxy_00001_7.wav|Sxy|[ZH]他们的车破,跑得慢,所以得多走路,少要钱,到瓜市、果市、菜市去拉货物,都是他们,钱少,可是无需跑快呢。[ZH]\n",
      "\n",
      "Transcribed segment: ./segmented_character_voice/Sxy/Sxy_00001_8.wav|Sxy|[ZH]在这里,二十以下的,有的从十一、二岁就干这行,很少能干到二十岁以后,改变成漂亮车夫的,因为在幼年受了伤,很难健壮起来。[ZH]\n",
      "\n",
      "Transcribed segment: ./segmented_character_voice/Sxy/Sxy_00001_9.wav|Sxy|[ZH]也许,他们也许拉一辈子洋车,而一辈子连拉车也没出过风头,那四十以上的人,有的已是拉了十年八年的车,筋肉的衰损使他们单居人后,他们渐渐知道早晚是个一个跟头会死在马路上。[ZH]\n",
      "\n",
      "Transcribed segment: ./segmented_character_voice/Sxy/Sxy_00001_10.wav|Sxy|[ZH]他们的拉车姿势,讲驾驶的随机应变,走路的超近绕远,都足以让他们想起过去的荣光,而用鼻翅而扇着那些后起之辈,可这些荣光丝毫不能减少将来的黑暗。[ZH]\n",
      "\n",
      "Transcribed segment: ./segmented_character_voice/Sxy/Sxy_00001_11.wav|Sxy|[ZH]他们自己也因此在擦着汗的时节常常微叹,不过,他们比较另一些四十岁上下的车夫,他们似乎还没有苦到家,这一些以前绝没有想到自己能与洋车发生关系了,而到生和死的界线已经分不清,才抄起车把来的。[ZH]\n",
      "\n",
      "Transcribed segment: ./segmented_character_voice/Sxy/Sxy_00001_12.wav|Sxy|[ZH]被拆,被撤差,巡检或教育,把本钱吃光的小贩,或者失业的工人,到了卖无可卖,当无可当的时候,咬着牙,含着泪,走上了这条死亡之路。[ZH]\n",
      "\n",
      "Transcribed segment: ./segmented_character_voice/Sxy/Sxy_00001_13.wav|Sxy|[ZH]这些人,生命最先壮的时候已经卖掉,现在再把窝窝头变成血汗滴在马路上,没有力气,没有经验,没有朋友,就是在同花当中也得不到好气。[ZH]\n",
      "\n",
      "Transcribed segment: ./segmented_character_voice/Sxy/Sxy_00001_14.wav|Sxy|[ZH]他们拉最破的车,脾态不一定一天泄多少次气,一边拉着人,一边还得要求别人的原谅,虽然十五个大童子已经算是甜买卖,此外,环境与知识的特异,又是一部分车夫另成一派,身于西苑海淀的自然,以西山、滇津、清华。[ZH]\n",
      "\n",
      "Transcribed segment: ./segmented_character_voice/Sxy/Sxy_00001_15.wav|Sxy|[ZH]比较方便,同样在安定门外的走清河、北苑,在永定门外的走南苑,这是跑长趟的,不愿意拉邻座,因为拉一趟便是一趟,不屑于三五个童子凑穷了。[ZH]\n",
      "\n",
      "Transcribed segment: ./segmented_character_voice/Sxy/Sxy_00001_16.wav|Sxy|[ZH]可是,他们还不如东交巷、明江的车夫气长,这些专门拉洋买卖,讲究一切,明交拉到巷,拉到玉泉山,宜阁园或西山,气长也还算小事,一般车夫万不能争抢这项生意的原因,大半还是因为这些吃洋饭的,是有点与众不同知识。[ZH]\n",
      "\n",
      "Transcribed segment: ./segmented_character_voice/Sxy/Sxy_00001_17.wav|Sxy|[ZH]他们会说外国话,英国兵、法国兵,所说的万寿山、雍和宫,八大胡同,他们都晓得,他们自己有一套外国话,不外传,授给别人。[ZH]\n",
      "\n",
      "Transcribed segment: ./segmented_character_voice/Sxy/Sxy_00001_18.wav|Sxy|[ZH]他们的跑法也特别,四六步而绝,不快不慢,低着头,目不旁视地,贴着马路边走,带出与世无争而自有专长的神迹。[ZH]\n",
      "\n",
      "Transcribed segment: ./segmented_character_voice/Sxy/Sxy_00001_19.wav|Sxy|[ZH]因为拉着羊肋,他们可以不穿好看,而一律是长袖小白挂,白的或黑的裤子,裤筒特别肥,脚腕上系着细带,脚上是宽双脸千层笛,轻不斜,干净、利落、神细。[ZH]\n",
      "\n",
      "Transcribed segment: ./segmented_character_voice/Sxy/Sxy_00001_20.wav|Sxy|[ZH]一件这样的服装,别的车夫不会再过来争坐与赛车,他们似乎是属于另一行业的。[ZH]\n",
      "\n",
      "Transcribed segment: ./segmented_character_voice/Sxy/Sxy_00001_21.wav|Sxy|[ZH]有了这点简单的分析,我们再说翔子的地位,就像说我们希望一盘机器上的某种钉子那么准确了。[ZH]\n",
      "\n",
      "Transcribed segment: ./segmented_character_voice/Sxy/Sxy_00001_22.wav|Sxy|[ZH]翔子在骆驼这个称号发生关系以前,是个比较自由的洋车夫,也就是说,他是属于年轻力壮,而且自己有车的那一类,自己的车、自己的生活,都在自己手里,高等车夫。[ZH]\n",
      "\n",
      "Transcribed segment: ./segmented_character_voice/Sxy/Sxy_00001_23.wav|Sxy|[ZH]这可不是件容易的事。[ZH]\n",
      "\n",
      "Transcribed segment: ./segmented_character_voice/Sxy/Sxy_00001_24.wav|Sxy|[ZH]一年、两年,至少有三四年,一滴汗、两滴汗,不知道多少万滴汗,才能挣出那辆车,从风里、雨里的咬牙,从饭里、茶里的自苦,才赚出那辆车。[ZH]\n",
      "\n",
      "Transcribed segment: ./segmented_character_voice/Sxy/Sxy_00001_25.wav|Sxy|[ZH]那辆车是他一切挣扎与困苦的总结果与报酬,像身心满占的武士的一颗勋章。[ZH]\n",
      "\n",
      "Transcribed segment: ./segmented_character_voice/Sxy/Sxy_00001_26.wav|Sxy|[ZH]在他拎人家的车的时候,他从早到晚,从东到西,从南到北,像被人家抽着转的骆驼,他没有自己,可在这种旋转中,他的眼并没有花,心并没有乱。[ZH]\n",
      "\n",
      "Transcribed segment: ./segmented_character_voice/Sxy/Sxy_00001_27.wav|Sxy|[ZH]他老想着远远的一辆车,可以使他自由、独立,像自己的手脚那样的一辆车,有了自己的车,他可以不再受衰逝的人们的气,也无需敷衍别人。[ZH]\n",
      "\n",
      "Transcribed segment: ./segmented_character_voice/Sxy/Sxy_00001_28.wav|Sxy|[ZH]有自己的力气与洋车,睁开眼就可以有饭吃。[ZH]\n",
      "\n",
      "Transcribed segment: ./segmented_character_voice/Sxy/Sxy_00001_29.wav|Sxy|[ZH]他不怕吃苦,也没有一般洋夫的可以原谅而不便效仿的恶行,他的聪明和努力都足以使他的志愿成为事实。[ZH]\n",
      "\n",
      "Transcribed segment: ./segmented_character_voice/Sxy/Sxy_00001_30.wav|Sxy|[ZH]假若他的环境好一些,或多受点教育,他一定不会落在娇婢团里,而无论是干什么,他总不会辜负了他的机会,不幸,他必须拉洋车。[ZH]\n",
      "\n",
      "Transcribed segment: ./segmented_character_voice/Sxy/Sxy_00001_31.wav|Sxy|[ZH]好,在这个身影里,他也证明出他的能力与聪明,仿佛他仿佛就是在地狱里也能做个好鬼似的。[ZH]\n",
      "\n",
      "Transcribed segment: ./segmented_character_voice/Sxy/Sxy_00001_32.wav|Sxy|[ZH]生长在乡边,失去了父母与姬母薄田,十八岁的时候便跑到城里来,带着乡边小伙子的族,族状已成识,凡是以卖力气就能吃饭的事,他几乎全做过了。[ZH]\n",
      "\n",
      "Transcribed segment: ./segmented_character_voice/Sxy/Sxy_00001_33.wav|Sxy|[ZH]可是,不久他就看出,拉车是件更容易挣钱的事。[ZH]\n",
      "\n",
      "Transcribed segment: ./segmented_character_voice/Sxy/Sxy_00001_34.wav|Sxy|[ZH]做别的苦工,收入是有限的,拉车多着一些变化与机会,不知道在什么时候与地点就会遇到一些多余希望的报酬。[ZH]\n",
      "\n",
      "Transcribed segment: ./segmented_character_voice/Sxy/Sxy_00001_35.wav|Sxy|[ZH]自然,他也晓得这样的机遇,不完全出于偶然,而必须人与车都得漂亮精神,有货可卖才能遇到实货的人。[ZH]\n",
      "\n",
      "Transcribed segment: ./segmented_character_voice/Sxy/Sxy_00001_36.wav|Sxy|[ZH]想了一想,他相信自己有那个资格,他有力气,年纪正轻,所差的还是是他还没有跑过,与不敢一上手就拉漂亮车。[ZH]\n",
      "\n",
      "Transcribed segment: ./segmented_character_voice/Sxy/Sxy_00001_37.wav|Sxy|[ZH]但这不是不能胜过的困难,他有身体与力气做基础,他只要试验个十天半个月的,就一定能跑得有个样子,然后去另一辆新车,说不定很快就能拉上包车,然后省吃俭用一年两年,即便是三四年,他必定能打上一辆车,顶漂亮的车。[ZH]\n",
      "\n",
      "Transcribed segment: ./segmented_character_voice/Sxy/Sxy_00001_38.wav|Sxy|[ZH]望着自己年轻的肌肉,他以为这只是时间问题,这是必能达到的一个志愿与目的,绝不是梦想。[ZH]\n",
      "\n",
      "transcribing ./denoised_audio/Sxy_00002.wav...\n",
      "\n",
      "{'task': 'transcribe', 'beam_size': 5, 'best_of': 5}\n",
      "kkkk\n",
      "Transcribed segment: ./segmented_character_voice/Sxy/Sxy_00002_0.wav|Sxy|[ZH]2003年是大英博物馆建馆250周年[ZH]\n",
      "\n",
      "Transcribed segment: ./segmented_character_voice/Sxy/Sxy_00002_1.wav|Sxy|[ZH]当前博物馆的宗旨是立足于国际学术中心[ZH]\n",
      "\n",
      "Transcribed segment: ./segmented_character_voice/Sxy/Sxy_00002_2.wav|Sxy|[ZH]在最广泛的意义上传播知识、教育公众[ZH]\n",
      "\n",
      "Transcribed segment: ./segmented_character_voice/Sxy/Sxy_00002_3.wav|Sxy|[ZH]实现这一目标的途径包括馆内展览、馆藏出界[ZH]\n",
      "\n",
      "Transcribed segment: ./segmented_character_voice/Sxy/Sxy_00002_4.wav|Sxy|[ZH]举办充满活力的讲座和研讨会[ZH]\n",
      "\n",
      "Transcribed segment: ./segmented_character_voice/Sxy/Sxy_00002_5.wav|Sxy|[ZH]以及大量出版文章和书籍[ZH]\n",
      "\n",
      "Transcribed segment: ./segmented_character_voice/Sxy/Sxy_00002_6.wav|Sxy|[ZH]早在建馆初期的18世纪[ZH]\n",
      "\n",
      "Transcribed segment: ./segmented_character_voice/Sxy/Sxy_00002_7.wav|Sxy|[ZH]博物馆就开始认真地收集、展出、储藏和保存人类的作品[ZH]\n",
      "\n",
      "Transcribed segment: ./segmented_character_voice/Sxy/Sxy_00002_8.wav|Sxy|[ZH]那时也包括了大自然的作品[ZH]\n",
      "\n",
      "Transcribed segment: ./segmented_character_voice/Sxy/Sxy_00002_9.wav|Sxy|[ZH]当时正是启蒙时期[ZH]\n",
      "\n",
      "Transcribed segment: ./segmented_character_voice/Sxy/Sxy_00002_10.wav|Sxy|[ZH]正如1761年第一本《博物馆指南》中所写的那样[ZH]\n",
      "\n",
      "Transcribed segment: ./segmented_character_voice/Sxy/Sxy_00002_11.wav|Sxy|[ZH]求知欲几乎遍及全球[ZH]\n",
      "\n",
      "Transcribed segment: ./segmented_character_voice/Sxy/Sxy_00002_12.wav|Sxy|[ZH]而保存这一时代丰富的知识最佳的途径[ZH]\n",
      "\n",
      "Transcribed segment: ./segmented_character_voice/Sxy/Sxy_00002_13.wav|Sxy|[ZH]在1940年代,大英博物馆的成功发展[ZH]\n",
      "\n",
      "Transcribed segment: ./segmented_character_voice/Sxy/Sxy_00002_14.wav|Sxy|[ZH]莫过于在每一个国家都建立像大英博物馆一样的收藏机构[ZH]\n",
      "\n",
      "Transcribed segment: ./segmented_character_voice/Sxy/Sxy_00002_15.wav|Sxy|[ZH]大英博物馆从来都不是一个仅仅收藏英国文物的博物馆[ZH]\n",
      "\n",
      "Transcribed segment: ./segmented_character_voice/Sxy/Sxy_00002_16.wav|Sxy|[ZH]实际上建馆的头100年中,英国本土的藏品相当少[ZH]\n",
      "\n",
      "Transcribed segment: ./segmented_character_voice/Sxy/Sxy_00002_17.wav|Sxy|[ZH]从一开始,博物馆的兴趣就遍及全球[ZH]\n",
      "\n",
      "Transcribed segment: ./segmented_character_voice/Sxy/Sxy_00002_18.wav|Sxy|[ZH]但纵览今日馆藏[ZH]\n",
      "\n",
      "Transcribed segment: ./segmented_character_voice/Sxy/Sxy_00002_19.wav|Sxy|[ZH]无论就文化地域或年代范围而言[ZH]\n",
      "\n",
      "Transcribed segment: ./segmented_character_voice/Sxy/Sxy_00002_20.wav|Sxy|[ZH]大英博物馆藏品之均衡全面都首屈一指[ZH]\n",
      "\n",
      "Transcribed segment: ./segmented_character_voice/Sxy/Sxy_00002_21.wav|Sxy|[ZH]由于馆藏浩瀚[ZH]\n",
      "\n",
      "Transcribed segment: ./segmented_character_voice/Sxy/Sxy_00002_22.wav|Sxy|[ZH]许多短期展览都不必向其他博物馆租借[ZH]\n",
      "\n",
      "Transcribed segment: ./segmented_character_voice/Sxy/Sxy_00002_23.wav|Sxy|[ZH]只需挖掘馆内藏品便可推出丰富多彩的专题展览[ZH]\n",
      "\n",
      "Transcribed segment: ./segmented_character_voice/Sxy/Sxy_00002_24.wav|Sxy|[ZH]如南美的精细,马尔代夫的文化[ZH]\n",
      "\n",
      "Transcribed segment: ./segmented_character_voice/Sxy/Sxy_00002_25.wav|Sxy|[ZH]伦伯朗的绘画以及印度教等[ZH]\n",
      "\n",
      "Transcribed segment: ./segmented_character_voice/Sxy/Sxy_00002_26.wav|Sxy|[ZH]博物馆建馆时的收藏由汉斯·斯隆爵士汇聚的[ZH]\n",
      "\n",
      "Transcribed segment: ./segmented_character_voice/Sxy/Sxy_00002_27.wav|Sxy|[ZH]斯隆是一位酷矮古玩的医生[ZH]\n",
      "\n",
      "Transcribed segment: ./segmented_character_voice/Sxy/Sxy_00002_28.wav|Sxy|[ZH]他出生于1660年[ZH]\n",
      "\n",
      "Transcribed segment: ./segmented_character_voice/Sxy/Sxy_00002_29.wav|Sxy|[ZH]自幼就立志于科学探索[ZH]\n",
      "\n",
      "Transcribed segment: ./segmented_character_voice/Sxy/Sxy_00002_30.wav|Sxy|[ZH]在西印度群岛生活了一段时间后[ZH]\n",
      "\n",
      "Transcribed segment: ./segmented_character_voice/Sxy/Sxy_00002_31.wav|Sxy|[ZH]斯隆曾写过一本有关亚马加自然历史的书[ZH]\n",
      "\n",
      "Transcribed segment: ./segmented_character_voice/Sxy/Sxy_00002_32.wav|Sxy|[ZH]回到伦敦后[ZH]\n",
      "\n",
      "Transcribed segment: ./segmented_character_voice/Sxy/Sxy_00002_33.wav|Sxy|[ZH]他成了一名受人欢迎的医生[ZH]\n",
      "\n",
      "Transcribed segment: ./segmented_character_voice/Sxy/Sxy_00002_34.wav|Sxy|[ZH]从而为他的古物收集提供了经济来源[ZH]\n",
      "\n",
      "Transcribed segment: ./segmented_character_voice/Sxy/Sxy_00002_35.wav|Sxy|[ZH]1753年斯隆去世时[ZH]\n",
      "\n",
      "Transcribed segment: ./segmented_character_voice/Sxy/Sxy_00002_36.wav|Sxy|[ZH]他的收藏品既有79,575件[ZH]\n",
      "\n",
      "Transcribed segment: ./segmented_character_voice/Sxy/Sxy_00002_37.wav|Sxy|[ZH]这上部包括他职务标本[ZH]\n",
      "\n",
      "Transcribed segment: ./segmented_character_voice/Sxy/Sxy_00002_38.wav|Sxy|[ZH]室内的标本[ZH]\n",
      "\n",
      "Transcribed segment: ./segmented_character_voice/Sxy/Sxy_00002_39.wav|Sxy|[ZH]以及图书馆里的藏书与手稿[ZH]\n",
      "\n",
      "Transcribed segment: ./segmented_character_voice/Sxy/Sxy_00002_40.wav|Sxy|[ZH]斯隆本想把自己的收藏交予乔治二世献给国家[ZH]\n",
      "\n",
      "Transcribed segment: ./segmented_character_voice/Sxy/Sxy_00002_41.wav|Sxy|[ZH]但直到通过发行彩票[ZH]\n",
      "\n",
      "Transcribed segment: ./segmented_character_voice/Sxy/Sxy_00002_42.wav|Sxy|[ZH]收到建设博物馆的资金之后[ZH]\n",
      "\n",
      "Transcribed segment: ./segmented_character_voice/Sxy/Sxy_00002_43.wav|Sxy|[ZH]斯隆的收藏才会最终移交给国会[ZH]\n",
      "\n",
      "Transcribed segment: ./segmented_character_voice/Sxy/Sxy_00002_44.wav|Sxy|[ZH]博物馆董事会购买了伦敦边缘一座[ZH]\n",
      "\n",
      "Transcribed segment: ./segmented_character_voice/Sxy/Sxy_00002_45.wav|Sxy|[ZH]17世纪晚期的建筑[ZH]\n",
      "\n",
      "Transcribed segment: ./segmented_character_voice/Sxy/Sxy_00002_46.wav|Sxy|[ZH]蒙塔古大厦作为馆址[ZH]\n",
      "\n",
      "Transcribed segment: ./segmented_character_voice/Sxy/Sxy_00002_47.wav|Sxy|[ZH]董事长由坎特伯雷大主教担任[ZH]\n",
      "\n",
      "Transcribed segment: ./segmented_character_voice/Sxy/Sxy_00002_48.wav|Sxy|[ZH]1759年1月15日[ZH]\n",
      "\n",
      "Transcribed segment: ./segmented_character_voice/Sxy/Sxy_00002_49.wav|Sxy|[ZH]大英博物馆首次对外开放[ZH]\n",
      "\n",
      "Transcribed segment: ./segmented_character_voice/Sxy/Sxy_00002_50.wav|Sxy|[ZH]对象是所谓好学与好奇之士[ZH]\n",
      "\n",
      "Transcribed segment: ./segmented_character_voice/Sxy/Sxy_00002_51.wav|Sxy|[ZH]参观博物馆是免费的[ZH]\n",
      "\n",
      "Transcribed segment: ./segmented_character_voice/Sxy/Sxy_00002_52.wav|Sxy|[ZH]但要得到一张入场券却破费周折[ZH]\n",
      "\n",
      "Transcribed segment: ./segmented_character_voice/Sxy/Sxy_00002_53.wav|Sxy|[ZH]而且进馆之后一定要有导游陪同方可参观[ZH]\n",
      "\n",
      "Transcribed segment: ./segmented_character_voice/Sxy/Sxy_00002_54.wav|Sxy|[ZH]新建立的博物馆开始积极收集文物[ZH]\n",
      "\n",
      "Transcribed segment: ./segmented_character_voice/Sxy/Sxy_00002_55.wav|Sxy|[ZH]其中大部分是捐赠品[ZH]\n",
      "\n",
      "Transcribed segment: ./segmented_character_voice/Sxy/Sxy_00002_56.wav|Sxy|[ZH]博物馆刚建成时[ZH]\n",
      "\n",
      "Transcribed segment: ./segmented_character_voice/Sxy/Sxy_00002_57.wav|Sxy|[ZH]曾倾向于收集自然历史文物[ZH]\n",
      "\n",
      "Transcribed segment: ./segmented_character_voice/Sxy/Sxy_00002_58.wav|Sxy|[ZH]包括詹姆斯·库克船长[ZH]\n",
      "\n",
      "Transcribed segment: ./segmented_character_voice/Sxy/Sxy_00002_59.wav|Sxy|[ZH]环海航行中收集的物品[ZH]\n",
      "\n",
      "Transcribed segment: ./segmented_character_voice/Sxy/Sxy_00002_60.wav|Sxy|[ZH]民族学方面的藏品也来自同一渠道[ZH]\n",
      "\n",
      "Transcribed segment: ./segmented_character_voice/Sxy/Sxy_00002_61.wav|Sxy|[ZH]当时英国在航海探险方面十分活跃[ZH]\n",
      "\n",
      "Transcribed segment: ./segmented_character_voice/Sxy/Sxy_00002_62.wav|Sxy|[ZH]而英国人则在欧洲大陆旅行中发现了古典世界[ZH]\n",
      "\n",
      "Transcribed segment: ./segmented_character_voice/Sxy/Sxy_00002_63.wav|Sxy|[ZH]英国驻纳布勒斯特使威廉·汉密尔顿爵士[ZH]\n",
      "\n",
      "Transcribed segment: ./segmented_character_voice/Sxy/Sxy_00002_64.wav|Sxy|[ZH]把他收集的希腊陶器装了满满两船运往英国[ZH]\n",
      "\n",
      "Transcribed segment: ./segmented_character_voice/Sxy/Sxy_00002_65.wav|Sxy|[ZH]但只有一艘抵达了目的地[ZH]\n",
      "\n",
      "Transcribed segment: ./segmented_character_voice/Sxy/Sxy_00002_66.wav|Sxy|[ZH]波特兰花瓶也是通过汉密尔顿才最终在博物馆才能安家[ZH]\n",
      "\n",
      "Transcribed segment: ./segmented_character_voice/Sxy/Sxy_00002_67.wav|Sxy|[ZH]博物馆还收购了查尔斯汤利[ZH]\n",
      "\n",
      "Transcribed segment: ./segmented_character_voice/Sxy/Sxy_00002_68.wav|Sxy|[ZH]从罗马收敛的一批著名雕塑品[ZH]\n",
      "\n",
      "Transcribed segment: ./segmented_character_voice/Sxy/Sxy_00002_69.wav|Sxy|[ZH]而拿破仑军队在埃及的溃败[ZH]\n",
      "\n",
      "Transcribed segment: ./segmented_character_voice/Sxy/Sxy_00002_70.wav|Sxy|[ZH]也使得罗赛塔石碑以及其他埃及籍文物得以被博物馆收藏[ZH]\n",
      "\n",
      "Transcribed segment: ./segmented_character_voice/Sxy/Sxy_00002_71.wav|Sxy|[ZH]1816年大英博物馆迎来了其雕塑收藏中最伟大的作品[ZH]\n",
      "\n",
      "Transcribed segment: ./segmented_character_voice/Sxy/Sxy_00002_72.wav|Sxy|[ZH]雅典帕台农神庙里精美的大理石石雕[ZH]\n",
      "\n",
      "Transcribed segment: ./segmented_character_voice/Sxy/Sxy_00002_73.wav|Sxy|[ZH]1799年[ZH]\n",
      "\n",
      "Transcribed segment: ./segmented_character_voice/Sxy/Sxy_00002_74.wav|Sxy|[ZH]阿尔金君爵被任命为驻君士坦丁堡大使[ZH]\n",
      "\n",
      "Transcribed segment: ./segmented_character_voice/Sxy/Sxy_00002_75.wav|Sxy|[ZH]出于对古希腊遗址面临被毁的忧虑[ZH]\n",
      "\n",
      "Transcribed segment: ./segmented_character_voice/Sxy/Sxy_00002_76.wav|Sxy|[ZH]他召集了一组艺术家和建筑师对遗址幸存的部分予以记录[ZH]\n",
      "\n",
      "Transcribed segment: ./segmented_character_voice/Sxy/Sxy_00002_77.wav|Sxy|[ZH]而后又获得当局准许将其中的石雕运走[ZH]\n",
      "\n",
      "Transcribed segment: ./segmented_character_voice/Sxy/Sxy_00002_78.wav|Sxy|[ZH]这批雕刻于1802年抵达英国伦敦[ZH]\n",
      "\n",
      "Transcribed segment: ./segmented_character_voice/Sxy/Sxy_00002_79.wav|Sxy|[ZH]阿尔金向公众做了展示[ZH]\n",
      "\n",
      "Transcribed segment: ./segmented_character_voice/Sxy/Sxy_00002_80.wav|Sxy|[ZH]14年后由于经济拮据[ZH]\n",
      "\n",
      "Transcribed segment: ./segmented_character_voice/Sxy/Sxy_00002_81.wav|Sxy|[ZH]他把它们卖给了政府[ZH]\n",
      "\n",
      "Transcribed segment: ./segmented_character_voice/Sxy/Sxy_00002_82.wav|Sxy|[ZH]这些雕刻一经博物馆展出[ZH]\n",
      "\n",
      "Transcribed segment: ./segmented_character_voice/Sxy/Sxy_00002_83.wav|Sxy|[ZH]立即引起了极大的关注[ZH]\n",
      "\n",
      "Transcribed segment: ./segmented_character_voice/Sxy/Sxy_00002_84.wav|Sxy|[ZH]英国的使节与大使们在博物馆增添古代文物上起了重要作用[ZH]\n",
      "\n",
      "Transcribed segment: ./segmented_character_voice/Sxy/Sxy_00002_85.wav|Sxy|[ZH]驻埃及总领事亨利·索尔特在代理人贝尔佐尼协助下[ZH]\n",
      "\n",
      "Transcribed segment: ./segmented_character_voice/Sxy/Sxy_00002_86.wav|Sxy|[ZH]收集了大量文物[ZH]\n",
      "\n",
      "Transcribed segment: ./segmented_character_voice/Sxy/Sxy_00002_87.wav|Sxy|[ZH]其中包括了很多巨型石雕[ZH]\n",
      "\n",
      "Transcribed segment: ./segmented_character_voice/Sxy/Sxy_00002_88.wav|Sxy|[ZH]如埃及法老的头像[ZH]\n",
      "\n",
      "Transcribed segment: ./segmented_character_voice/Sxy/Sxy_00002_89.wav|Sxy|[ZH]该石像于1823年被博物馆董事会购得[ZH]\n",
      "\n",
      "Transcribed segment: ./segmented_character_voice/Sxy/Sxy_00002_90.wav|Sxy|[ZH]1818年索尔特还将拉美西斯二世的著名头像捐给了博物馆[ZH]\n",
      "\n",
      "Transcribed segment: ./segmented_character_voice/Sxy/Sxy_00002_91.wav|Sxy|[ZH]同一时期对圣经中古代遗迹的兴趣[ZH]\n",
      "\n",
      "Transcribed segment: ./segmented_character_voice/Sxy/Sxy_00002_92.wav|Sxy|[ZH]把文物收藏推向了更远的中东[ZH]\n",
      "\n",
      "Transcribed segment: ./segmented_character_voice/Sxy/Sxy_00002_93.wav|Sxy|[ZH]克劳丢斯·里奇于1811年至1820年在巴格达居住的时期[ZH]\n",
      "\n",
      "Transcribed segment: ./segmented_character_voice/Sxy/Sxy_00002_94.wav|Sxy|[ZH]收集了一小批有名刻的石砖[ZH]\n",
      "\n",
      "Transcribed segment: ./segmented_character_voice/Sxy/Sxy_00002_95.wav|Sxy|[ZH]圆柱形封印及碑刻[ZH]\n",
      "\n",
      "Transcribed segment: ./segmented_character_voice/Sxy/Sxy_00002_96.wav|Sxy|[ZH]这些来自迪里斯河和幼发拉底河平原的文物[ZH]\n",
      "\n",
      "Transcribed segment: ./segmented_character_voice/Sxy/Sxy_00002_97.wav|Sxy|[ZH]为博物馆古巴比伦王国和亚述王国的收藏奠定了基础[ZH]\n",
      "\n",
      "Transcribed segment: ./segmented_character_voice/Sxy/Sxy_00002_98.wav|Sxy|[ZH]19世纪早期蒙古塔大厦已明显不复使用[ZH]\n",
      "\n",
      "Transcribed segment: ./segmented_character_voice/Sxy/Sxy_00002_99.wav|Sxy|[ZH]不仅古代文物迅速增加自然标本[ZH]\n",
      "\n",
      "Transcribed segment: ./segmented_character_voice/Sxy/Sxy_00002_100.wav|Sxy|[ZH]和图书馆也使得博物馆空间变得十分狭窄[ZH]\n",
      "\n",
      "Transcribed segment: ./segmented_character_voice/Sxy/Sxy_00002_101.wav|Sxy|[ZH]此外参观人数的上升也造成了压力[ZH]\n",
      "\n",
      "Transcribed segment: ./segmented_character_voice/Sxy/Sxy_00002_102.wav|Sxy|[ZH]1814年董事会指出[ZH]\n",
      "\n",
      "Transcribed segment: ./segmented_character_voice/Sxy/Sxy_00002_103.wav|Sxy|[ZH]上一年来参观的人数在28000至30000人之间[ZH]\n",
      "\n",
      "Transcribed segment: ./segmented_character_voice/Sxy/Sxy_00002_104.wav|Sxy|[ZH]1823年乔治四世将他父亲图书馆中[ZH]\n",
      "\n",
      "Transcribed segment: ./segmented_character_voice/Sxy/Sxy_00002_105.wav|Sxy|[ZH]85000余次文物捐赠给博物馆[ZH]\n",
      "\n",
      "Transcribed segment: ./segmented_character_voice/Sxy/Sxy_00002_106.wav|Sxy|[ZH]空间不足问题更是迫在眉睫[ZH]\n",
      "\n",
      "Transcribed segment: ./segmented_character_voice/Sxy/Sxy_00002_107.wav|Sxy|[ZH]一年以后董事会决定在蒙塔古大厦北面修建一座新馆[ZH]\n",
      "\n",
      "Transcribed segment: ./segmented_character_voice/Sxy/Sxy_00002_108.wav|Sxy|[ZH]新馆的展厅环绕一个中央庭院建成[ZH]\n",
      "\n",
      "Transcribed segment: ./segmented_character_voice/Sxy/Sxy_00002_109.wav|Sxy|[ZH]各展厅内周边以及顶部均有照明[ZH]\n",
      "\n",
      "Transcribed segment: ./segmented_character_voice/Sxy/Sxy_00002_110.wav|Sxy|[ZH]这一部分于19世纪40年代初完工[ZH]\n",
      "\n",
      "Transcribed segment: ./segmented_character_voice/Sxy/Sxy_00002_111.wav|Sxy|[ZH]最后建成的一个主要部分是刻有凹槽的圆柱[ZH]\n",
      "\n",
      "Transcribed segment: ./segmented_character_voice/Sxy/Sxy_00002_112.wav|Sxy|[ZH]和爱奥尼式柱顶组成的门廊[ZH]\n",
      "\n",
      "Transcribed segment: ./segmented_character_voice/Sxy/Sxy_00002_113.wav|Sxy|[ZH]由于进口处不断扩大[ZH]\n",
      "\n",
      "Transcribed segment: ./segmented_character_voice/Sxy/Sxy_00002_114.wav|Sxy|[ZH]蒙塔古大厦最终被拆除到1850年[ZH]\n",
      "\n",
      "Transcribed segment: ./segmented_character_voice/Sxy/Sxy_00002_115.wav|Sxy|[ZH]大英博物馆已经基本上是今天的模样了[ZH]\n",
      "\n",
      "transcribing ./denoised_audio/Sxy_00003.wav...\n",
      "\n",
      "{'task': 'transcribe', 'beam_size': 5, 'best_of': 5}\n",
      "kkkk\n",
      "Transcribed segment: ./segmented_character_voice/Sxy/Sxy_00003_0.wav|Sxy|[ZH]在公元前500年以前[ZH]\n",
      "\n",
      "Transcribed segment: ./segmented_character_voice/Sxy/Sxy_00003_1.wav|Sxy|[ZH]中国粮食的主要来源水稻[ZH]\n",
      "\n",
      "Transcribed segment: ./segmented_character_voice/Sxy/Sxy_00003_2.wav|Sxy|[ZH]已经在肥沃的东南沿海地区种植[ZH]\n",
      "\n",
      "Transcribed segment: ./segmented_character_voice/Sxy/Sxy_00003_3.wav|Sxy|[ZH]定基社会进一步发展[ZH]\n",
      "\n",
      "Transcribed segment: ./segmented_character_voice/Sxy/Sxy_00003_4.wav|Sxy|[ZH]在玉雕以及祭祀和装饰上[ZH]\n",
      "\n",
      "Transcribed segment: ./segmented_character_voice/Sxy/Sxy_00003_5.wav|Sxy|[ZH]用陶器的制作上都表现出了突出的特点[ZH]\n",
      "\n",
      "Transcribed segment: ./segmented_character_voice/Sxy/Sxy_00003_6.wav|Sxy|[ZH]后代人认为中国最早的统治王朝夏商[ZH]\n",
      "\n",
      "Transcribed segment: ./segmented_character_voice/Sxy/Sxy_00003_7.wav|Sxy|[ZH]出现在公元前2000年前后[ZH]\n",
      "\n",
      "Transcribed segment: ./segmented_character_voice/Sxy/Sxy_00003_8.wav|Sxy|[ZH]但第一个有考古遗迹为证的时代却是商朝[ZH]\n",
      "\n",
      "Transcribed segment: ./segmented_character_voice/Sxy/Sxy_00003_9.wav|Sxy|[ZH]大约在公元前1500年建成[ZH]\n",
      "\n",
      "Transcribed segment: ./segmented_character_voice/Sxy/Sxy_00003_10.wav|Sxy|[ZH]规模庞大[ZH]\n",
      "\n",
      "Transcribed segment: ./segmented_character_voice/Sxy/Sxy_00003_11.wav|Sxy|[ZH]轮廓分明的商朝都市地处黄河流域[ZH]\n",
      "\n",
      "Transcribed segment: ./segmented_character_voice/Sxy/Sxy_00003_12.wav|Sxy|[ZH]城内建有宫殿和庙宇[ZH]\n",
      "\n",
      "Transcribed segment: ./segmented_character_voice/Sxy/Sxy_00003_13.wav|Sxy|[ZH]周围有豪华的墓地[ZH]\n",
      "\n",
      "Transcribed segment: ./segmented_character_voice/Sxy/Sxy_00003_14.wav|Sxy|[ZH]用青铜器制作的武器[ZH]\n",
      "\n",
      "Transcribed segment: ./segmented_character_voice/Sxy/Sxy_00003_15.wav|Sxy|[ZH]装饰品和祭祀用具[ZH]\n",
      "\n",
      "Transcribed segment: ./segmented_character_voice/Sxy/Sxy_00003_16.wav|Sxy|[ZH]对商朝人以及其后代有着重要意义[ZH]\n",
      "\n",
      "Transcribed segment: ./segmented_character_voice/Sxy/Sxy_00003_17.wav|Sxy|[ZH]在商朝和西周时期[ZH]\n",
      "\n",
      "Transcribed segment: ./segmented_character_voice/Sxy/Sxy_00003_18.wav|Sxy|[ZH]坟墓和窖坑里都埋着大量的青铜容器和武器[ZH]\n",
      "\n",
      "Transcribed segment: ./segmented_character_voice/Sxy/Sxy_00003_19.wav|Sxy|[ZH]珍贵的青铜工艺品则是被奉献给祖先[ZH]\n",
      "\n",
      "Transcribed segment: ./segmented_character_voice/Sxy/Sxy_00003_20.wav|Sxy|[ZH]以获得他们的保佑或者感谢他们的恩典[ZH]\n",
      "\n",
      "Transcribed segment: ./segmented_character_voice/Sxy/Sxy_00003_21.wav|Sxy|[ZH]刻在甲骨和背壳上的书写文字最早出现在商朝[ZH]\n",
      "\n",
      "Transcribed segment: ./segmented_character_voice/Sxy/Sxy_00003_22.wav|Sxy|[ZH]历史证明这一系文字系统是统一中国文化传统最重要的工具之一[ZH]\n",
      "\n",
      "Transcribed segment: ./segmented_character_voice/Sxy/Sxy_00003_23.wav|Sxy|[ZH]许多古文字至今仍在使用[ZH]\n",
      "\n",
      "Transcribed segment: ./segmented_character_voice/Sxy/Sxy_00003_24.wav|Sxy|[ZH]东周时期墨和竹简被使用起来记录[ZH]\n",
      "\n",
      "Transcribed segment: ./segmented_character_voice/Sxy/Sxy_00003_25.wav|Sxy|[ZH]四点和政治活动[ZH]\n",
      "\n",
      "Transcribed segment: ./segmented_character_voice/Sxy/Sxy_00003_26.wav|Sxy|[ZH]历史和哲学标志着中国文献传统的开端[ZH]\n",
      "\n",
      "Transcribed segment: ./segmented_character_voice/Sxy/Sxy_00003_27.wav|Sxy|[ZH]公元前221年[ZH]\n",
      "\n",
      "Transcribed segment: ./segmented_character_voice/Sxy/Sxy_00003_28.wav|Sxy|[ZH]在结束长期内乱和诸侯争霸之后[ZH]\n",
      "\n",
      "Transcribed segment: ./segmented_character_voice/Sxy/Sxy_00003_29.wav|Sxy|[ZH]秦始皇统一了中国[ZH]\n",
      "\n",
      "Transcribed segment: ./segmented_character_voice/Sxy/Sxy_00003_30.wav|Sxy|[ZH]宣告了帝国时代的到来[ZH]\n",
      "\n",
      "Transcribed segment: ./segmented_character_voice/Sxy/Sxy_00003_31.wav|Sxy|[ZH]尽管秦始皇所建立的王朝寿命不长[ZH]\n",
      "\n",
      "Transcribed segment: ./segmented_character_voice/Sxy/Sxy_00003_32.wav|Sxy|[ZH]但其统治却给后世留下了深远影响[ZH]\n",
      "\n",
      "Transcribed segment: ./segmented_character_voice/Sxy/Sxy_00003_33.wav|Sxy|[ZH]包括文字改革[ZH]\n",
      "\n",
      "Transcribed segment: ./segmented_character_voice/Sxy/Sxy_00003_34.wav|Sxy|[ZH]国道的建立[ZH]\n",
      "\n",
      "Transcribed segment: ./segmented_character_voice/Sxy/Sxy_00003_35.wav|Sxy|[ZH]货币统一以及渡粮衡的标准化[ZH]\n",
      "\n",
      "Transcribed segment: ./segmented_character_voice/Sxy/Sxy_00003_36.wav|Sxy|[ZH]秦始皇最早开始在中国的北方修筑长城[ZH]\n",
      "\n",
      "Transcribed segment: ./segmented_character_voice/Sxy/Sxy_00003_37.wav|Sxy|[ZH]意在将草原上的游牧部落[ZH]\n",
      "\n",
      "Transcribed segment: ./segmented_character_voice/Sxy/Sxy_00003_38.wav|Sxy|[ZH]拒之边境之外[ZH]\n",
      "\n",
      "Transcribed segment: ./segmented_character_voice/Sxy/Sxy_00003_39.wav|Sxy|[ZH]这一绵长的边防攻势[ZH]\n",
      "\n",
      "Transcribed segment: ./segmented_character_voice/Sxy/Sxy_00003_40.wav|Sxy|[ZH]是由各朝各代所建较短的城墙连接而成[ZH]\n",
      "\n",
      "Transcribed segment: ./segmented_character_voice/Sxy/Sxy_00003_41.wav|Sxy|[ZH]汉朝将秦朝推翻之后[ZH]\n",
      "\n",
      "Transcribed segment: ./segmented_character_voice/Sxy/Sxy_00003_42.wav|Sxy|[ZH]继续发展中国特色的官吏制度[ZH]\n",
      "\n",
      "Transcribed segment: ./segmented_character_voice/Sxy/Sxy_00003_43.wav|Sxy|[ZH]政府部门用人主要通过私人推荐[ZH]\n",
      "\n",
      "Transcribed segment: ./segmented_character_voice/Sxy/Sxy_00003_44.wav|Sxy|[ZH]但文采武艺则有助于官职的升迁[ZH]\n",
      "\n",
      "Transcribed segment: ./segmented_character_voice/Sxy/Sxy_00003_45.wav|Sxy|[ZH]帝国初建时期治国之道来自于[ZH]\n",
      "\n",
      "Transcribed segment: ./segmented_character_voice/Sxy/Sxy_00003_46.wav|Sxy|[ZH]大乡进廷的两派哲学儒家和道家[ZH]\n",
      "\n",
      "Transcribed segment: ./segmented_character_voice/Sxy/Sxy_00003_47.wav|Sxy|[ZH]孔子是一位哲学家和教育家[ZH]\n",
      "\n",
      "Transcribed segment: ./segmented_character_voice/Sxy/Sxy_00003_48.wav|Sxy|[ZH]他的学术学说强调道德秩序[ZH]\n",
      "\n",
      "Transcribed segment: ./segmented_character_voice/Sxy/Sxy_00003_49.wav|Sxy|[ZH]主张礼仪传统绝对遵循[ZH]\n",
      "\n",
      "Transcribed segment: ./segmented_character_voice/Sxy/Sxy_00003_50.wav|Sxy|[ZH]注重文化对人的教化[ZH]\n",
      "\n",
      "Transcribed segment: ./segmented_character_voice/Sxy/Sxy_00003_51.wav|Sxy|[ZH]而道家则提倡天道及人与自然的和谐[ZH]\n",
      "\n",
      "Transcribed segment: ./segmented_character_voice/Sxy/Sxy_00003_52.wav|Sxy|[ZH]道家思想在老子的著作中得到最充分的展示[ZH]\n",
      "\n",
      "Transcribed segment: ./segmented_character_voice/Sxy/Sxy_00003_53.wav|Sxy|[ZH]其最高境界是长生不死[ZH]\n",
      "\n",
      "Transcribed segment: ./segmented_character_voice/Sxy/Sxy_00003_54.wav|Sxy|[ZH]而达到这一境界的途径是修炼心性[ZH]\n",
      "\n",
      "Transcribed segment: ./segmented_character_voice/Sxy/Sxy_00003_55.wav|Sxy|[ZH]以及自身与永恒的和谐[ZH]\n",
      "\n",
      "Transcribed segment: ./segmented_character_voice/Sxy/Sxy_00003_56.wav|Sxy|[ZH]汉朝崩溃之后[ZH]\n",
      "\n",
      "Transcribed segment: ./segmented_character_voice/Sxy/Sxy_00003_57.wav|Sxy|[ZH]中国北方经历了一段时间的国土分裂和外强统治[ZH]\n",
      "\n",
      "Transcribed segment: ./segmented_character_voice/Sxy/Sxy_00003_58.wav|Sxy|[ZH]这一政治上的分化与佛教的传播同时发生[ZH]\n",
      "\n",
      "Transcribed segment: ./segmented_character_voice/Sxy/Sxy_00003_59.wav|Sxy|[ZH]佛教由印度经印度和经丝绸之路带进中国[ZH]\n",
      "\n",
      "Transcribed segment: ./segmented_character_voice/Sxy/Sxy_00003_60.wav|Sxy|[ZH]丝绸之路是南亚和中国经中亚绿洲到达地中海世界的一条主要商道[ZH]\n",
      "\n",
      "Transcribed segment: ./segmented_character_voice/Sxy/Sxy_00003_61.wav|Sxy|[ZH]那时科舌和敦煌都出现了重要的艺术和贸易中心[ZH]\n",
      "\n",
      "Transcribed segment: ./segmented_character_voice/Sxy/Sxy_00003_62.wav|Sxy|[ZH]公元589年隋朝使中国再次得到了统一[ZH]\n",
      "\n",
      "Transcribed segment: ./segmented_character_voice/Sxy/Sxy_00003_63.wav|Sxy|[ZH]佛教被统治者称为国教[ZH]\n",
      "\n",
      "Transcribed segment: ./segmented_character_voice/Sxy/Sxy_00003_64.wav|Sxy|[ZH]隋之后是唐朝[ZH]\n",
      "\n",
      "Transcribed segment: ./segmented_character_voice/Sxy/Sxy_00003_65.wav|Sxy|[ZH]大唐富丽堂皇的宫廷是文明的艺术中心[ZH]\n",
      "\n",
      "Transcribed segment: ./segmented_character_voice/Sxy/Sxy_00003_66.wav|Sxy|[ZH]这一时期丝绸之路贸易的重要表现被保存下来[ZH]\n",
      "\n",
      "Transcribed segment: ./segmented_character_voice/Sxy/Sxy_00003_67.wav|Sxy|[ZH]是唐朝的唐三彩和骆驼以后的一种文明[ZH]\n",
      "\n",
      "Transcribed segment: ./segmented_character_voice/Sxy/Sxy_00003_68.wav|Sxy|[ZH]以及灵智器皿上[ZH]\n",
      "\n",
      "Transcribed segment: ./segmented_character_voice/Sxy/Sxy_00003_69.wav|Sxy|[ZH]宋朝时期朝廷对北方的控制由于外族的不断入侵而变得难以维持[ZH]\n",
      "\n",
      "Transcribed segment: ./segmented_character_voice/Sxy/Sxy_00003_70.wav|Sxy|[ZH]1127年从东北入侵的女真主最终迫使宋王朝南迁[ZH]\n",
      "\n",
      "Transcribed segment: ./segmented_character_voice/Sxy/Sxy_00003_71.wav|Sxy|[ZH]从此以后北京便成为了中国北方之都[ZH]\n",
      "\n",
      "Transcribed segment: ./segmented_character_voice/Sxy/Sxy_00003_72.wav|Sxy|[ZH]后来蒙古人就建都于北京[ZH]\n",
      "\n",
      "Transcribed segment: ./segmented_character_voice/Sxy/Sxy_00003_73.wav|Sxy|[ZH]称为克罕巴里克[ZH]\n",
      "\n",
      "Transcribed segment: ./segmented_character_voice/Sxy/Sxy_00003_74.wav|Sxy|[ZH]并统治了整个中国[ZH]\n",
      "\n",
      "Transcribed segment: ./segmented_character_voice/Sxy/Sxy_00003_75.wav|Sxy|[ZH]尽管存在着北方的威胁[ZH]\n",
      "\n",
      "Transcribed segment: ./segmented_character_voice/Sxy/Sxy_00003_76.wav|Sxy|[ZH]宋朝却是知识与文化的繁荣时期[ZH]\n",
      "\n",
      "Transcribed segment: ./segmented_character_voice/Sxy/Sxy_00003_77.wav|Sxy|[ZH]其重点是对中国文化和国家的作用的认识[ZH]\n",
      "\n",
      "Transcribed segment: ./segmented_character_voice/Sxy/Sxy_00003_78.wav|Sxy|[ZH]儒家学说复兴[ZH]\n",
      "\n",
      "Transcribed segment: ./segmented_character_voice/Sxy/Sxy_00003_79.wav|Sxy|[ZH]新版儒家经典著作[ZH]\n",
      "\n",
      "Transcribed segment: ./segmented_character_voice/Sxy/Sxy_00003_80.wav|Sxy|[ZH]借助刚刚发展起来的印刷技术得以出版发行[ZH]\n",
      "\n",
      "Transcribed segment: ./segmented_character_voice/Sxy/Sxy_00003_81.wav|Sxy|[ZH]全国新的科举制度在隋唐时代产生并继续发展[ZH]\n",
      "\n",
      "Transcribed segment: ./segmented_character_voice/Sxy/Sxy_00003_82.wav|Sxy|[ZH]科举考试的内容也包括佛经[ZH]\n",
      "\n",
      "Transcribed segment: ./segmented_character_voice/Sxy/Sxy_00003_83.wav|Sxy|[ZH]因此佛经的印刷有着巨大的市场[ZH]\n",
      "\n",
      "Transcribed segment: ./segmented_character_voice/Sxy/Sxy_00003_84.wav|Sxy|[ZH]宋朝对传统的兴趣也表现在装饰艺术方面[ZH]\n",
      "\n",
      "Transcribed segment: ./segmented_character_voice/Sxy/Sxy_00003_85.wav|Sxy|[ZH]早期玉石和青铜式的影响[ZH]\n",
      "\n",
      "Transcribed segment: ./segmented_character_voice/Sxy/Sxy_00003_86.wav|Sxy|[ZH]从宋代[ZH]\n",
      "\n",
      "Transcribed segment: ./segmented_character_voice/Sxy/Sxy_00003_87.wav|Sxy|[ZH]浓重浑圆的陶器可见一斑[ZH]\n",
      "\n",
      "Transcribed segment: ./segmented_character_voice/Sxy/Sxy_00003_88.wav|Sxy|[ZH]而精美的宋代陶瓷在造型上又往往模仿着[ZH]\n",
      "\n",
      "Transcribed segment: ./segmented_character_voice/Sxy/Sxy_00003_89.wav|Sxy|[ZH]优美典雅的金箔[ZH]\n",
      "\n",
      "Transcribed segment: ./segmented_character_voice/Sxy/Sxy_00003_90.wav|Sxy|[ZH]金银[ZH]\n",
      "\n",
      "Transcribed segment: ./segmented_character_voice/Sxy/Sxy_00003_91.wav|Sxy|[ZH]细米[ZH]\n",
      "\n",
      "Transcribed segment: ./segmented_character_voice/Sxy/Sxy_00003_92.wav|Sxy|[ZH]蒙古族的统治于十四世纪结束[ZH]\n",
      "\n",
      "Transcribed segment: ./segmented_character_voice/Sxy/Sxy_00003_93.wav|Sxy|[ZH]由明朝取而代之[ZH]\n",
      "\n",
      "Transcribed segment: ./segmented_character_voice/Sxy/Sxy_00003_94.wav|Sxy|[ZH]明朝在迁都北京之前[ZH]\n",
      "\n",
      "Transcribed segment: ./segmented_character_voice/Sxy/Sxy_00003_95.wav|Sxy|[ZH]曾一度在南京建都[ZH]\n",
      "\n",
      "Transcribed segment: ./segmented_character_voice/Sxy/Sxy_00003_96.wav|Sxy|[ZH]在元朝的工艺基础上[ZH]\n",
      "\n",
      "Transcribed segment: ./segmented_character_voice/Sxy/Sxy_00003_97.wav|Sxy|[ZH]明朝艺术家创造了右下青花[ZH]\n",
      "\n",
      "Transcribed segment: ./segmented_character_voice/Sxy/Sxy_00003_98.wav|Sxy|[ZH]右上彩瓷器[ZH]\n",
      "\n",
      "Transcribed segment: ./segmented_character_voice/Sxy/Sxy_00003_99.wav|Sxy|[ZH]璀璨精美的漆器[ZH]\n",
      "\n",
      "Transcribed segment: ./segmented_character_voice/Sxy/Sxy_00003_100.wav|Sxy|[ZH]漆雕[ZH]\n",
      "\n",
      "Transcribed segment: ./segmented_character_voice/Sxy/Sxy_00003_101.wav|Sxy|[ZH]景泰兰以及镶边金铜塑[ZH]\n",
      "\n",
      "Transcribed segment: ./segmented_character_voice/Sxy/Sxy_00003_102.wav|Sxy|[ZH]等等[ZH]\n",
      "\n",
      "Transcribed segment: ./segmented_character_voice/Sxy/Sxy_00003_103.wav|Sxy|[ZH]1644年来自北方的满族入侵[ZH]\n",
      "\n",
      "Transcribed segment: ./segmented_character_voice/Sxy/Sxy_00003_104.wav|Sxy|[ZH]来自北方的满族入侵者建立了中国最后一个帝国王朝[ZH]\n",
      "\n",
      "Transcribed segment: ./segmented_character_voice/Sxy/Sxy_00003_105.wav|Sxy|[ZH]清朝其统治一直延续到了1911年[ZH]\n",
      "\n",
      "Transcribed segment: ./segmented_character_voice/Sxy/Sxy_00003_106.wav|Sxy|[ZH]像以前的艺术一样[ZH]\n",
      "\n",
      "Transcribed segment: ./segmented_character_voice/Sxy/Sxy_00003_107.wav|Sxy|[ZH]清朝的艺术无论在形式上还是工艺上[ZH]\n",
      "\n",
      "Transcribed segment: ./segmented_character_voice/Sxy/Sxy_00003_108.wav|Sxy|[ZH]都表现出了对传统的崇尚[ZH]\n",
      "\n",
      "Transcribed segment: ./segmented_character_voice/Sxy/Sxy_00003_109.wav|Sxy|[ZH]同时也不乏创新[ZH]\n",
      "\n",
      "Transcribed segment: ./segmented_character_voice/Sxy/Sxy_00003_110.wav|Sxy|[ZH]尤其在装饰艺术中[ZH]\n",
      "\n",
      "Transcribed segment: ./segmented_character_voice/Sxy/Sxy_00003_111.wav|Sxy|[ZH]绿釉与红釉瓷器的彩釉着色最为突出[ZH]\n",
      "\n",
      "Warning: no short audios found, this IS expected if you have only uploaded long audios, videos or video links.\n",
      "this IS NOT expected if you have uploaded a zip file of short audios. Please check your file structure or make sure your audio language is supported.\n"
     ]
    }
   ],
   "source": [
    "!rm -rf segmented_character_voice/*\n",
    "# 分割并标注长音频\n",
    "!python long_audio_transcribe.py --languages \"{PRETRAINED_MODEL}\" --whisper_size large\n",
    "# 标注短音频\n",
    "!python short_audio_transcribe.py --languages \"{PRETRAINED_MODEL}\" --whisper_size large"
   ]
  },
  {
   "cell_type": "code",
   "execution_count": 27,
   "metadata": {
    "collapsed": true,
    "jupyter": {
     "outputs_hidden": true
    },
    "tags": []
   },
   "outputs": [
    {
     "name": "stdout",
     "output_type": "stream",
     "text": [
      "Detecting language using up to the first 30 seconds. Use `--language` to specify the language\n",
      "Detected language: Chinese\n",
      "[00:00.000 --> 00:03.520] 在擦著漢的時節常常握一看\n",
      "[00:03.520 --> 00:09.040] 不過他們比較另一些40歲上下的車幅\n",
      "[00:09.040 --> 00:11.520] 他們事務還沒有補到家\n",
      "[00:11.520 --> 00:14.280] 這一些以前\n",
      "[00:14.280 --> 00:18.000] 絕沒有想到自己能與陽車發生關係\n",
      "[00:18.000 --> 00:22.120] 而到生和死的界限已經分不清\n",
      "[00:22.120 --> 00:24.840] 才超起車把來的\n",
      "[00:24.840 --> 00:29.200] 被廁拳、尋減或教育\n",
      "[00:29.200 --> 00:31.680] 把本錢吃光的小飯\n",
      "[00:31.680 --> 00:33.480] 或者失業的工人\n",
      "[00:33.480 --> 00:35.160] 到了脈無可脈\n",
      "[00:35.160 --> 00:36.920] 當無可\n",
      "[00:36.920 --> 00:39.160] 當的時候要著牙\n",
      "[00:39.160 --> 00:40.120] 寒之類\n",
      "[00:40.120 --> 00:42.600] 走上了這條死亡之路\n",
      "[00:42.600 --> 00:43.560] 這些人\n",
      "[00:43.560 --> 00:46.680] 生命最先重的時候已經賣掉\n",
      "[00:46.680 --> 00:49.720] 現在再把烏烏頭變成\n",
      "[00:49.720 --> 00:51.640] 換起變成血汗\n",
      "[00:51.640 --> 00:53.000] 低在馬路上\n",
      "[00:53.000 --> 00:54.040] 沒有力氣\n",
      "[00:54.040 --> 00:55.240] 沒有經驗\n",
      "[00:55.240 --> 00:56.440] 沒有朋友\n",
      "[00:56.440 --> 01:00.280] 就是在同時當中也得不大好切\n",
      "[01:00.280 --> 01:01.960] 他們拉最脫的車\n",
      "[01:01.960 --> 01:05.320] 皮太不一定一天卸多少次起\n",
      "[01:05.320 --> 01:09.160] 一邊拉著人一邊還地要求別人的原諒\n",
      "[01:09.160 --> 01:13.800] 雖然15個大風格已經算是甜滿滿\n",
      "[01:13.800 --> 01:15.080] 此外\n",
      "[01:15.080 --> 01:17.240] 環境與知識的特意\n",
      "[01:17.240 --> 01:20.280] 又是一部分車幅令成一排\n",
      "[01:20.280 --> 01:22.960] 生於西院海電的自然\n",
      "[01:22.960 --> 01:24.320] 與西\n",
      "[01:24.320 --> 01:25.280] 與西山\n",
      "[01:25.280 --> 01:26.280] 淨淨\n",
      "[01:26.280 --> 01:28.280] 清滑\n",
      "[01:28.280 --> 01:29.280] 比較瘓臉\n",
      "[01:29.280 --> 01:32.280] 同樣在安靈門外的走清隔\n",
      "[01:32.280 --> 01:33.160] 北院\n",
      "[01:33.160 --> 01:35.640] 在永定門外的走難院\n",
      "[01:35.640 --> 01:38.120] 這是跑長浩的\n",
      "[01:38.120 --> 01:39.640] 不願意拉領坐\n",
      "[01:39.640 --> 01:42.120] 因為拉一趟便睡一趟\n",
      "[01:42.120 --> 01:45.400] 不限於三五個同時促窮\n",
      "[01:45.400 --> 01:48.320] 可是他們還不如東交項\n",
      "[01:48.320 --> 01:50.560] 民降的車幅氣潮\n",
      "[01:50.560 --> 01:54.080] 這些專門拉搖買買\n",
      "[01:54.080 --> 01:55.840] 這樣就一切\n",
      "[01:55.840 --> 01:59.520] 民交拉的向拉到預權山\n",
      "[01:59.520 --> 02:02.880] 一個元或西山氣潮\n",
      "[02:02.880 --> 02:04.400] 也還算小事\n",
      "[02:04.400 --> 02:08.160] 一般車幅萬不能真相只想生意的原因\n",
      "[02:08.160 --> 02:11.120] 大半還是因為這些是養伴的\n",
      "[02:11.120 --> 02:13.920] 去有點與眾不同知識\n",
      "[02:13.920 --> 02:15.920] 他們會說外國話\n",
      "[02:15.920 --> 02:18.080] 英國兵法國兵\n",
      "[02:18.080 --> 02:19.840] 所說的萬售山\n",
      "[02:19.840 --> 02:22.000] 勇和公\n",
      "[02:22.000 --> 02:23.120] 八大幅痛\n",
      "[02:23.120 --> 02:24.480] 他們都小子\n",
      "[02:24.480 --> 02:26.480] 他們自己有一套外國話\n",
      "[02:26.480 --> 02:27.360] 不外傳\n",
      "[02:27.360 --> 02:28.720] 送給別人\n",
      "[02:28.720 --> 02:30.720] 他們的跑法也特別\n",
      "[02:30.720 --> 02:33.440] 46富二絕不快不慢\n",
      "[02:33.440 --> 02:34.640] 第一次頭\n",
      "[02:34.640 --> 02:36.080] 目不跑勢的\n",
      "[02:36.080 --> 02:37.920] 貼著馬路邊走\n",
      "[02:37.920 --> 02:39.760] 帶出於事無尊\n",
      "[02:39.760 --> 02:42.160] 而自由專長的審計\n",
      "[02:42.160 --> 02:43.520] 因為拉著養伴\n",
      "[02:43.520 --> 02:45.760] 他們可以不窗靠看\n",
      "[02:45.760 --> 02:47.520] 而一律是\n",
      "[02:47.520 --> 02:49.280] 場秀小白掛\n",
      "[02:49.280 --> 02:51.120] 白的活飛的褲子\n",
      "[02:51.120 --> 02:53.520] 褲董特別悲\n",
      "[02:53.520 --> 02:55.520] 腳萬上記著細帶\n",
      "[02:55.520 --> 02:58.720] 腳上是寬鬆點牽層疾\n",
      "[02:58.720 --> 02:59.920] 輕不血\n",
      "[02:59.920 --> 03:02.640] 乾脆、歷落、神性\n",
      "[03:02.640 --> 03:04.320] 一件這樣的複裝\n",
      "[03:04.320 --> 03:05.360] 別的恕夫\n",
      "[03:05.360 --> 03:08.160] 不會再過來争作與賽車\n",
      "[03:08.160 --> 03:11.600] 他們次乎是屬於另一行業的\n",
      "[03:11.600 --> 03:14.160] 有了這點簡單的分析\n",
      "[03:14.160 --> 03:16.400] 我們再說詳細的地位\n",
      "[03:16.400 --> 03:19.200] 就像說我們希望\n",
      "[03:19.200 --> 03:22.880] 一盤機器上的某種釘子那麼準確了\n",
      "[03:22.880 --> 03:25.520] 詳細在洛圖這個稱號\n",
      "[03:25.520 --> 03:27.280] 發生關係前\n",
      "[03:27.280 --> 03:29.840] 是個比較自由的養伺服\n"
     ]
    }
   ],
   "source": [
    "#!whisper \"/root/VITS-fast-fine-tuning/raw_audio/Sxy_00001.wav\" --model tiny --model_dir \"/root/VITS-fast-fine-tuning/pretrained_models/w\""
   ]
  },
  {
   "cell_type": "markdown",
   "metadata": {
    "id": "WY12Ien-BUE7"
   },
   "source": [
    "#！！！训练质量相关：实验发现目前使用CJ模型+勾选ADD_AUXILIARY，对于中/日均能训练出最好的效果，第一次训练建议默认使用该组合！！！"
   ]
  },
  {
   "cell_type": "code",
   "execution_count": 7,
   "metadata": {
    "id": "G_IM97N2e6fk"
   },
   "outputs": [
    {
     "name": "stderr",
     "output_type": "stream",
     "text": [
      "Building prefix dict from the default dictionary ...\n",
      "Loading model from cache /tmp/jieba.cache\n",
      "Loading model cost 0.499 seconds.\n",
      "Prefix dict has been built successfully.\n"
     ]
    },
    {
     "name": "stdout",
     "output_type": "stream",
     "text": [
      "finished\n"
     ]
    }
   ],
   "source": [
    "#@markdown ##STEP 3.5 \n",
    "\n",
    "\n",
    "#@markdown 运行该单元格会生成划分好训练/测试集的最终标注，以及配置文件  \n",
    "\n",
    "#@markdown Running this block will generate final annotations for training & validation, as well as config file.\n",
    "\n",
    "#@markdown 选择是否加入辅助训练数据：/ Choose whether to add auxiliary data: \n",
    "ADD_AUXILIARY = True #@param {type:\"boolean\"}\n",
    "#@markdown 辅助训练数据是从预训练的大数据集抽样得到的，作用在于防止模型在标注不准确的数据上形成错误映射。\n",
    "\n",
    "#@markdown Auxiliary data is to prevent overfitting when the audio samples are small or with low quality. \n",
    "\n",
    "#@markdown 以下情况请勾选：  \n",
    "\n",
    "#@markdown 总样本少于100条/样本包含角色只有1人/样本质量一般或较差/样本来自爬取的视频  \n",
    "\n",
    "#@markdown 以下情况可以不勾选：  \n",
    "\n",
    "#@markdown 总样本量很大/样本质量很高/希望加速训练/只有二次元角色\n",
    "\n",
    "#@markdown 样本仅包含单说话人会导致报错，请勾选ADD_AUXILIARY或加入几个dummy speaker绕过去  \n",
    "\n",
    "#@markdown Feeding voice samples containing single speaker will result in error. Please select ADD_AUXILIARY or add several dummy speakers to bypass.\n",
    "\n",
    "# assert(not (ADD_AUXILIARY and PRETRAINED_MODEL != \"CJE\")), \"add auxiliary data is available only available for CJE model!\"\n",
    "if ADD_AUXILIARY:\n",
    "  %run preprocess_v2.py --add_auxiliary_data True --languages \"{PRETRAINED_MODEL}\"\n",
    "else:\n",
    "  %run preprocess_v2.py --languages \"{PRETRAINED_MODEL}\""
   ]
  },
  {
   "cell_type": "markdown",
   "metadata": {
    "id": "VA4hV2G_fyKz"
   },
   "source": [
    "## STEP 4 开始训练"
   ]
  },
  {
   "cell_type": "code",
   "execution_count": null,
   "metadata": {
    "id": "4gmpTNtcW2Bt"
   },
   "outputs": [],
   "source": [
    "#@markdown #STEP 4 (>=20 min)\n",
    "#@markdown 开始微调模型，在40轮训练后会自动结束。\n",
    "#@markdown 训练时长取决于你录入/上传的音频总数。\n",
    "\n",
    "#@markdown 根据声线和样本质量的不同，所需的训练epochs数也不同。但是一般建议设置为40 epochs，  \n",
    "\n",
    "#@markdown 你也可以在Tensorboard中预览合成效果，若效果满意可提前停止。  \n",
    "\n",
    "#@markdown Model fine-tuning ends after 40 epochs. \n",
    "#@markdown Total time cost depends on the number of voices you recorded/uploaded.   \n",
    "\n",
    "#@markdown Best epoch number varies depending on different uploaded voices / sample quality. Normally, 40 epochs is suggested.\n",
    "\n",
    "#@markdown You can also preview synthezied audio in Tensorboard, it's OK to shut down training manually if you find the quality is satisfying.\n",
    "%reload_ext tensorboard\n",
    "%tensorboard --logdir \"./OUTPUT_MODEL\"\n",
    "Maximum_epochs = \"200\" #@param [20, 40, 60, 80, 100, 150]\n",
    "!python finetune_speaker_v2.py -m \"./OUTPUT_MODEL\" --max_epochs \"{Maximum_epochs}\" --drop_speaker_embed True"
   ]
  },
  {
   "cell_type": "code",
   "execution_count": 2,
   "metadata": {},
   "outputs": [
    {
     "name": "stdout",
     "output_type": "stream",
     "text": [
      "/root/VITS-fast-fine-tuning\n"
     ]
    }
   ],
   "source": [
    "%cd /root/VITS-fast-fine-tuning"
   ]
  },
  {
   "cell_type": "code",
   "execution_count": 3,
   "metadata": {
    "id": "SIK2XgD_ckgV",
    "tags": []
   },
   "outputs": [
    {
     "name": "stdout",
     "output_type": "stream",
     "text": [
      "DEBUG:matplotlib:(private) matplotlib data path: /root/miniconda3/lib/python3.8/site-packages/matplotlib/mpl-data\n",
      "DEBUG:matplotlib:matplotlib data path: /root/miniconda3/lib/python3.8/site-packages/matplotlib/mpl-data\n",
      "DEBUG:matplotlib:CONFIGDIR=/root/.config/matplotlib\n",
      "DEBUG:matplotlib:matplotlib version 3.3.1\n",
      "DEBUG:matplotlib:interactive is False\n",
      "DEBUG:matplotlib:platform is linux\n",
      "DEBUG:matplotlib:loaded modules: ['sys', 'builtins', '_frozen_importlib', '_imp', '_warnings', '_io', 'marshal', 'posix', '_frozen_importlib_external', '_thread', '_weakref', 'time', 'zipimport', '_codecs', 'codecs', 'encodings.aliases', 'encodings', 'encodings.utf_8', '_signal', '__main__', 'encodings.latin_1', '_abc', 'abc', 'io', '_stat', 'stat', '_collections_abc', 'genericpath', 'posixpath', 'os.path', 'os', '_sitebuiltins', '_locale', '_bootlocale', 'types', 'importlib._bootstrap', 'importlib._bootstrap_external', 'warnings', 'importlib', 'importlib.machinery', 'importlib.abc', '_operator', 'operator', 'keyword', '_heapq', 'heapq', 'itertools', 'reprlib', '_collections', 'collections', '_functools', 'functools', 'contextlib', 'importlib.util', 'google', 'mpl_toolkits', 'ruamel', 'site', '_weakrefset', 'weakref', 'pkgutil', 'runpy', 'enum', '_sre', 'sre_constants', 'sre_parse', 'sre_compile', 'copyreg', 're', 'ipykernel._version', '_json', 'json.scanner', 'json.decoder', 'json.encoder', 'json', 'errno', 'signal', 'threading', '_posixsubprocess', 'select', 'collections.abc', 'math', 'selectors', 'subprocess', 'typing.io', 'typing.re', 'typing', 'jupyter_client._version', '_ast', 'ast', '_opcode', 'opcode', 'dis', 'token', 'tokenize', 'linecache', 'inspect', 'traitlets.utils', 'traitlets.utils.getargspec', 'traitlets.utils.importstring', 'traitlets.utils.sentinel', 'traitlets.utils.bunch', 'traitlets.utils.descriptions', 'traitlets.traitlets', 'copy', 'traitlets.utils.decorators', 'traitlets._version', 'traitlets', 'concurrent', 'traceback', '_string', 'string', 'atexit', 'logging', 'concurrent.futures._base', 'concurrent.futures', '_socket', 'socket', '_ssl', '_struct', 'struct', 'binascii', 'base64', 'ssl', 'asyncio.constants', 'asyncio.format_helpers', 'asyncio.base_futures', 'asyncio.log', 'asyncio.coroutines', '_contextvars', 'contextvars', 'asyncio.exceptions', 'asyncio.base_tasks', '_asyncio', 'asyncio.events', 'asyncio.futures', 'asyncio.protocols', 'asyncio.transports', 'asyncio.sslproto', 'asyncio.locks', 'asyncio.tasks', 'asyncio.staggered', 'asyncio.trsock', 'asyncio.base_events', 'asyncio.runners', 'asyncio.queues', 'asyncio.streams', 'asyncio.subprocess', 'asyncio.base_subprocess', 'asyncio.selector_events', 'asyncio.unix_events', 'asyncio', '_queue', 'queue', 'platform', '_ctypes', 'ctypes._endian', 'ctypes', 'zmq.backend.select', 'cython_runtime', 'zmq.backend.cython.constants', '_cython_0_29_24', 'zmq.backend.cython.error', 'zmq.error', 'zmq.backend.cython.message', 'zmq.backend.cython.context', '_bisect', 'bisect', '_sha512', '_random', 'random', '_compat_pickle', '_pickle', 'pickle', 'zmq.backend.cython.socket', 'zmq.backend.cython.utils', 'zmq.backend.cython._poll', 'zmq.backend.cython._version', 'zmq.backend.cython._device', 'zmq.backend.cython._proxy_steerable', 'zmq.backend.cython', 'zmq.backend', 'zmq.utils', 'zmq.utils.constant_names', 'zmq.sugar.constants', 'zmq.sugar.attrsettr', 'zmq.sugar.poll', 'zmq.utils.jsonapi', 'zmq.utils.strtypes', 'zmq.sugar.socket', 'zmq.sugar.context', 'zmq.sugar.frame', 'zmq.sugar.tracker', 'zmq.sugar.version', 'zmq.sugar.stopwatch', 'zmq.sugar', 'zmq', 'zmq._future', 'zmq.asyncio', 'jupyter_client.channelsabc', '_hashlib', '_blake2', '_sha3', 'hashlib', 'hmac', 'pprint', '_datetime', 'datetime', 'fnmatch', 'zlib', '_compression', '_bz2', 'bz2', '_lzma', 'lzma', 'pwd', 'grp', 'shutil', 'locale', 'gettext', 'argparse', 'traitlets.config.loader', 'textwrap', 'traitlets.utils.text', 'traitlets.config.configurable', 'traitlets.config.application', 'traitlets.config', 'traitlets.log', '__future__', 'tornado', 'logging.handlers', 'html.entities', 'html', 'urllib', 'urllib.parse', 'array', 'tornado.speedups', 'tornado.util', 'tornado.escape', 'colorama.ansi', 'colorama.win32', 'colorama.winterm', 'colorama.ansitowin32', 'colorama.initialise', 'colorama', '_curses', 'curses', 'tornado.log', 'numbers', 'tornado.concurrent', 'tornado.ioloop', 'tornado.platform', 'tornado.gen', 'tornado.platform.asyncio', 'zmq.eventloop.ioloop', 'zmq.eventloop', 'zmq.eventloop.zmqstream', 'jupyter_client.adapter', 'dateutil._version', 'dateutil', 'calendar', 'six', '_decimal', 'decimal', 'dateutil._common', 'dateutil.relativedelta', 'six.moves', 'dateutil.tz._common', 'dateutil.tz._factories', 'dateutil.tz.tz', 'dateutil.tz', 'dateutil.parser._parser', 'dateutil.parser.isoparser', 'dateutil.parser', '_strptime', 'jupyter_client.jsonutil', 'jupyter_client.session', 'jupyter_client.channels', 'termios', 'getpass', 'jupyter_client.clientabc', 'glob', 'tempfile', 'jupyter_core.version', 'jupyter_core', 'ntpath', 'pathlib', 'jupyter_core.paths', 'jupyter_client.localinterfaces', 'jupyter_client.utils', 'jupyter_client.connect', 'jupyter_client.client', 'jupyter_client.asynchronous.client', 'jupyter_client.asynchronous', 'jupyter_client.blocking.client', 'jupyter_client.blocking', 'jupyter_client.launcher', 'uuid', 'jupyter_client.managerabc', 'zipfile', 'configparser', 'entrypoints', 'jupyter_client.provisioning.provisioner_base', 'jupyter_client.provisioning.factory', 'jupyter_client.provisioning.local_provisioner', 'jupyter_client.provisioning', 'jupyter_client.kernelspec', 'jupyter_client.manager', 'jupyter_client.multikernelmanager', 'jupyter_client', 'ipykernel.connect', 'ipykernel', 'IPython.core', 'IPython.core.getipython', 'IPython.core.release', 'sysconfig', '_sysconfigdata__linux_x86_64-linux-gnu', 'pydoc', 'bdb', 'IPython.utils', 'IPython.utils.ipstruct', 'IPython.utils.coloransi', 'pygments', 'IPython.utils.colorable', 'IPython.utils.PyColorize', 'IPython.utils.encoding', 'IPython.utils.py3compat', 'IPython.core.excolors', 'IPython.testing', 'IPython.testing.skipdoctest', 'cmd', 'codeop', 'code', 'pdb', 'IPython.core.debugger', 'IPython.core.display_trap', 'pexpect.exceptions', 'pexpect.utils', 'pexpect.expect', 'tty', 'pty', 'fcntl', 'resource', 'ptyprocess.util', 'ptyprocess.ptyprocess', 'ptyprocess', 'pexpect.spawnbase', 'pexpect.pty_spawn', 'pexpect.run', 'pexpect', 'shlex', 'IPython.utils._process_common', 'IPython.utils._process_posix', 'IPython.utils.process', 'IPython.utils.decorators', 'IPython.utils.path', 'IPython.utils.data', 'IPython.utils.terminal', 'IPython.core.ultratb', 'IPython.utils._sysinfo', 'IPython.utils.sysinfo', 'IPython.core.crashhandler', 'IPython.utils.importstring', 'IPython.paths', 'IPython.core.profiledir', 'IPython.core.application', 'IPython.terminal', 'IPython.core.compilerop', 'IPython.core.error', 'IPython.utils.text', 'IPython.core.magic_arguments', 'getopt', 'mimetypes', 'IPython.core.display', 'IPython.core.page', 'IPython.lib.security', 'IPython.lib', 'IPython.lib.pretty', 'IPython.utils.openpy', 'IPython.utils.dir2', 'IPython.utils.wildcard', 'pygments.lexers._mapping', 'pygments.modeline', 'pygments.plugin', 'pygments.util', 'pygments.lexers', 'pygments.filter', 'pygments.token', 'pygments.filters', 'pygments.regexopt', 'pygments.lexer', 'pygments.unistring', 'pygments.lexers.python', 'pygments.formatters._mapping', 'pygments.formatters', 'pygments.styles', 'pygments.formatter', 'pygments.formatters.html', 'IPython.core.oinspect', 'IPython.core.inputtransformer2', 'decorator', 'IPython.core.magic', 'pickleshare', 'IPython.core.autocall', 'IPython.core.macro', 'IPython.core.splitinput', 'IPython.core.prefilter', 'IPython.core.alias', 'IPython.core.builtin_trap', 'backcall.backcall', 'backcall', 'IPython.core.events', 'IPython.core.displayhook', 'IPython.core.displaypub', 'IPython.core.extensions', 'IPython.utils.sentinel', 'IPython.core.formatters', '_sqlite3', 'sqlite3.dbapi2', 'sqlite3', 'IPython.core.history', 'IPython.core.logger', 'IPython.core.payload', 'IPython.core.usage', 'IPython.lib.display', 'IPython.display', 'IPython.utils.capture', 'IPython.utils.io', 'IPython.core.hooks', 'IPython.utils.strdispatch', 'IPython.utils.syspathcontext', 'IPython.utils.tempdir', 'IPython.utils.contexts', 'IPython.core.async_helpers', 'IPython.core.interactiveshell', 'prompt_toolkit.application.current', 'prompt_toolkit.eventloop.utils', 'prompt_toolkit.eventloop.async_generator', 'wcwidth.table_wide', 'wcwidth.table_zero', 'wcwidth.unicode_versions', 'wcwidth.wcwidth', 'wcwidth', 'prompt_toolkit.utils', 'prompt_toolkit.eventloop.inputhook', 'prompt_toolkit.eventloop', 'prompt_toolkit.application.run_in_terminal', 'prompt_toolkit.selection', 'prompt_toolkit.clipboard.base', 'prompt_toolkit.clipboard.in_memory', 'prompt_toolkit.clipboard', 'prompt_toolkit.cache', 'prompt_toolkit.enums', 'prompt_toolkit.filters.base', 'prompt_toolkit.filters.app', 'prompt_toolkit.filters.cli', 'prompt_toolkit.filters.utils', 'prompt_toolkit.filters', 'prompt_toolkit.document', 'prompt_toolkit.auto_suggest', 'prompt_toolkit.data_structures', 'prompt_toolkit.styles.base', 'prompt_toolkit.styles.named_colors', 'prompt_toolkit.styles.style', 'prompt_toolkit.styles.defaults', 'prompt_toolkit.styles.pygments', 'colorsys', 'prompt_toolkit.styles.style_transformation', 'prompt_toolkit.styles', 'prompt_toolkit.output.color_depth', 'prompt_toolkit.output.base', 'prompt_toolkit.output.defaults', 'prompt_toolkit.output', 'prompt_toolkit.output.vt100', 'prompt_toolkit.mouse_events', 'prompt_toolkit.formatted_text.base', 'prompt_toolkit.formatted_text.ansi', 'xml', 'xml.dom.domreg', 'xml.dom', 'xml.dom.minicompat', 'xml.dom.NodeFilter', 'xml.dom.xmlbuilder', 'xml.dom.minidom', 'prompt_toolkit.formatted_text.html', 'prompt_toolkit.formatted_text.pygments', 'prompt_toolkit.formatted_text.utils', 'prompt_toolkit.formatted_text', 'prompt_toolkit.completion.base', 'prompt_toolkit.completion.deduplicate', 'prompt_toolkit.completion.filesystem', 'prompt_toolkit.completion.word_completer', 'prompt_toolkit.completion.fuzzy_completer', 'prompt_toolkit.completion.nested', 'prompt_toolkit.completion', 'prompt_toolkit.history', 'prompt_toolkit.keys', 'prompt_toolkit.key_binding.key_bindings', 'prompt_toolkit.key_binding.key_processor', 'prompt_toolkit.key_binding', 'prompt_toolkit.key_binding.vi_state', 'prompt_toolkit.search', 'prompt_toolkit.validation', 'prompt_toolkit.buffer', 'prompt_toolkit.input.base', 'prompt_toolkit.input.defaults', 'prompt_toolkit.input', 'prompt_toolkit.input.typeahead', 'prompt_toolkit.key_binding.bindings', 'prompt_toolkit.key_binding.bindings.scroll', 'prompt_toolkit.key_binding.bindings.page_navigation', 'prompt_toolkit.lexers.base', 'prompt_toolkit.lexers.pygments', 'prompt_toolkit.lexers', 'prompt_toolkit.layout.utils', 'prompt_toolkit.layout.processors', 'prompt_toolkit.layout.controls', 'prompt_toolkit.layout.dimension', 'prompt_toolkit.layout.margins', 'prompt_toolkit.layout.mouse_handlers', 'prompt_toolkit.layout.screen', 'prompt_toolkit.layout.containers', 'prompt_toolkit.layout.layout', 'prompt_toolkit.layout.menus', 'prompt_toolkit.layout.scrollable_pane', 'prompt_toolkit.layout', 'prompt_toolkit.key_binding.bindings.completion', 'prompt_toolkit.key_binding.bindings.named_commands', 'prompt_toolkit.key_binding.bindings.basic', 'prompt_toolkit.key_binding.bindings.cpr', 'prompt_toolkit.key_binding.bindings.emacs', 'prompt_toolkit.key_binding.bindings.mouse', 'prompt_toolkit.input.ansi_escape_sequences', 'prompt_toolkit.input.vt100_parser', 'prompt_toolkit.key_binding.digraphs', 'prompt_toolkit.key_binding.bindings.vi', 'prompt_toolkit.key_binding.defaults', 'prompt_toolkit.key_binding.emacs_state', 'prompt_toolkit.layout.dummy', 'prompt_toolkit.renderer', 'prompt_toolkit.application.application', 'prompt_toolkit.application.dummy', 'prompt_toolkit.application', 'prompt_toolkit.key_binding.bindings.focus', 'prompt_toolkit.widgets.toolbars', 'prompt_toolkit.widgets.base', 'prompt_toolkit.widgets.dialogs', 'prompt_toolkit.widgets.menus', 'prompt_toolkit.widgets', 'prompt_toolkit.shortcuts.dialogs', 'prompt_toolkit.shortcuts.progress_bar.formatters', 'prompt_toolkit.shortcuts.progress_bar.base', 'prompt_toolkit.shortcuts.progress_bar', 'prompt_toolkit.key_binding.bindings.auto_suggest', 'prompt_toolkit.key_binding.bindings.open_in_editor', 'prompt_toolkit.shortcuts.prompt', 'prompt_toolkit.shortcuts.utils', 'prompt_toolkit.shortcuts', 'prompt_toolkit', 'prompt_toolkit.patch_stdout', 'pygments.style', 'unicodedata', 'IPython.core.latex_symbols', 'IPython.utils.generics', 'parso.utils', 'parso.tree', 'parso.python', 'parso.python.token', 'parso.python.tokenize', 'parso.pgen2.grammar_parser', 'parso.pgen2.generator', 'parso.pgen2', 'parso.parser', 'parso._compatibility', 'difflib', 'parso.python.prefix', 'parso.python.tree', 'parso.python.parser', 'parso.python.diff', 'gc', 'parso.cache', 'parso.normalizer', 'parso.python.errors', 'parso.python.pep8', 'parso.file_io', 'parso.grammar', 'parso', 'jedi._compatibility', 'jedi.parser_utils', 'jedi.debug', 'jedi.settings', 'jedi.cache', 'jedi.file_io', 'jedi.inference.cache', 'jedi.inference.helpers', 'jedi.inference.utils', 'jedi.inference.base_value', 'jedi.inference.sys_path', 'jedi.inference.recursion', 'jedi.inference.flow_analysis', 'jedi.common', 'jedi.inference.lazy_value', 'jedi.inference.docstrings', 'jedi.plugins', 'jedi.inference.names', 'jedi.inference.filters', 'jedi.inference.compiled.getattr_static', 'jedi.inference.compiled.access', 'jedi.inference.signature', 'jedi.inference.context', 'jedi.inference.compiled.value', 'jedi.inference.compiled', 'jedi.inference.analysis', 'jedi.inference.gradual', 'jedi.inference.value.module', 'jedi.inference.value.dynamic_arrays', 'jedi.inference.value.iterable', 'jedi.inference.arguments', 'jedi.inference.parser_cache', 'jedi.inference.gradual.generics', 'jedi.inference.value.function', 'jedi.inference.value.klass', 'jedi.inference.value.instance', 'jedi.inference.value', 'jedi.inference.gradual.base', 'jedi.inference.gradual.type_var', 'jedi.inference.gradual.typing', 'jedi.inference.gradual.stub_value', 'jedi.inference.gradual.typeshed', 'jedi.inference.compiled.subprocess.functions', 'jedi.api.exceptions', 'jedi.inference.compiled.subprocess', 'jedi.inference.imports', 'jedi.inference.param', 'jedi.inference.gradual.annotation', 'jedi.inference.value.decorator', 'jedi.inference.syntax_tree', 'jedi.inference', 'jedi.inference.gradual.conversion', 'jedi.inference.compiled.mixed', 'pydoc_data', 'pydoc_data.topics', 'jedi.api.keywords', 'jedi.api.completion_cache', 'jedi.api.helpers', 'jedi.api.classes', 'jedi.api.interpreter', 'jedi.api.strings', 'jedi.api.file_name', 'jedi.api.completion', 'filecmp', 'jedi.api.environment', 'jedi.inference.references', 'jedi.api.project', 'jedi.api.errors', 'jedi.api.refactoring', 'jedi.api.refactoring.extract', 'jedi.inference.gradual.utils', 'jedi.api', 'jedi.plugins.stdlib', 'jedi.plugins.flask', 'jedi.plugins.pytest', 'jedi.plugins.django', 'jedi.plugins.registry', 'jedi', 'IPython.core.completer', 'IPython.terminal.ptutils', 'IPython.terminal.shortcuts', 'IPython.terminal.debugger', 'IPython.lib.clipboard', 'IPython.terminal.magics', 'IPython.terminal.pt_inputhooks', 'IPython.terminal.prompts', 'IPython.terminal.interactiveshell', 'IPython.core.magics.auto', 'IPython.core.magics.basic', 'email', 'http', 'email.errors', 'email.quoprimime', 'email.base64mime', 'quopri', 'email.encoders', 'email.charset', 'email.header', 'email._parseaddr', 'email.utils', 'email._policybase', 'email.feedparser', 'email.parser', 'uu', 'email._encoded_words', 'email.iterators', 'email.message', 'http.client', 'urllib.response', 'urllib.error', 'urllib.request', 'IPython.core.magics.code', 'IPython.core.magics.config', 'IPython.core.magics.display', 'timeit', '_lsprof', 'profile', 'cProfile', 'pstats', 'IPython.utils.module_paths', 'IPython.utils.timing', 'IPython.core.magics.execution', 'IPython.core.magics.extension', 'IPython.core.magics.history', 'IPython.core.magics.logging', 'IPython.core.magics.namespace', 'IPython.core.magics.osm', 'IPython.core.magics.packaging', 'IPython.core.pylabtools', 'IPython.core.magics.pylab', 'IPython.lib.backgroundjobs', 'IPython.core.magics.script', 'IPython.core.magics', 'IPython.core.shellapp', 'IPython.extensions', 'IPython.extensions.storemagic', 'IPython.terminal.ipapp', 'IPython.terminal.embed', 'IPython.utils.frame', 'IPython', 'ipython_genutils._version', 'ipython_genutils', 'ipython_genutils.encoding', 'ipython_genutils.py3compat', 'ipython_genutils.path', 'imp', 'ipykernel.iostream', 'ipykernel.control', 'ipykernel.heartbeat', 'IPython.utils.tokenutil', 'tornado.locks', 'tornado.queues', 'ipykernel.jsonutil', 'ipykernel.kernelbase', 'ipykernel.comm.comm', 'ipykernel.comm.manager', 'ipykernel.comm', 'IPython.core.payloadpage', 'ipykernel.displayhook', 'ipykernel.zmqshell', 'distutils', 'distutils.version', 'ipykernel.eventloops', 'ipykernel.compiler', 'debugpy._version', 'debugpy.common', 'debugpy.common.json', 'debugpy.common.fmt', 'debugpy.common.compat', 'debugpy', 'debugpy._vendored._util', 'debugpy._vendored', '_pydevd_bundle', 'encodings.ascii', 'stringprep', 'encodings.idna', '_pydevd_bundle.pydevd_vm_type', '_pydev_imps', 'xmlrpc', 'xml.parsers', 'pyexpat.errors', 'pyexpat.model', 'pyexpat', 'xml.parsers.expat.model', 'xml.parsers.expat.errors', 'xml.parsers.expat', 'gzip', 'xmlrpc.client', 'socketserver', 'http.server', 'xmlrpc.server', '_pydev_imps._pydev_saved_modules', '_pydevd_bundle.pydevd_constants', '_pydev_bundle', '_pydev_runfiles', '_pydevd_frame_eval', 'pydev_ipython', 'pydevd_concurrency_analyser', 'plistlib', 'pkg_resources.extern', 'pkg_resources._vendor', 'pkg_resources._vendor.appdirs', 'pkg_resources.extern.appdirs', 'pkg_resources._vendor.packaging.__about__', 'pkg_resources._vendor.packaging', 'pkg_resources.extern.packaging', 'pkg_resources.extern.packaging._structures', 'pkg_resources.extern.packaging._typing', 'pkg_resources.extern.packaging.version', 'pkg_resources.extern.packaging._compat', 'pkg_resources.extern.packaging.utils', 'pkg_resources.extern.packaging.specifiers', 'pkg_resources._vendor.pyparsing', 'pkg_resources.extern.pyparsing', 'pkg_resources.extern.packaging.markers', 'pkg_resources.extern.packaging.requirements', 'pkg_resources', 'pydevd_plugins', '_pydev_bundle.pydev_log', '_pydev_bundle._pydev_filesystem_encoding', '_pydevd_bundle.pydevd_comm_constants', 'pydevd_file_utils', '_pydev_imps._pydev_execfile', '_pydevd_bundle.pydevd_exec2', '_pydev_bundle.pydev_imports', '_pydev_bundle.pydev_is_thread_alive', '_pydev_bundle.pydev_override', 'pydevd_plugins.extensions', '_pydevd_bundle.pydevd_extension_utils', '_pydevd_bundle.pydevd_frame_utils', '_pydevd_bundle.pydevd_filtering', '_pydevd_bundle.pydevd_io', '_pydevd_bundle.pydevd_utils', '_pydev_bundle._pydev_tipper_common', '_pydev_bundle._pydev_imports_tipper', '_pydev_bundle._pydev_calltip_util', '_pydevd_bundle.pydevd_safe_repr', '_pydevd_bundle.pydevd_resolver', '_pydevd_bundle.pydevd_extension_api', '_pydevd_bundle.pydevd_xml', '_pydevd_bundle.pydevd_dont_trace', '_pydevd_frame_eval.vendored', '_pydevd_frame_eval.vendored.bytecode.flags', '_pydevd_frame_eval.vendored.bytecode.instr', '_pydevd_frame_eval.vendored.bytecode.bytecode', '_pydevd_frame_eval.vendored.bytecode.concrete', '_pydevd_frame_eval.vendored.bytecode.cfg', '_pydevd_frame_eval.vendored.bytecode', '_pydevd_bundle.pydevd_bytecode_utils', '_pydevd_bundle.pydevd_cython', '_pydevd_bundle.pydevd_cython_wrapper', '_pydevd_bundle.pydevd_additional_thread_info', '_pydevd_bundle.pydevd_thread_lifecycle', '_pydevd_bundle.pydevd_save_locals', '_pydevd_bundle.pydevd_defaults', '_pydev_bundle.pydev_monkey', 'pydevd_tracing', '_pydevd_bundle.pydevd_daemon_thread', '_pydevd_bundle.pydevd_timeout', '_pydevd_bundle.pydevd_vars', '_pydev_bundle.pydev_console_utils', '_pydevd_bundle.pydevd_import_class', '_pydevd_bundle.pydevd_breakpoints', '_pydevd_bundle.pydevd_custom_frames', '_pydevd_bundle.pydevd_dont_trace_files', '_pydevd_bundle.pydevd_net_command', '_pydev_bundle.pydev_umd', 'pydevconsole', '_pydev_bundle._pydev_completer', '_pydevd_bundle.pydevd_net_command_factory_xml', '_pydevd_bundle.pydevd_frame', '_pydevd_bundle.pydevd_additional_thread_info_regular', '_pydevd_bundle.pydevd_trace_dispatch', '_pydevd_frame_eval.pydevd_frame_eval_main', '_pydevd_bundle.pydevd_source_mapping', 'pydevd_concurrency_analyser.pydevd_thread_wrappers', 'pydevd_concurrency_analyser.pydevd_concurrency_logger', '_pydevd_bundle._debug_adapter', '_pydevd_bundle._debug_adapter.pydevd_schema_log', '_pydevd_bundle._debug_adapter.pydevd_base_schema', '_pydevd_bundle._debug_adapter.pydevd_schema', '_pydevd_bundle.pydevd_reload', '_pydev_bundle.fsnotify', '_pydevd_bundle.pydevd_console', '_pydevd_bundle.pydevd_comm', '_pydevd_bundle.pydevd_net_command_factory_json', '_pydevd_bundle.pydevd_collect_bytecode_info', '_pydevd_bundle.pydevd_api', '_pydevd_bundle.pydevd_json_debug_options', '_pydevd_bundle.pydevd_process_net_command_json', '_pydevd_bundle.pydevd_traceproperty', '_pydevd_bundle.pydevd_process_net_command', '_pydevd_bundle.pydevd_suspended_frames', '_pydevd_bundle.pydevd_trace_api', 'pydevd_plugins.django_debug', 'pydevd_plugins.jinja2_debug', '_pydevd_bundle.pydevd_plugin_utils', 'pydevd_plugins.extensions.types', 'pydevd_plugins.extensions.types.pydevd_helpers', 'pydevd_plugins.extensions.types.pydevd_plugin_numpy_types', 'pydevd_plugins.extensions.types.pydevd_plugins_django_form_str', 'pydevd_plugins.extensions.pydevd_plugin_omegaconf', 'pydevd', 'debugpy._vendored.force_pydevd', 'debugpy.server', 'debugpy.adapter', 'debugpy.common.timestamp', 'debugpy.common.util', 'debugpy.common.log', 'debugpy.common.sockets', 'debugpy.server.api', 'ipykernel.debugger', 'ipykernel.ipkernel', 'ipykernel.parentpoller', 'ipykernel.kernelapp', 'faulthandler', 'IPython.core.completerlib', 'storemagic', 'numpy._globals', 'numpy.__config__', 'numpy._version', 'numpy._distributor_init', 'numpy.version', 'numpy.core._multiarray_umath', 'numpy.compat._inspect', 'numpy.compat.py3k', 'numpy.compat', 'numpy.core.overrides', 'numpy.core.multiarray', 'numpy.core.umath', 'numpy.core._string_helpers', 'numpy.core._dtype', 'numpy.core._type_aliases', 'numpy.core.numerictypes', 'numpy.core._exceptions', 'numpy.core._methods', 'numpy.core.fromnumeric', 'numpy.core.shape_base', 'numpy.core._ufunc_config', 'numpy.core.arrayprint', 'numpy.core._asarray', 'numpy.core.numeric', 'numpy.core.defchararray', 'numpy.core.records', 'numpy.core.memmap', 'numpy.core.function_base', 'numpy.core.machar', 'numpy.core.getlimits', 'numpy.core.einsumfunc', 'numpy.core._multiarray_tests', 'numpy.core._add_newdocs', 'numpy.core._add_newdocs_scalars', 'numpy.core._dtype_ctypes', 'numpy.core._internal', 'numpy._pytesttester', 'numpy.core', 'numpy.lib.mixins', 'numpy.lib.ufunclike', 'numpy.lib.type_check', 'numpy.lib.scimath', 'numpy.lib.stride_tricks', 'numpy.lib.twodim_base', 'numpy.linalg.lapack_lite', 'numpy.linalg._umath_linalg', 'numpy.linalg.linalg', 'numpy.linalg', 'numpy.matrixlib.defmatrix', 'numpy.matrixlib', 'numpy.lib.histograms', 'numpy.lib.function_base', 'numpy.lib.index_tricks', 'numpy.lib.nanfunctions', 'numpy.lib.shape_base', 'numpy.lib.polynomial', 'numpy.lib.utils', 'numpy.lib.arraysetops', 'numpy.lib.format', 'numpy.lib._datasource', 'numpy.lib._iotools', 'numpy.lib.npyio', 'numpy.lib.arrayterator', 'numpy.lib.arraypad', 'numpy.lib._version', 'numpy.lib', 'numpy.fft._pocketfft_internal', 'numpy.fft._pocketfft', 'numpy.fft.helper', 'numpy.fft', 'numpy.polynomial.polyutils', 'numpy.polynomial._polybase', 'numpy.polynomial.polynomial', 'numpy.polynomial.chebyshev', 'numpy.polynomial.legendre', 'numpy.polynomial.hermite', 'numpy.polynomial.hermite_e', 'numpy.polynomial.laguerre', 'numpy.polynomial', 'numpy.random._common', 'secrets', 'numpy.random.bit_generator', 'numpy.random._bounded_integers', 'numpy.random._mt19937', 'numpy.random.mtrand', 'numpy.random._philox', 'numpy.random._pcg64', 'numpy.random._sfc64', 'numpy.random._generator', 'numpy.random._pickle', 'numpy.random', 'numpy.ctypeslib', 'numpy.ma.core', 'numpy.ma.extras', 'numpy.ma', 'numpy', 'torch._utils', 'torch._utils_internal', 'torch.version', 'torch.torch_version', 'torch._six', 'torch._C._onnx', 'torch._C._jit', 'torch._C._jit_tree_views', 'torch._C._te', 'torch._C._nvfuser', 'torch._C._monitor', 'torch._C._functorch', 'torch._C._profiler', 'torch._C.cpp', 'torch._C.cpp.nn', 'torch._C._lazy', 'torch._C._lazy_ts_backend', 'torch._C._itt', 'torch._C._cudart', 'torch._C._nvtx', 'torch._C._cudnn', 'torch._C._verbose', 'torch._C', 'torch._C._fft', 'torch._C._linalg', 'torch._C._nested', 'torch._C._nn', 'torch._C._return_types', 'torch._C._sparse', 'torch._C._special', 'torch.utils.throughput_benchmark', 'torch.utils._crash_handler', 'torch.utils.cpp_backtrace', 'torch.utils', 'torch.utils.hooks', 'torch._namedtensor_internals', 'torch.overrides', 'torch._tensor', 'torch.types', 'torch.storage', 'torch.random', 'tarfile', 'torch._sources', 'typing_extensions', 'torch._weights_only_unpickler', 'torch.serialization', 'torch._tensor_str', 'torch.amp.autocast_mode', 'torch.amp', 'torch.cuda._utils', 'torch.cuda.graphs', 'torch.cuda.streams', 'torch.cuda._memory_viz', 'torch.cuda.memory', 'torch.cuda.random', 'torch.cuda.sparse', 'torch.cuda.profiler', 'torch.cuda.nvtx', 'torch.cuda.amp.autocast_mode', 'torch.cuda.amp.common', 'torch.cuda.amp.grad_scaler', 'torch.cuda.amp', 'torch.cuda.jiterator', 'torch.cuda', 'torch.sparse', 'torch.backends', 'torch.backends.opt_einsum', 'torch.nn.parameter', 'torch.nn.modules.module', 'torch._VF', 'torch._torch_docs', 'torch._C._distributed_c10d', 'torch.distributed.constants', 'torch.distributed.rendezvous', 'torch.distributed.distributed_c10d', 'torch.distributed.remote_device', 'torch.distributed', 'torch._C._distributed_rpc', 'torch.futures', 'torch.distributed.rpc.internal', 'torch.distributed.rpc.constants', 'torch.distributed.rpc._utils', 'torch.distributed.rpc.api', 'torch.distributed.rpc.backend_registry', 'torch.distributed.rpc.functions', 'torch._C._distributed_autograd', 'torch.distributed.autograd', 'torch.distributed.rpc.options', 'torch.autograd.variable', 'torch.autograd.function', 'cmath', 'torch.testing._comparison', 'torch.testing._creation', 'torch.testing._legacy', 'torch.testing._deprecated', 'torch.testing', 'torch.utils._pytree', 'torch._vmap_internals', 'torch.autograd.gradcheck', 'torch.autograd.grad_mode', 'torch.autograd.anomaly_mode', 'torch.autograd.forward_ad', 'torch.autograd.functional', 'torch.autograd.graph', 'torch._C._autograd', 'torch.autograd.profiler_util', 'torch.autograd.profiler', 'torch.autograd', 'torch.autograd.profiler_legacy', 'torch.distributed.rpc.server_process_global_profiler', 'torch.distributed.rpc', 'pickletools', 'dataclasses', 'torch.package._digraph', 'torch.package._importlib', 'torch.package._mangling', 'torch.package.importer', 'torch.package._package_pickler', 'torch.package._stdlib', 'torch.package.find_file_dependencies', 'torch.package.glob_group', 'torch.package.package_exporter', 'torch.package.analyze.find_first_use_of_broken_modules', 'torch.package.analyze.trace_dependencies', 'torch.package.analyze', 'torch.package.analyze.is_from_package', 'torch.package.file_structure_representation', 'torch.package._directory_reader', 'torch.package._package_unpickler', 'torch.package.package_importer', 'torch.package', 'torch._jit_internal', 'torch.nn._reduction', 'torch.nn.modules.utils', 'torch.nn.grad', 'torch.nn.functional', 'torch.nn.init', 'torch.nn.modules.lazy', 'torch.nn.modules.linear', 'torch.nn.common_types', 'torch.nn.modules.conv', 'torch.nn.modules.activation', 'torch.nn.modules.distance', 'torch.nn.modules.loss', 'torch.nn.modules.container', 'torch.nn.modules.pooling', 'torch.nn.modules._functions', 'torch.nn.modules.batchnorm', 'torch.nn.modules.instancenorm', 'torch.nn.modules.normalization', 'torch.nn.modules.dropout', 'torch.nn.modules.padding', 'torch.nn.modules.sparse', 'torch.nn.utils.rnn', 'torch.nn.utils.clip_grad', 'torch.nn.utils.weight_norm', 'torch.nn.utils.convert_parameters', 'torch.nn.utils.spectral_norm', 'torch.nn.utils.fusion', 'torch.nn.utils.memory_format', 'torch.nn.utils.parametrize', 'torch.nn.utils.parametrizations', 'torch.nn.utils.init', 'torch.nn.utils.stateless', 'torch.nn.utils', 'torch.nn.modules.rnn', 'torch.nn.modules.pixelshuffle', 'torch.nn.modules.upsampling', 'torch.nn.modules.fold', 'torch.nn.modules.adaptive', 'torch.nn.modules.transformer', 'torch.nn.modules.flatten', 'torch.nn.modules.channelshuffle', 'torch.nn.modules', 'torch.nn.parallel.parallel_apply', 'torch.cuda.nccl', 'torch.nn.parallel.comm', 'torch.nn.parallel.replicate', 'torch.nn.parallel._functions', 'torch.nn.parallel.scatter_gather', 'torch.nn.parallel.data_parallel', 'torch.distributed.algorithms.join', 'torch.distributed.algorithms', 'torch.distributed.utils', 'torch.nn.parallel._replicated_tensor_ddp_utils', 'torch.nn.parallel.distributed', 'torch.nn.parallel', 'torch.nn', 'torch._linalg_utils', 'torch._lowrank', 'torch.functional', 'torch.cpu.amp.autocast_mode', 'torch.cpu.amp', 'torch.cpu', 'torch.fft', 'torch.nested', 'torch.optim.optimizer', 'torch.optim.adadelta', 'torch.optim.adagrad', 'torch.optim.adam', 'torch.optim.adamw', 'torch.optim.adamax', 'torch.optim.asgd', 'torch.optim.nadam', 'torch.optim.radam', 'torch.optim.rmsprop', 'torch.optim.rprop', 'torch.optim.sgd', 'torch.optim._functional', 'torch.optim.sparse_adam', 'torch.optim.lbfgs', 'torch.optim.lr_scheduler', 'torch.optim.swa_utils', 'torch.optim', 'torch.optim._multi_tensor', 'multiprocessing.process', 'multiprocessing.reduction', 'multiprocessing.context', '__mp_main__', 'multiprocessing', 'multiprocessing.util', 'multiprocessing.resource_sharer', 'torch.multiprocessing.reductions', '_multiprocessing', 'multiprocessing.connection', 'torch.multiprocessing.spawn', 'torch.multiprocessing', 'torch.special', 'torch.utils.backcompat', 'torch.onnx._deprecation', 'torch.onnx._constants', 'torch.onnx._internal', 'torch.onnx._internal.diagnostics.infra.sarif._property_bag', 'torch.onnx._internal.diagnostics.infra.sarif._address', 'torch.onnx._internal.diagnostics.infra.sarif._multiformat_message_string', 'torch.onnx._internal.diagnostics.infra.sarif._artifact_content', 'torch.onnx._internal.diagnostics.infra.sarif._message', 'torch.onnx._internal.diagnostics.infra.sarif._artifact_location', 'torch.onnx._internal.diagnostics.infra.sarif._artifact', 'torch.onnx._internal.diagnostics.infra.sarif._region', 'torch.onnx._internal.diagnostics.infra.sarif._replacement', 'torch.onnx._internal.diagnostics.infra.sarif._artifact_change', 'torch.onnx._internal.diagnostics.infra.sarif._rectangle', 'torch.onnx._internal.diagnostics.infra.sarif._attachment', 'torch.onnx._internal.diagnostics.infra.sarif._location_relationship', 'torch.onnx._internal.diagnostics.infra.sarif._logical_location', 'torch.onnx._internal.diagnostics.infra.sarif._physical_location', 'torch.onnx._internal.diagnostics.infra.sarif._location', 'torch.onnx._internal.diagnostics.infra.sarif._tool_component_reference', 'torch.onnx._internal.diagnostics.infra.sarif._reporting_descriptor_reference', 'torch.onnx._internal.diagnostics.infra.sarif._stack_frame', 'torch.onnx._internal.diagnostics.infra.sarif._stack', 'torch.onnx._internal.diagnostics.infra.sarif._web_request', 'torch.onnx._internal.diagnostics.infra.sarif._web_response', 'torch.onnx._internal.diagnostics.infra.sarif._thread_flow_location', 'torch.onnx._internal.diagnostics.infra.sarif._thread_flow', 'torch.onnx._internal.diagnostics.infra.sarif._code_flow', 'torch.onnx._internal.diagnostics.infra.sarif._reporting_configuration', 'torch.onnx._internal.diagnostics.infra.sarif._configuration_override', 'torch.onnx._internal.diagnostics.infra.sarif._exception', 'torch.onnx._internal.diagnostics.infra.sarif._notification', 'torch.onnx._internal.diagnostics.infra.sarif._invocation', 'torch.onnx._internal.diagnostics.infra.sarif._reporting_descriptor_relationship', 'torch.onnx._internal.diagnostics.infra.sarif._reporting_descriptor', 'torch.onnx._internal.diagnostics.infra.sarif._translation_metadata', 'torch.onnx._internal.diagnostics.infra.sarif._tool_component', 'torch.onnx._internal.diagnostics.infra.sarif._tool', 'torch.onnx._internal.diagnostics.infra.sarif._conversion', 'torch.onnx._internal.diagnostics.infra.sarif._edge', 'torch.onnx._internal.diagnostics.infra.sarif._edge_traversal', 'torch.onnx._internal.diagnostics.infra.sarif._node', 'torch.onnx._internal.diagnostics.infra.sarif._graph', 'torch.onnx._internal.diagnostics.infra.sarif._fix', 'torch.onnx._internal.diagnostics.infra.sarif._graph_traversal', 'torch.onnx._internal.diagnostics.infra.sarif._result_provenance', 'torch.onnx._internal.diagnostics.infra.sarif._suppression', 'torch.onnx._internal.diagnostics.infra.sarif._result', 'torch.onnx._internal.diagnostics.infra.sarif._external_properties', 'torch.onnx._internal.diagnostics.infra.sarif._external_property_file_reference', 'torch.onnx._internal.diagnostics.infra.sarif._external_property_file_references', 'torch.onnx._internal.diagnostics.infra.sarif._run_automation_details', 'torch.onnx._internal.diagnostics.infra.sarif._special_locations', 'torch.onnx._internal.diagnostics.infra.sarif._version_control_details', 'torch.onnx._internal.diagnostics.infra.sarif._run', 'torch.onnx._internal.diagnostics.infra.sarif._sarif_log', 'torch.onnx._internal.diagnostics.infra.sarif', 'torch.onnx._internal.diagnostics.infra.formatter', 'torch.onnx._internal.diagnostics.infra._infra', 'torch.onnx._internal.diagnostics.infra.sarif.version', 'torch.onnx._internal.diagnostics.infra.engine', 'torch.onnx._internal.diagnostics.infra', 'torch.onnx._internal.diagnostics._rules', 'torch.onnx._internal.diagnostics._diagnostic', 'torch.onnx._internal.diagnostics', 'torch.onnx.errors', 'torch.jit._dataclass_impls', 'torch.jit._monkeytype_config', 'torch.jit._state', 'torch._ops', 'torch.jit.annotations', 'torch.jit.frontend', 'torch.backends.cudnn', 'torch.jit._builtins', 'torch.jit._check', 'torch.jit._recursive', 'torch.jit._fuser', 'torch.jit._serialization', 'torch._classes', 'torch.jit._script', 'torch.jit._trace', 'torch.jit._async', 'torch.jit._decomposition_utils', 'torch.jit._freeze', 'torch.jit._ir_utils', 'torch.jit', 'torch.onnx._exporter_states', 'torch.onnx._globals', 'torch.onnx._internal._beartype', 'torch.onnx._internal.jit_utils', 'torch.onnx._internal.registration', 'torch.onnx.utils', 'torch.onnx._patch_torch', 'torch.onnx._type_utils', 'torch.onnx.symbolic_helper', 'torch.onnx.symbolic_opset9', 'torch.onnx.symbolic_caffe2', 'torch.onnx.symbolic_opset7', 'torch.onnx.symbolic_opset8', 'torch.onnx.symbolic_opset10', 'torch.onnx.symbolic_opset11', 'torch.onnx.symbolic_opset12', 'torch.onnx.symbolic_opset13', 'torch.onnx.symbolic_opset14', 'torch.onnx.symbolic_opset15', 'torch.onnx.symbolic_opset16', 'torch.onnx.symbolic_opset17', 'torch.onnx', 'torch.linalg', 'tqdm._monitor', 'tqdm._tqdm_pandas', 'tqdm.utils', 'tqdm.std', 'tqdm._dist_ver', 'tqdm.version', 'tqdm.cli', 'tqdm.gui', 'tqdm', 'ipywidgets._version', 'ipywidgets.widgets.widget', 'ipywidgets.widgets.util', 'ipywidgets.widgets.trait_types', 'ipywidgets.widgets.widget_layout', 'ipywidgets.widgets.widget_style', 'ipywidgets.widgets.domwidget', 'ipywidgets.widgets.valuewidget', 'ipywidgets.widgets.widget_core', 'ipywidgets.widgets.widget_description', 'ipywidgets.widgets.widget_bool', 'ipywidgets.widgets.widget_button', 'ipywidgets.widgets.docutils', 'ipywidgets.widgets.widget_box', 'ipywidgets.widgets.widget_int', 'ipywidgets.widgets.widget_float', 'ipywidgets.widgets.widget_color', 'ipywidgets.widgets.widget_date', 'ipywidgets.widgets.widget_output', 'ipywidgets.widgets.widget_selection', 'ipywidgets.widgets.widget_selectioncontainer', 'ipywidgets.widgets.widget_string', 'ipywidgets.widgets.widget_controller', 'ipywidgets.widgets.interaction', 'ipywidgets.widgets.widget_link', 'ipywidgets.widgets.widget_media', 'ipywidgets.widgets.widget_templates', 'ipywidgets.widgets.widget_upload', 'ipywidgets.widgets', 'ipywidgets', 'tqdm.notebook', 'tqdm.autonotebook', 'tqdm.asyncio', 'tqdm.auto', 'torch.hub', 'torch.distributions.constraints', 'torch.distributions.utils', 'torch.distributions.distribution', 'torch.distributions.exp_family', 'torch.distributions.bernoulli', 'torch.distributions.dirichlet', 'torch.distributions.beta', 'torch.distributions.binomial', 'torch.distributions.categorical', 'torch.distributions.cauchy', 'torch.distributions.gamma', 'torch.distributions.chi2', 'torch.distributions.transforms', 'torch.distributions.constraint_registry', 'torch.distributions.continuous_bernoulli', 'torch.distributions.exponential', 'torch.distributions.fishersnedecor', 'torch.distributions.geometric', 'torch.distributions.uniform', 'torch.distributions.independent', 'torch.distributions.transformed_distribution', 'torch.distributions.gumbel', 'torch.distributions.half_cauchy', 'torch.distributions.normal', 'torch.distributions.half_normal', 'torch.distributions.laplace', 'torch.distributions.multivariate_normal', 'torch.distributions.lowrank_multivariate_normal', 'torch.distributions.one_hot_categorical', 'torch.distributions.pareto', 'torch.distributions.poisson', 'torch.distributions.kl', 'torch.distributions.kumaraswamy', 'torch.distributions.lkj_cholesky', 'torch.distributions.log_normal', 'torch.distributions.logistic_normal', 'torch.distributions.mixture_same_family', 'torch.distributions.multinomial', 'torch.distributions.negative_binomial', 'torch.distributions.relaxed_bernoulli', 'torch.distributions.relaxed_categorical', 'torch.distributions.studentT', 'torch.distributions.von_mises', 'torch.distributions.weibull', 'torch.distributions.wishart', 'torch.distributions', 'torch.backends.cuda', 'torch.backends.mps', 'torch.backends.mkl', 'torch.backends.mkldnn', 'torch.backends.openmp', 'torch.backends.quantized', 'torch.utils.data.sampler', 'torch.utils.data.dataset', 'torch.utils.data.datapipes._hook_iterator', 'torch.utils.data.datapipes._typing', 'torch.utils.data.datapipes.utils', 'torch.utils.data._utils.signal_handling', 'torch.utils.data._utils.worker', 'torch.utils.data._utils.pin_memory', 'torch.utils.data._utils.collate', 'torch.utils.data._utils.fetch', 'torch.utils.data._utils', 'torch.utils.data._utils.serialization', 'torch.utils.data.datapipes.utils.common', 'torch.utils.data.datapipes.datapipe', 'torch.utils.data.datapipes.iter.utils', 'torch.utils.data.datapipes._decorator', 'torch.utils.data.datapipes.dataframe.dataframe_wrapper', 'torch.utils.data.datapipes.dataframe.structures', 'torch.utils.data.datapipes.dataframe.dataframes', 'torch.utils.data.datapipes.dataframe.datapipes', 'torch.utils.data.datapipes.dataframe', 'torch.utils.data.datapipes.iter.callable', 'torch.utils.data.datapipes.iter.combinatorics', 'torch.utils.data.datapipes.iter.combining', 'torch.utils.data.datapipes.iter.filelister', 'torch.utils.data.datapipes.iter.fileopener', 'torch.utils.data.datapipes.iter.grouping', 'torch.utils.data.datapipes.utils.decoder', 'torch.utils.data.datapipes.iter.routeddecoder', 'torch.utils.data.datapipes.iter.selecting', 'torch.utils.data.datapipes.iter.streamreader', 'torch.utils.data.datapipes.iter', 'torch.utils.data.datapipes.map.callable', 'torch.utils.data.datapipes.map.combinatorics', 'torch.utils.data.datapipes.map.combining', 'torch.utils.data.datapipes.map.grouping', 'torch.utils.data.datapipes.map.utils', 'torch.utils.data.datapipes.map', 'torch.utils.data.datapipes', 'torch.utils.data.graph', 'torch.utils.data.graph_settings', 'torch.utils.data.dataloader', 'torch.utils.data.distributed', 'torch.utils.data.backward_compatibility', 'torch.utils.data.communication.eventloop', 'torch.utils.data.communication.iter', 'torch.utils.data.communication.map', 'torch.utils.data.communication.messages', 'torch.utils.data.communication.protocol', 'torch.utils.data.communication.queue', 'torch.utils.data.communication', 'torch.utils.data.dataloader_experimental', 'torch.utils.data', 'torch.__config__', 'torch.__future__', 'torch.profiler.profiler', 'torch.profiler.itt', 'torch.profiler', 'torch.ao', 'torch.ao.nn', 'torch.ao.nn.intrinsic.modules.fused', 'torch.ao.nn.intrinsic.modules', 'torch.ao.nn.intrinsic', 'torch.nn.intrinsic.modules.fused', 'torch.nn.intrinsic.modules', 'torch.nn.intrinsic', 'torch.ao.nn.quantizable.modules.activation', 'torch.ao.nn.quantizable.modules.rnn', 'torch.ao.nn.quantizable.modules', 'torch.ao.nn.quantizable', 'torch.nn.quantizable.modules', 'torch.nn.quantizable', 'torch.ao.nn.quantized.modules.activation', 'torch.ao.nn.quantized.modules.dropout', 'torch.ao.nn.quantized.modules.batchnorm', 'torch.ao.nn.quantized.modules.normalization', 'torch.ao.nn.qat.modules.linear', 'torch.ao.nn.qat.modules.conv', 'torch.ao.nn.qat.modules.embedding_ops', 'torch.ao.nn.qat.modules', 'torch.ao.nn.qat', 'torch.nn.intrinsic.qat.modules.linear_relu', 'torch.nn.intrinsic.qat.modules.linear_fused', 'torch.nn.intrinsic.qat.modules.conv_fused', 'torch.nn.intrinsic.qat.modules', 'torch.nn.intrinsic.qat', 'torch.ao.nn.quantized.modules.utils', 'torch.ao.nn.quantized.modules.conv', 'torch.ao.nn.quantized.modules.linear', 'torch.ao.nn.quantized.modules.embedding_ops', 'torch.ao.nn.quantized.modules.rnn', 'torch.ao.nn.quantized.modules.functional_modules', 'torch.ao.nn.quantized.modules', 'torch.ao.nn.quantized.functional', 'torch.ao.nn.quantized', 'torch.ao.nn.quantized.dynamic.modules.linear', 'torch.ao.nn.quantized.dynamic.modules.rnn', 'torch.ao.nn.quantized.dynamic.modules.conv', 'torch.ao.nn.quantized.dynamic.modules', 'torch.ao.nn.quantized.dynamic', 'torch.nn.quantized.dynamic', 'torch.nn.quantized.functional', 'torch.nn.quantized.modules', 'torch.nn.quantized', 'torch.ao.nn.qat.dynamic.modules.linear', 'torch.ao.nn.qat.dynamic.modules', 'torch.ao.nn.qat.dynamic', 'torch.nn.qat.dynamic.modules.linear', 'torch.nn.qat.dynamic.modules', 'torch.nn.qat.dynamic', 'torch.nn.qat.modules.conv', 'torch.nn.qat.modules.embedding_ops', 'torch.nn.qat.modules.linear', 'torch.nn.qat.modules', 'torch.nn.qat', 'torch._tensor_docs', 'torch._storage_docs', 'torch.ao.quantization.quant_type', 'torch.ao.quantization.utils', 'torch.ao.quantization.observer', 'torch.ao.quantization.fake_quantize', 'torch.ao.quantization.fuser_method_mappings', 'torch.ao.quantization.fuse_modules', 'torch.ao.quantization.qconfig', 'torch.ao.quantization.qconfig_mapping', 'torch.nn.intrinsic.quantized.modules.linear_relu', 'torch.nn.intrinsic.quantized.modules.conv_relu', 'torch.nn.intrinsic.quantized.modules.bn_relu', 'torch.nn.intrinsic.quantized.modules', 'torch.nn.intrinsic.quantized', 'torch.nn.intrinsic.quantized.dynamic.modules.linear_relu', 'torch.nn.intrinsic.quantized.dynamic.modules', 'torch.nn.intrinsic.quantized.dynamic', 'torch.ao.nn.quantized.reference.modules.utils', 'torch.ao.nn.quantized.reference.modules.linear', 'torch.ao.nn.quantized.reference.modules.conv', 'torch.ao.nn.quantized.reference.modules.rnn', 'torch.ao.nn.quantized.reference.modules.sparse', 'torch.ao.nn.quantized.reference.modules', 'torch.ao.nn.quantized.reference', 'torch.ao.nn.sparse.quantized.linear', 'torch.ao.nn.sparse.quantized.utils', 'torch.ao.nn.sparse.quantized.dynamic.linear', 'torch.ao.nn.sparse.quantized.dynamic', 'torch.ao.nn.sparse.quantized', 'torch.ao.nn.sparse', 'torch.ao.quantization.stubs', 'torch.ao.quantization.quantization_mappings', 'torch.ao.quantization.quantize', 'torch.ao.quantization.quantize_jit', 'torch.ao.quantization', 'torch.quantization.quantize', 'torch.quantization.observer', 'torch.quantization.qconfig', 'torch.quantization.fake_quantize', 'torch.quantization.fuser_method_mappings', 'torch.quantization.fuse_modules', 'torch.quantization.stubs', 'torch.quantization.quant_type', 'torch.quantization.quantize_jit', 'torch.quantization.quantization_mappings', 'torch.quantization', 'torch.quasirandom', 'torch.multiprocessing._atfork', 'torch._lobpcg', 'torch.utils.dlpack', 'torch.masked.maskedtensor.core', 'torch.masked.maskedtensor.binary', 'torch.masked.maskedtensor.passthrough', 'torch.masked.maskedtensor.creation', 'torch.masked.maskedtensor.reductions', 'torch.masked.maskedtensor.unary', 'torch.masked.maskedtensor', 'torch.masked._docs', 'torch.masked._ops', 'torch.masked', 'torch.return_types', 'torch.library', 'torch._prims_common', 'torch._prims_common.wrappers', 'torch._prims.nvfuser_prims', 'torch.utils._mode_utils', 'torch._subclasses.meta_utils', 'torch.fx._compatibility', 'torch.fx.immutable_collections', 'torch.fx.operator_schemas', 'torch.fx.node', 'torch.fx._pytree', 'torch.fx.graph', 'torch.fx.graph_module', 'torch.fx.traceback', 'torch.fx.proxy', 'torch.fx._symbolic_trace', 'torch.fx.interpreter', 'torch.fx.subgraph_rewriter', 'torch.fx', 'torch.utils._python_dispatch', 'torch._subclasses.fake_tensor', 'torch._subclasses.fake_utils', 'torch._subclasses', 'torch._prims', 'torch._decomp.decompositions', 'torch._decomp', 'torch._refs.fft', 'torch._refs.linalg', 'torch._refs.nn', 'torch._refs.nn.functional', 'torch._refs.special', 'torch._refs', 'torch._meta_registrations', 'torch', 'commons', 'librosa.version', 'joblib.hashing', 'joblib.disk', 'joblib.logger', 'joblib.func_inspect', 'joblib.backports', 'joblib.compressor', 'joblib.numpy_pickle_utils', 'joblib.numpy_pickle_compat', 'joblib.numpy_pickle', 'joblib._store_backends', 'joblib.memory', 'joblib._multiprocessing_helpers', 'joblib._deprecated_my_exceptions', 'joblib.my_exceptions', 'mmap', 'joblib.externals', 'joblib.externals.loky._base', 'multiprocessing.synchronize', 'joblib.externals.loky.backend.process', 'joblib.externals.loky.backend.context', 'joblib.externals.loky.backend', 'joblib.externals.loky.backend._posix_reduction', 'joblib.externals.cloudpickle.compat', 'joblib.externals.cloudpickle.cloudpickle', 'joblib.externals.cloudpickle.cloudpickle_fast', 'joblib.externals.cloudpickle', 'joblib.externals.loky.backend.reduction', 'multiprocessing.queues', 'concurrent.futures.process', 'joblib.externals.loky.backend.queues', 'joblib.externals.loky.backend.utils', 'joblib.externals.loky.initializers', 'joblib.externals.loky.process_executor', 'joblib.externals.loky.reusable_executor', 'joblib.externals.loky.cloudpickle_wrapper', 'joblib.externals.loky', 'joblib.externals.loky.backend.spawn', 'joblib.externals.loky.backend.resource_tracker', 'joblib._memmapping_reducer', 'multiprocessing.pool', 'joblib.pool', 'joblib.executor', 'joblib._parallel_backends', 'joblib._utils', 'joblib.parallel', 'joblib._cloudpickle_wrapper', 'joblib', 'librosa._cache', 'scipy._lib._testutils', 'scipy._lib', 'scipy._lib.deprecation', 'scipy.__config__', 'scipy.version', 'scipy._distributor_init', 'scipy._lib._pep440', 'scipy._lib._ccallback_c', 'scipy._lib._ccallback', 'scipy._lib._uarray._uarray', 'scipy._lib._uarray._backend', 'scipy._lib._uarray', 'scipy._lib.uarray', 'scipy.fft._basic', 'scipy.fft._realtransforms', 'scipy.fft._pocketfft.pypocketfft', 'scipy.fft._pocketfft.helper', 'scipy.fft._pocketfft.basic', 'scipy.fft._pocketfft.realtransforms', 'scipy.fft._pocketfft', 'scipy.fft._helper', 'scipy.fft._backend', 'scipy.fft', 'scipy', 'scipy.ndimage._ni_support', 'scipy.ndimage._nd_image', 'scipy._lib.doccer', 'scipy.ndimage._ni_docstrings', 'scipy.ndimage.filters', 'scipy.ndimage.fourier', 'scipy.ndimage.interpolation', '_cython_0_29_21', '_ni_label', 'scipy.ndimage._ni_label', 'scipy.ndimage.morphology', 'scipy.ndimage.measurements', 'scipy.ndimage', 'scipy._lib._util', 'scipy.sparse.sputils', 'scipy.sparse.base', 'scipy.sparse._sparsetools', 'scipy.sparse.data', 'scipy.sparse.dia', 'scipy.sparse._index', 'scipy.sparse.compressed', 'scipy.sparse.csr', 'scipy.sparse.csc', 'scipy.sparse._csparsetools', 'scipy.sparse.lil', 'scipy.sparse.dok', 'scipy.sparse.coo', 'scipy.sparse.bsr', 'scipy.sparse.construct', 'scipy.sparse.extract', 'scipy.sparse._matrix_io', 'scipy.sparse.csgraph._laplacian', 'scipy.sparse.csgraph._tools', 'scipy.sparse.csgraph._validation', 'scipy.sparse.csgraph._shortest_path', 'scipy.sparse.csgraph._traversal', 'scipy.sparse.csgraph._min_spanning_tree', 'scipy.sparse.csgraph._flow', 'scipy.sparse.csgraph._matching', 'scipy.sparse.csgraph._reordering', 'scipy.sparse.csgraph', 'scipy.sparse', 'numba._version', 'numba.misc', 'numba.misc.init_utils', 'numba.core', 'yaml.error', 'yaml.tokens', 'yaml.events', 'yaml.nodes', 'yaml.reader', 'yaml.scanner', 'yaml.parser', 'yaml.composer', 'yaml.constructor', 'yaml.resolver', 'yaml.loader', 'yaml.emitter', 'yaml.serializer', 'yaml.representer', 'yaml.dumper', 'yaml._yaml', 'yaml.cyaml', 'yaml', 'llvmlite._version', 'llvmlite', 'importlib.resources', 'llvmlite.binding.common', 'llvmlite.utils', 'llvmlite.binding.ffi', 'llvmlite.binding.dylib', 'llvmlite.binding.targets', 'llvmlite.binding.object_file', 'llvmlite.binding.executionengine', 'llvmlite.binding.initfini', 'llvmlite.binding.linker', 'llvmlite.binding.value', 'llvmlite.binding.context', 'llvmlite.binding.module', 'llvmlite.binding.options', 'llvmlite.binding.passmanagers', 'llvmlite.binding.transforms', 'llvmlite.ir._utils', 'llvmlite.ir.types', 'llvmlite.ir.values', 'llvmlite.ir.context', 'llvmlite.ir.module', 'llvmlite.ir.instructions', 'llvmlite.ir.builder', 'llvmlite.ir.transforms', 'llvmlite.ir', 'llvmlite.binding.analysis', 'llvmlite.binding', 'numba.core.config', 'numba.core.utils', 'numba.core.types.abstract', 'numba.core.errors', 'numba.core.types.common', 'numba.core.typeconv.castgraph', 'numba.core.typeconv', 'numba.core.consts', 'numba.core.ir', 'numba.core.types.misc', 'numba.core.types.containers', 'numba.core.types.functions', 'numba.core.types.iterators', 'numba.core.types.npytypes', 'numba.np', 'numba.np.npdatetime_helpers', 'numba.core.types.scalars', 'numba.core.types.function_type', 'numba.core.types', 'numba.core.typeconv._typeconv', 'numba.core.typeconv.typeconv', 'numba.core.typeconv.rules', 'numba.core.targetconfig', 'numba.core.cpu_options', 'numba.core.typing.templates', 'numba.core.datamodel.manager', 'numba.core.datamodel.packer', 'numba.core.datamodel.registry', 'numba.core.datamodel.models', 'numba.core.datamodel', 'numba.core.debuginfo', 'numba.core.cgutils', 'numba.np.numpy_support', 'numba.core.typing.typeof', 'numba.core.typing.context', 'numba.core.typing', 'numba.core.typing.asnumbatype', 'numba.misc.special', 'numba.stencils', 'numba.core.imputils', 'numba._helperlib', 'numba.core.itanium_mangler', 'numba.core.funcdesc', 'numba.core.generators', 'numba.core.removerefctpass', 'numba._dynfunc', 'numba.core.environment', 'numba.core.controlflow', 'numba.core.analysis', 'numba.misc.firstlinefinder', 'numba.core.lowering', 'numba.cloudpickle.compat', 'numba.cloudpickle.cloudpickle', 'numba.cloudpickle.cloudpickle_fast', 'numba.cloudpickle', 'numba.core.serialize', 'numba.core.pythonapi', 'numba.core.extending', 'numba.core.transforms', 'numba.core.postproc', 'numba.core.rewrites.registry', 'numba.core.rewrites.static_getitem', 'numba.core.rewrites.static_raise', 'numba.core.rewrites.static_binop', 'numba.core.rewrites.ir_print', 'numba.core.rewrites', 'numba.core.ir_utils', 'numba.core.descriptors', 'numba._devicearray', 'numba._dispatcher', 'numba.core.tracing', 'numba.core.dataflow', 'numba.core.byteflow', 'numba.core.unsafe', 'numba.core.unsafe.eh', 'numba.cpython', 'numba.cpython.unsafe', 'numba.cpython.unsafe.tuple', 'numba.core.interpreter', 'numba.core.bytecode', 'numba.core.event', 'numba.core.compiler_lock', 'numba.core.typeinfer', 'numba.stencils.stencilparfor', 'numba.core.overload_glue', 'numba.core.typing.npydecl', 'numba.np.unsafe', 'numba.np.unsafe.ndarray', 'numba.parfors.array_analysis', 'numba.parfors.parfor', 'numba.core.sigutils', 'numba.parfors.parfor_lowering_utils', 'numba.parfors.parfor_lowering', 'numba.parfors', 'numba.core.typing.builtins', 'numba.extending', 'numba.cpython.builtins', 'numba.core.base', 'numba.core.callconv', 'numba.core.callwrapper', 'numba.core.llvm_bindings', 'numba.core.runtime.nrtdynmod', 'numba.core.runtime._nrt_python', 'numba.core.runtime.nrt', 'numba.core.runtime', 'numba.core.runtime.nrtopt', 'numba.misc.inspection', 'numba.misc.llvm_pass_timings', 'numba.core.codegen', 'numba.core.intrinsics', 'numba.core.externals', 'numba.core.fastmathpass', 'numba.core.options', '_csv', 'csv', 'zipp.py310compat', 'zipp', 'importlib_metadata._functools', 'importlib_metadata._text', 'importlib_metadata._adapters', 'importlib_metadata._compat', 'importlib_metadata._meta', 'importlib_metadata._py39compat', 'importlib_metadata._collections', 'importlib_metadata._itertools', 'importlib_metadata', 'numba.core.entrypoints', 'numba.np.ufunc_db', 'numba.core.cpu', 'numba.core.compiler_machinery', 'numba.core.ssa', 'numba.core.untyped_passes', 'numba.core.annotations', 'numba.core.annotations.type_annotations', 'numba.core.typed_passes', 'numba.core.pylowering', 'numba.core.object_mode_passes', 'numba.core.compiler', 'numba.misc.appdirs', 'numba.core.caching', 'numba.core.retarget', 'numba.core.dispatcher', 'numba.core.registry', 'numba.stencils.stencil', 'numba.core.decorators', 'numba.np.ufunc._internal', 'numba.np.ufunc.wrappers', 'numba.core.target_extension', 'numba.np.ufunc.sigparse', 'numba.np.ufunc.ufuncbuilder', 'numba.np.ufunc.parallel', 'numba.np.ufunc.dufunc', 'numba.np.ufunc.gufunc', 'numba.np.ufunc.decorators', 'numba.np.ufunc.array_exprs', 'numba.np.ufunc', 'numba.experimental.jitclass.decorators', 'numba.experimental.jitclass._box', 'numba.experimental.jitclass.boxing', 'numba.experimental.jitclass.overloads', 'numba.experimental.jitclass', 'numba.experimental', 'numba.core.withcontexts', 'numba.typed', 'numba', 'librosa.util.exceptions', 'librosa.util.deprecation', 'librosa.util.decorators', 'librosa.util.utils', 'ftplib', 'urllib3.packages.ssl_match_hostname', 'urllib3.packages', 'urllib3.packages.six', 'urllib3.packages.six.moves', 'urllib3.packages.six.moves.http_client', 'urllib3.exceptions', 'urllib3._version', 'urllib3.contrib', 'urllib3.contrib._appengine_environ', 'urllib3.util.wait', 'urllib3.util.connection', '_cffi_backend', '_brotli.lib', '_brotli', 'brotli._brotli', 'brotli.brotli', 'brotli', 'urllib3.util.request', 'urllib3.util.response', 'urllib3.util.retry', 'urllib3.util.url', 'urllib3.util.ssltransport', 'urllib3.util.ssl_', 'urllib3.util.timeout', 'urllib3.util', 'urllib3.util.proxy', 'urllib3._collections', 'urllib3.connection', 'urllib3.fields', 'urllib3.filepost', 'urllib3.packages.six.moves.urllib', 'urllib3.packages.six.moves.urllib.parse', 'urllib3.request', 'urllib3.response', 'urllib3.util.queue', 'urllib3.connectionpool', 'urllib3.poolmanager', 'urllib3', 'chardet.enums', 'chardet.charsetprober', 'chardet.charsetgroupprober', 'chardet.codingstatemachine', 'chardet.escsm', 'chardet.escprober', 'chardet.latin1prober', 'chardet.mbcssm', 'chardet.utf8prober', 'chardet.mbcharsetprober', 'chardet.euctwfreq', 'chardet.euckrfreq', 'chardet.gb2312freq', 'chardet.big5freq', 'chardet.jisfreq', 'chardet.chardistribution', 'chardet.jpcntx', 'chardet.sjisprober', 'chardet.eucjpprober', 'chardet.gb2312prober', 'chardet.euckrprober', 'chardet.cp949prober', 'chardet.big5prober', 'chardet.euctwprober', 'chardet.mbcsgroupprober', 'chardet.hebrewprober', 'chardet.sbcharsetprober', 'chardet.langbulgarianmodel', 'chardet.langgreekmodel', 'chardet.langhebrewmodel', 'chardet.langrussianmodel', 'chardet.langthaimodel', 'chardet.langturkishmodel', 'chardet.sbcsgroupprober', 'chardet.universaldetector', 'chardet.version', 'chardet', 'http.cookiejar', 'http.cookies', 'requests.compat', 'requests.exceptions', 'charset_normalizer.assets', 'charset_normalizer.constant', 'charset_normalizer.md__mypyc', '_multibytecodec', 'charset_normalizer.utils', 'charset_normalizer.md', 'charset_normalizer.models', 'charset_normalizer.cd', 'charset_normalizer.api', 'charset_normalizer.legacy', 'charset_normalizer.version', 'charset_normalizer', 'requests.packages.urllib3.packages.ssl_match_hostname', 'requests.packages.urllib3.packages', 'requests.packages.urllib3.packages.six', 'requests.packages.urllib3.packages.six.moves', 'requests.packages.urllib3.packages.six.moves.http_client', 'requests.packages.urllib3.exceptions', 'requests.packages.urllib3._version', 'requests.packages.urllib3.contrib', 'requests.packages.urllib3.contrib._appengine_environ', 'requests.packages.urllib3.util.wait', 'requests.packages.urllib3.util.connection', 'requests.packages.urllib3.util.request', 'requests.packages.urllib3.util.response', 'requests.packages.urllib3.util.retry', 'requests.packages.urllib3.util.url', 'requests.packages.urllib3.util.ssltransport', 'requests.packages.urllib3.util.ssl_', 'requests.packages.urllib3.util.timeout', 'requests.packages.urllib3.util', 'requests.packages.urllib3.util.proxy', 'requests.packages.urllib3._collections', 'requests.packages.urllib3.connection', 'requests.packages.urllib3.fields', 'requests.packages.urllib3.filepost', 'requests.packages.urllib3.packages.six.moves.urllib', 'requests.packages.urllib3.packages.six.moves.urllib.parse', 'requests.packages.urllib3.request', 'requests.packages.urllib3.response', 'requests.packages.urllib3.util.queue', 'requests.packages.urllib3.connectionpool', 'requests.packages.urllib3.poolmanager', 'requests.packages.urllib3', 'idna.package_data', 'idna.idnadata', 'idna.intranges', 'idna.core', 'idna', 'requests.packages.idna.package_data', 'requests.packages.idna.idnadata', 'requests.packages.idna.intranges', 'requests.packages.idna.core', 'requests.packages.idna', 'requests.packages.chardet', 'requests.packages', 'certifi.core', 'certifi', 'requests.certs', 'requests.__version__', 'requests._internal_utils', 'requests.cookies', 'requests.structures', 'requests.utils', 'requests.auth', 'requests.hooks', 'requests.status_codes', 'requests.models', 'socks', 'urllib3.contrib.socks', 'requests.adapters', 'requests.sessions', 'requests.api', 'requests', 'pooch.hashes', 'appdirs', 'packaging.__about__', 'packaging', 'packaging._structures', 'packaging.version', 'pooch.utils', 'pooch.downloaders', 'pooch.core', 'pooch.processors', 'pooch._version', 'pooch', 'librosa.util.files', 'librosa.util.matching', 'scipy.optimize.minpack2', 'scipy.optimize.linesearch', 'scipy.sparse.linalg.isolve._iterative', 'scipy.sparse.linalg.interface', 'scipy.sparse.linalg.isolve.utils', 'scipy._lib.decorator', 'scipy._lib._threadsafety', 'scipy.sparse.linalg.isolve.iterative', 'scipy.sparse.linalg.isolve.minres', 'scipy.linalg._fblas', 'scipy.linalg.blas', 'scipy.linalg._flapack', 'scipy.linalg.lapack', 'scipy.linalg.misc', 'scipy.linalg._flinalg', 'scipy.linalg.flinalg', 'scipy.linalg.decomp', 'scipy.linalg.decomp_svd', 'scipy.linalg._solve_toeplitz', 'scipy.linalg.basic', 'scipy.linalg.decomp_lu', 'scipy.linalg._decomp_ldl', 'scipy.linalg.decomp_cholesky', 'scipy.linalg.decomp_qr', 'scipy.linalg._decomp_qz', 'scipy.linalg.decomp_schur', 'scipy.linalg._decomp_polar', 'scipy.linalg.special_matrices', 'scipy.linalg._expm_frechet', 'scipy.linalg._matfuncs_sqrtm', 'scipy.linalg.matfuncs', 'scipy.linalg._solvers', 'scipy.linalg._procrustes', 'scipy.linalg.cython_blas', 'scipy.linalg.cython_lapack', 'scipy.linalg._decomp_update', 'scipy.linalg._sketches', 'scipy.linalg._decomp_cossin', 'scipy.linalg', 'scipy.sparse.linalg.isolve._gcrotmk', 'scipy.sparse.linalg.isolve.lgmres', 'scipy.sparse.linalg.isolve.lsqr', 'scipy.sparse.linalg.isolve.lsmr', 'scipy.sparse.linalg.isolve', 'scipy.sparse.linalg.dsolve._superlu', 'scipy.sparse.linalg.dsolve.linsolve', 'scipy.sparse.linalg.dsolve._add_newdocs', 'scipy.sparse.linalg.dsolve', 'scipy.sparse.linalg.eigen.arpack._arpack', 'scipy.sparse.linalg.eigen.lobpcg.lobpcg', 'scipy.sparse.linalg.eigen.lobpcg', 'scipy.sparse.linalg.eigen.arpack.arpack', 'scipy.sparse.linalg.eigen.arpack', 'scipy.sparse.linalg.eigen', 'scipy.special.sf_error', 'scipy.special._ufuncs_cxx', 'scipy.special._ufuncs', 'scipy.special.specfun', 'scipy.special.orthogonal', 'scipy.special._comb', 'scipy.special._basic', 'scipy.special._logsumexp', 'scipy.special.spfun_stats', 'scipy.special._ellip_harm_2', 'scipy.special._ellip_harm', 'scipy.special._lambertw', 'scipy.special._spherical_bessel', 'scipy.special', 'scipy.sparse.linalg._expm_multiply', 'scipy.sparse.linalg.matfuncs', 'scipy.sparse.linalg._onenormest', 'scipy.sparse.linalg._norm', 'scipy.sparse.linalg', 'scipy.optimize._group_columns', 'scipy.optimize._numdiff', 'scipy.optimize._hessian_update_strategy', 'scipy.optimize._differentiable_functions', 'scipy.optimize.optimize', 'scipy.optimize._trustregion', 'scipy.optimize._trustregion_dogleg', 'scipy.optimize._trustregion_ncg', 'scipy._lib.messagestream', 'scipy.optimize._trlib._trlib', 'scipy.optimize._trlib', 'scipy.optimize._trustregion_krylov', 'scipy.optimize._trustregion_exact', 'unittest.util', 'unittest.result', 'unittest.case', 'unittest.async_case', 'unittest.suite', 'unittest.loader', 'unittest.signals', 'unittest.runner', 'unittest.main', 'unittest', 'numpy.testing._private', 'numpy.testing._private.utils', 'numpy.testing._private.decorators', 'numpy.testing._private.nosetester', 'numpy.testing', 'scipy.optimize._constraints', 'scipy.optimize._trustregion_constr.projections', 'scipy.optimize._trustregion_constr.qp_subproblem', 'scipy.optimize._trustregion_constr.equality_constrained_sqp', 'scipy.optimize._trustregion_constr.canonical_constraint', 'scipy.optimize._trustregion_constr.tr_interior_point', 'scipy.optimize._trustregion_constr.report', 'scipy.optimize._trustregion_constr.minimize_trustregion_constr', 'scipy.optimize._trustregion_constr', 'scipy.optimize._lbfgsb', 'scipy.optimize.lbfgsb', 'scipy.optimize.moduleTNC', 'scipy.optimize.tnc', 'scipy.optimize._cobyla', 'scipy.optimize.cobyla', 'scipy.optimize._slsqp', 'scipy.optimize.slsqp', 'scipy.optimize._minimize', 'scipy.optimize._minpack', 'scipy.optimize._lsq.common', 'scipy.optimize._lsq.trf', 'scipy.optimize._lsq.dogbox', 'scipy.optimize._lsq.least_squares', 'scipy.optimize._lsq.givens_elimination', 'scipy.optimize._lsq.trf_linear', 'scipy.optimize._lsq.bvls', 'scipy.optimize._lsq.lsq_linear', 'scipy.optimize._lsq', 'scipy.optimize.minpack', 'scipy.optimize._spectral', 'scipy.optimize.nonlin', 'scipy.optimize._root', 'scipy.optimize._zeros', 'scipy.optimize.zeros', 'scipy.optimize._root_scalar', 'scipy.optimize.__nnls', 'scipy.optimize._nnls', 'scipy.optimize._basinhopping', 'scipy.optimize._remove_redundancy', 'scipy.optimize._linprog_util', 'scipy.optimize._linprog_ip', 'scipy.optimize._linprog_simplex', 'scipy.optimize._bglu_dense', 'scipy.optimize._linprog_rs', 'scipy.optimize._linprog', 'scipy.optimize._lsap_module', 'scipy.optimize._lsap', 'scipy.optimize._differentialevolution', 'scipy.spatial.kdtree', 'scipy.spatial.ckdtree', 'scipy.spatial.qhull', 'scipy.spatial._voronoi', 'scipy.spatial._spherical_voronoi', 'scipy.spatial._plotutils', 'scipy.spatial._procrustes', 'scipy.spatial._distance_wrap', 'scipy.spatial._hausdorff', 'scipy.spatial.distance', 'scipy.spatial._geometric_slerp', 'scipy.constants.codata', 'scipy.constants.constants', 'scipy.constants', 'scipy.spatial.transform._rotation_groups', 'scipy.spatial.transform.rotation', 'scipy.spatial.transform._rotation_spline', 'scipy.spatial.transform', 'scipy.spatial', 'scipy.optimize._shgo_lib', 'scipy.optimize._shgo_lib.sobol_seq', 'scipy.optimize._shgo_lib.triangulation', 'scipy.optimize._shgo', 'scipy.optimize._dual_annealing', 'scipy.optimize', 'librosa.util._nnls', 'librosa.util', 'librosa.core.notation', 'librosa.core.convert', 'ctypes.util', '_soundfile', 'soundfile', 'audioread.exceptions', 'audioread.base', 'audioread.ffdec', 'audioread.version', 'audioread', 'scipy.signal.sigtools', 'scipy.signal.windows.windows', 'scipy.signal.windows', 'scipy.signal.waveforms', 'scipy.signal._max_len_seq_inner', 'scipy.signal._max_len_seq', 'scipy.signal._upfirdn_apply', 'scipy.signal._upfirdn', 'scipy.signal.spline', 'scipy.signal.bsplines', 'scipy.signal.filter_design', 'scipy.signal.fir_filter_design', 'scipy.integrate._quadrature', 'scipy.integrate._odepack', 'scipy.integrate.odepack', 'scipy.integrate._quadpack', 'scipy.integrate.quadpack', 'scipy.integrate.vode', 'scipy.integrate._dop', 'scipy.integrate.lsoda', 'scipy.integrate._ode', 'scipy.integrate._bvp', 'scipy.integrate._ivp.common', 'scipy.integrate._ivp.base', 'scipy.integrate._ivp.bdf', 'scipy.integrate._ivp.radau', 'scipy.integrate._ivp.dop853_coefficients', 'scipy.integrate._ivp.rk', 'scipy.integrate._ivp.lsoda', 'scipy.integrate._ivp.ivp', 'scipy.integrate._ivp', 'scipy.integrate._quad_vec', 'scipy.integrate', 'scipy.interpolate._fitpack', 'scipy.interpolate.dfitpack', 'scipy.interpolate._fitpack_impl', 'scipy.interpolate._bspl', 'scipy.interpolate._bsplines', 'scipy.interpolate.fitpack', 'scipy.interpolate.polyint', 'scipy.interpolate._ppoly', 'scipy.interpolate.fitpack2', 'scipy.interpolate.interpnd', 'scipy.interpolate.interpolate', 'scipy.interpolate.rbf', 'scipy.interpolate._cubic', 'scipy.interpolate.ndgriddata', 'scipy.interpolate._pade', 'scipy.interpolate', 'scipy.signal.lti_conversion', 'scipy.signal.ltisys', 'scipy.signal._arraytools', 'scipy.signal._sosfilt', 'scipy.signal.signaltools', 'scipy.signal._savitzky_golay', 'scipy.signal._spectral', 'scipy.signal.spectral', 'scipy.signal.wavelets', 'scipy.stats._distr_params', 'scipy.misc.doccer', 'scipy.misc.common', 'scipy.misc', 'scipy.stats._constants', 'scipy.stats._distn_infrastructure', 'scipy.special.cython_special', 'scipy.stats._stats', 'scipy.stats._rvs_sampling', 'scipy.stats._tukeylambda_stats', 'scipy.stats._ksstats', 'scipy.stats._continuous_distns', 'scipy.stats._discrete_distns', 'scipy.stats.distributions', 'scipy.stats._stats_mstats_common', 'scipy.stats.mstats_basic', 'scipy.stats._wilcoxon_data', 'scipy.stats._hypotests', 'scipy.stats.stats', 'scipy.stats.statlib', 'scipy.stats.contingency', 'scipy.stats.morestats', 'scipy.stats._binned_statistic', 'scipy.stats.mvn', 'scipy.stats.kde', 'scipy.stats.mstats_extras', 'scipy.stats.mstats', 'scipy.stats._multivariate', 'scipy.stats', 'scipy.signal._peak_finding_utils', 'scipy.signal._peak_finding', 'scipy.signal', 'resampy.version', 'resampy.filters', 'resampy.interpn', 'resampy.core', 'resampy', 'librosa.core.fft', 'encodings.cp437', 'librosa.core.audio', 'librosa.filters', 'librosa.core.spectrum', 'librosa.sequence', 'librosa.core.pitch', 'librosa.core.constantq', 'librosa.core.harmonic', 'librosa.core', 'librosa.feature.utils', 'scipy.fftpack.helper', 'scipy.fftpack.basic', 'scipy.fftpack.convolve', 'scipy.fftpack.pseudo_diffs', 'scipy.fftpack.realtransforms', 'scipy.fftpack', 'librosa.feature.spectral', 'librosa.feature.rhythm', 'librosa.feature.inverse', 'librosa.feature', 'librosa.onset', 'librosa.beat', 'sklearn._config', 'sklearn._distributor_init', 'sklearn.__check_build._check_build', 'sklearn.__check_build', 'sklearn.utils.murmurhash', 'sklearn.utils.class_weight', 'sklearn.utils._joblib', 'sklearn.exceptions', 'sklearn.utils.deprecation', 'threadpoolctl', 'sklearn.externals', 'sklearn.externals._packaging', 'sklearn.externals._packaging._structures', 'sklearn.externals._packaging.version', 'sklearn.utils.fixes', 'sklearn.utils._estimator_html_repr', 'sklearn.utils.validation', 'sklearn.utils._bunch', 'sklearn.utils', 'sklearn.utils._tags', 'sklearn.base', 'sklearn.utils._openmp_helpers', 'sklearn.utils._show_versions', 'sklearn', '_cython_0_29_32', 'sklearn.decomposition._cdnmf_fast', 'sklearn.utils._logistic_sigmoid', 'sklearn.utils.sparsefuncs_fast', 'sklearn.utils.extmath', 'sklearn.decomposition._nmf', 'sklearn.decomposition._base', 'sklearn.utils._arpack', 'sklearn.decomposition._pca', 'sklearn.decomposition._incremental_pca', 'sklearn.utils.metaestimators', 'sklearn.preprocessing._function_transformer', 'sklearn.utils.sparsefuncs', 'sklearn.utils._mask', 'sklearn.utils._encode', 'sklearn.preprocessing._encoders', 'sklearn.preprocessing._data', 'sklearn.utils.multiclass', 'sklearn.preprocessing._label', 'sklearn.preprocessing._discretization', 'sklearn.utils.stats', 'sklearn.preprocessing._csr_polynomial_expansion', 'sklearn.preprocessing._polynomial', 'sklearn.preprocessing', 'sklearn.metrics._base', 'sklearn.metrics._ranking', 'sklearn.metrics._classification', 'sklearn.utils._typedefs', 'sklearn.utils._readonly_array_wrapper', 'sklearn.metrics._dist_metrics', 'sklearn.metrics.cluster._expected_mutual_info_fast', 'sklearn.metrics.cluster._supervised', 'sklearn.utils._cython_blas', 'sklearn.utils._heap', 'sklearn.utils._sorting', 'sklearn.utils._vector_sentinel', 'sklearn.metrics._pairwise_distances_reduction', 'sklearn.metrics._pairwise_fast', 'sklearn.metrics.pairwise', 'sklearn.metrics.cluster._unsupervised', 'sklearn.metrics.cluster._bicluster', 'sklearn.metrics.cluster', 'sklearn.metrics._regression', 'sklearn.metrics._scorer', 'sklearn.metrics._plot', 'sklearn.metrics._plot.base', 'sklearn.metrics._plot.det_curve', 'sklearn.metrics._plot.roc_curve', 'sklearn.metrics._plot.precision_recall_curve', 'sklearn.metrics._plot.confusion_matrix', 'sklearn.metrics', 'sklearn.decomposition._kernel_pca', 'sklearn.utils._random', 'sklearn.utils._seq_dataset', 'sklearn.linear_model._base', 'sklearn.linear_model._bayes', 'sklearn.utils.arrayfuncs', 'sklearn.model_selection._split', 'sklearn.model_selection._validation', 'sklearn.utils.random', 'sklearn.model_selection._search', 'sklearn.model_selection', 'sklearn.linear_model._least_angle', 'sklearn.linear_model._cd_fast', 'sklearn.linear_model._coordinate_descent', 'sklearn._loss._loss', 'sklearn._loss.link', 'sklearn._loss.loss', 'sklearn._loss', 'sklearn._loss.glm_distribution', 'sklearn.utils.optimize', 'sklearn.linear_model._linear_loss', 'sklearn.linear_model._glm.glm', 'sklearn.linear_model._glm', 'sklearn.linear_model._huber', 'sklearn.utils._weight_vector', 'sklearn.linear_model._sgd_fast', 'sklearn.linear_model._stochastic_gradient', 'sklearn.linear_model._sag_fast', 'sklearn.linear_model._sag', 'sklearn.linear_model._ridge', 'sklearn.svm._libsvm', 'sklearn.svm._liblinear', 'sklearn.svm._libsvm_sparse', 'sklearn.svm._base', 'sklearn.svm._classes', 'sklearn.svm._bounds', 'sklearn.svm', 'sklearn.linear_model._logistic', 'sklearn.linear_model._omp', 'sklearn.linear_model._passive_aggressive', 'sklearn.linear_model._perceptron', 'sklearn.linear_model._quantile', 'sklearn.linear_model._ransac', 'sklearn.linear_model._theil_sen', 'sklearn.linear_model', 'sklearn.decomposition._dict_learning', 'sklearn.decomposition._sparse_pca', 'sklearn.decomposition._truncated_svd', 'sklearn.decomposition._fastica', 'sklearn.decomposition._factor_analysis', 'sklearn.decomposition._online_lda_fast', 'sklearn.decomposition._lda', 'sklearn.decomposition', 'sklearn.neighbors._partition_nodes', 'sklearn.neighbors._ball_tree', 'sklearn.neighbors._kd_tree', 'sklearn.neighbors._distance_metric', 'sklearn.neighbors._base', 'sklearn.neighbors._unsupervised', 'sklearn.neighbors._graph', 'sklearn.neighbors._classification', 'sklearn.neighbors._regression', 'sklearn.neighbors._nearest_centroid', 'sklearn.neighbors._kde', 'sklearn.neighbors._lof', 'sklearn.neighbors._nca', 'sklearn.neighbors', 'sklearn.manifold._locally_linear', 'sklearn.utils.graph', 'sklearn.manifold._isomap', 'sklearn._isotonic', 'sklearn.isotonic', 'sklearn.manifold._mds', 'sklearn.manifold._spectral_embedding', 'sklearn.manifold._utils', 'sklearn.tree._utils', 'sklearn.tree._tree', 'sklearn.tree._splitter', 'sklearn.tree._criterion', 'sklearn.tree._classes', 'sklearn.tree._reingold_tilford', 'sklearn.tree._export', 'sklearn.tree', 'sklearn.neighbors._quad_tree', 'sklearn.manifold._barnes_hut_tsne', 'sklearn.manifold._t_sne', 'sklearn.manifold', 'sklearn.cluster._k_means_common', 'sklearn.cluster._k_means_minibatch', 'sklearn.cluster._k_means_lloyd', 'sklearn.cluster._k_means_elkan', 'sklearn.cluster._kmeans', 'sklearn.cluster._spectral', 'sklearn.cluster._mean_shift', 'sklearn.cluster._affinity_propagation', 'sklearn.utils._fast_dict', 'sklearn.cluster._hierarchical_fast', 'sklearn.cluster._feature_agglomeration', 'sklearn.cluster._agglomerative', 'sklearn.cluster._bisect_k_means', 'sklearn.cluster._dbscan_inner', 'sklearn.cluster._dbscan', 'sklearn.cluster._optics', 'sklearn.cluster._bicluster', 'sklearn.cluster._birch', 'sklearn.cluster', 'sklearn.feature_extraction._dict_vectorizer', 'sklearn.feature_extraction._hashing_fast', 'sklearn.feature_extraction._hash', 'sklearn.feature_extraction.image', 'sklearn.feature_extraction._stop_words', 'sklearn.feature_extraction.text', 'sklearn.feature_extraction', 'librosa.segment', 'librosa.decompose', 'librosa.effects', 'librosa', 'scipy.io.matlab.byteordercodes', 'scipy.io.matlab.miobase', 'scipy.io.matlab.mio_utils', 'scipy.io.matlab.mio4', 'scipy.io.matlab.streams', 'scipy.io.matlab.mio5_params', 'scipy.io.matlab.mio5_utils', 'scipy.io.matlab.mio5', 'scipy.io.matlab.mio', 'scipy.io.matlab', 'scipy.io.netcdf', 'scipy.io._fortran', 'scipy.io.mmio', 'scipy.io.idl', 'scipy.io.harwell_boeing._fortran_format_parser', 'scipy.io.harwell_boeing.hb', 'scipy.io.harwell_boeing', 'scipy.io', 'scipy.io.wavfile', 'mel_processing', 'regex._regex', 'regex._regex_core', 'regex.regex', 'regex', 'utils', 'transforms', 'modules', 'attentions', 'monotonic_align.monotonic_align', 'monotonic_align.core', 'monotonic_align.monotonic_align.core', 'monotonic_align', 'models', 'gradio', 'gradio.components', 'aiofiles.base', 'aiofiles.threadpool.utils', 'aiofiles.threadpool.binary', 'aiofiles.threadpool.text', 'aiofiles.threadpool', 'aiofiles.tempfile.temptypes', 'aiofiles.tempfile', 'aiofiles', 'attr._compat', 'attr._config', 'attr.exceptions', 'attr.setters', 'attr._make', 'attr.converters', 'attr.filters', 'attr.validators', 'attr._cmp', 'attr._funcs', 'attr._version_info', 'attr._next_gen', 'attr', 'jsonschema.compat', 'jsonschema._utils', 'jsonschema.exceptions', 'uritemplate.variable', 'uritemplate.orderedset', 'uritemplate.template', 'uritemplate.api', 'uritemplate', 'jsonschema._format', 'pyrsistent._transformations', 'pvectorc', 'pyrsistent._pvector', 'pyrsistent._pmap', 'pyrsistent._pset', 'pyrsistent._pbag', 'pyrsistent._plist', 'pyrsistent._pdeque', 'pyrsistent._checked_types', 'pyrsistent._field_common', 'pyrsistent._precord', 'pyrsistent._pclass', 'pyrsistent._immutable', 'pyrsistent._helpers', 'pyrsistent._toolz', 'pyrsistent', 'jsonschema._types', 'jsonschema._legacy_validators', 'jsonschema._validators', 'jsonschema.validators', 'importlib.metadata', 'jsonschema', 'pytz.exceptions', 'pytz.lazy', 'pytz.tzinfo', 'pytz.tzfile', 'pytz', 'pandas._typing', 'pandas.compat._constants', 'pandas.compat.compressors', '_cython_0_29_34', 'pandas._libs.tslibs.np_datetime', 'pandas._libs.tslibs.dtypes', 'pandas._libs.tslibs.base', 'pandas._libs.tslibs.nattype', 'pandas.util._exceptions', 'pandas.util.version', 'pandas.compat._optional', 'pandas._libs.tslibs.timezones', 'pandas._libs.tslibs.ccalendar', 'pandas._config.config', 'pandas._config.dates', 'pandas._config.display', 'pandas._config', 'pandas._config.localization', 'pandas._libs.tslibs.fields', 'pandas._libs.tslibs.timedeltas', 'pandas._libs.tslibs.tzconversion', 'pandas._libs.tslibs.timestamps', 'dateutil.easter', 'pandas._libs.properties', 'pandas._libs.tslibs.offsets', 'pandas._libs.tslibs.strptime', 'pandas._libs.tslibs.parsing', 'pandas._libs.tslibs.conversion', 'pandas._libs.tslibs.period', 'pandas._libs.tslibs.vectorized', 'pandas._libs.tslibs', 'pandas._libs.ops_dispatch', 'pandas._libs.missing', 'pandas._libs.hashtable', 'pandas._libs.algos', 'pandas._libs.interval', 'pandas._libs', 'pandas.util._decorators', 'pandas.core', 'pandas.core.util', 'pandas._libs.lib', 'pandas._libs.hashing', 'pandas.core.dtypes', 'pandas.errors', 'pandas.core.dtypes.generic', 'pandas.core.dtypes.base', 'pandas.core.dtypes.inference', 'pandas.core.dtypes.dtypes', 'pandas.core.dtypes.common', 'pandas.core.util.hashing', 'pandas.util', 'pandas.compat.numpy', 'pandas.compat.pyarrow', 'pandas.compat', 'pandas._libs.tslib', 'pandas.core.config_init', 'pandas.core.dtypes.missing', 'pandas.core.dtypes.cast', 'pandas.core.dtypes.astype', 'pandas.core.dtypes.concat', 'pandas.core.array_algos', 'pandas.core.common', 'pandas.core.construction', 'pandas.core.array_algos.take', 'pandas.core.indexers.utils', 'pandas.core.indexers', 'pandas.core.algorithms', 'pandas.util._validators', 'pandas.core.roperator', 'pandas._libs.ops', 'pandas.core.computation', 'pandas.core.computation.check', 'pandas.core.computation.expressions', 'pandas.core.ops.missing', 'pandas.core.ops.dispatch', 'pandas.core.ops.invalid', 'pandas.core.ops.array_ops', 'pandas.core.ops.common', 'pandas.core.ops.docstrings', 'pandas.core.ops.mask_ops', 'pandas.core.ops.methods', 'pandas.core.ops', 'pandas.util._str_methods', 'pandas.core.arraylike', 'pandas.compat.numpy.function', 'pandas.core.missing', 'pandas.core.array_algos.quantile', 'pandas.core.sorting', 'pandas.core.arrays.base', 'pandas.core.strings', 'pandas.core.strings.base', 'pandas.tseries', 'pandas.tseries.frequencies', 'pandas.core.arrays.arrow.array', 'pandas.core.arrays.arrow.dtype', 'pandas.core.arrays.arrow', 'pandas.core.array_algos.masked_accumulations', 'pandas.core.nanops', 'pandas.core.array_algos.masked_reductions', 'pandas.core.arrays.masked', 'pandas.core.arrays.boolean', 'pandas._libs.arrays', 'pandas.core.accessor', 'pandas.core.array_algos.transforms', 'pandas.core.arrays._mixins', 'pandas.core.base', 'pandas.core.strings.object_array', 'pandas.io', 'pandas.io.formats', 'pandas.io.formats.console', 'pandas.core.arrays.categorical', 'pandas.core.array_algos.datetimelike_accumulations', 'pandas.core.arrays.numeric', 'pandas.core.arrays.integer', 'pandas.core.arrays.datetimelike', 'pandas.core.arrays._ranges', 'pandas.tseries.offsets', 'pandas.core.arrays.datetimes', 'pandas.core.arrays.floating', 'pandas.core.arrays.timedeltas', 'pandas.core.arrays.interval', 'pandas.core.arrays.numpy_', 'pandas.core.arrays.period', 'pandas._libs.sparse', 'pandas.core.arrays.sparse.dtype', 'pandas.io.formats.printing', 'pandas.core.arrays.sparse.array', 'pandas.core.arrays.sparse.accessor', 'pandas.core.arrays.sparse', 'pandas.core.arrays.string_', 'pandas.core.arrays.string_arrow', 'pandas.core.arrays', 'pandas.core.flags', 'pandas._libs.reduction', 'pandas.core.apply', 'pandas._libs.indexing', 'pandas.core.indexes', 'pandas._libs.index', 'pandas._libs.internals', 'pandas._libs.join', 'pandas.core.array_algos.putmask', 'pandas.core.indexes.frozen', 'pandas.core.strings.accessor', 'pandas.core.indexes.base', 'pandas.core.indexes.extension', 'pandas.core.indexes.category', 'pandas.core.indexes.range', 'pandas.core.tools', 'pandas.core.tools.timedeltas', 'pandas.core.indexes.datetimelike', 'pandas.core.tools.times', 'pandas.core.indexes.datetimes', 'pandas.core.indexes.multi', 'pandas.core.indexes.timedeltas', 'pandas.core.indexes.interval', 'pandas.core.indexes.period', 'pandas.core.indexes.api', 'pandas.core.indexing', 'pandas.core.sample', 'pandas.core.array_algos.replace', 'pandas._libs.writers', 'pandas.core.internals.blocks', 'pandas.core.internals.api', 'pandas.core.internals.base', 'pandas.core.internals.array_manager', 'pandas.core.internals.ops', 'pandas.core.internals.managers', 'pandas.core.internals.concat', 'pandas.core.internals', 'pandas.core.internals.construction', 'pandas.core.methods', 'pandas.core.reshape', 'pandas.core.reshape.concat', 'pandas.core.shared_docs', 'pandas.io.common', 'pandas.io.formats.format', 'pandas.core.methods.describe', 'pandas._libs.window', 'pandas._libs.window.aggregations', 'pandas._libs.window.indexers', 'pandas.core.indexers.objects', 'pandas.core.util.numba_', 'pandas.core.window.common', 'pandas.core.window.doc', 'pandas.core.window.numba_', 'pandas.core.window.online', 'pandas.core._numba', 'pandas.core._numba.executor', 'pandas.core.window.rolling', 'pandas.core.window.ewm', 'pandas.core.window.expanding', 'pandas.core.window', 'pandas.core.generic', 'pandas.core.methods.selectn', 'pandas.core.reshape.util', 'pandas.core.tools.numeric', 'pandas.core.reshape.melt', 'pandas._libs.reshape', 'pandas.core.indexes.accessors', 'pandas.arrays', 'pandas.core.tools.datetimes', 'pandas.io.formats.info', 'pandas.plotting._core', 'pandas.plotting._misc', 'pandas.plotting', 'pandas.core.series', 'pandas.core.frame', 'pandas.core.groupby.base', 'pandas._libs.groupby', 'pandas.core.groupby.numba_', 'pandas.core.groupby.categorical', 'pandas.core.groupby.grouper', 'pandas.core.groupby.ops', 'pandas.core.groupby.indexing', 'pandas.core.groupby.groupby', 'pandas.core.groupby.generic', 'pandas.core.groupby', 'pandas.core.api', 'pandas.tseries.api', 'pandas.core.computation.common', 'pandas.core.computation.align', 'pandas.core.computation.scope', 'pandas.core.computation.ops', 'pandas.core.computation.engines', 'pandas.core.computation.parsing', 'pandas.core.computation.expr', 'pandas.core.computation.eval', 'pandas.core.computation.api', 'pandas.core.reshape.encoding', 'pandas.core.reshape.merge', 'pandas.core.reshape.pivot', 'pandas.core.reshape.tile', 'pandas.core.reshape.api', 'pandas.api.extensions', 'pandas.api.indexers', 'pandas.core.interchange', 'pandas.core.interchange.dataframe_protocol', 'pandas.core.dtypes.api', 'pandas.api.types', 'pandas.core.interchange.buffer', 'pandas.core.interchange.utils', 'pandas.core.interchange.column', 'pandas.core.interchange.from_dataframe', 'pandas.api.interchange', 'pandas.api', 'pandas._testing._random', 'pandas._testing.contexts', 'pandas._testing._io', 'pandas._testing._warnings', 'pandas._libs.testing', 'pandas._testing.asserters', 'pandas._testing.compat', 'pandas._testing', 'pandas.testing', 'pandas.util._print_versions', 'pandas.io.clipboards', 'pandas._libs.parsers', 'pandas.io.excel._util', 'pandas.io._util', 'pandas.io.parsers.base_parser', 'pandas.io.parsers.arrow_parser_wrapper', 'pandas.io.parsers.c_parser_wrapper', 'pandas.io.parsers.python_parser', 'pandas.io.parsers.readers', 'pandas.io.parsers', 'pandas.io.excel._odfreader', 'pandas.io.excel._openpyxl', 'pandas.io.excel._pyxlsb', 'pandas.io.excel._xlrd', 'pandas.io.excel._base', 'pandas._libs.json', 'pandas.io.excel._odswriter', 'pandas.io.excel._xlsxwriter', 'pandas.io.excel', 'pandas.io.feather_format', 'pandas.io.gbq', 'pandas.io.html', 'pandas.io.json._normalize', 'pandas.io.json._table_schema', 'pandas.io.json._json', 'pandas.io.json', 'pandas.io.orc', 'pandas.io.parquet', 'pandas.compat.pickle_compat', 'pandas.io.pickle', 'pandas.core.computation.pytables', 'pandas.io.pytables', 'pandas.io.sas.sasreader', 'pandas.io.sas', 'pandas.io.spss', 'pandas.io.sql', 'pandas.io.stata', 'pandas.io.xml', 'pandas.io.api', 'pandas.util._tester', 'pandas._version', 'pandas', 'altair.utils.schemapi', 'altair.utils.core', 'jinja2.bccache', 'markupsafe._speedups', 'markupsafe', 'jinja2.utils', 'jinja2.nodes', 'jinja2.exceptions', 'jinja2.visitor', 'jinja2.idtracking', 'jinja2.optimizer', 'jinja2.compiler', 'jinja2.async_utils', 'jinja2.runtime', 'jinja2.filters', 'jinja2.tests', 'jinja2.defaults', 'jinja2._identifier', 'jinja2.lexer', 'jinja2.parser', 'jinja2.environment', 'jinja2.loaders', 'jinja2', 'encodings.unicode_escape', 'altair.utils.html', 'toolz.utils', 'toolz.itertoolz', 'toolz._signatures', 'toolz.functoolz', 'toolz.dicttoolz', 'toolz.recipes', 'toolz.curried.operator', 'toolz.curried.exceptions', 'toolz.curried', 'toolz.sandbox.core', 'toolz.sandbox.parallel', 'toolz.sandbox', 'toolz._version', 'toolz', 'altair.utils.plugin_registry', 'altair.utils.deprecation', 'altair.utils', 'altair.vegalite.v4.schema.core', 'altair.vegalite.v4.schema.channels', 'altair.vegalite.v4.schema', 'altair.vegalite.v4.schema.mixins', 'altair.utils.data', 'altair.vegalite.data', 'altair.vegalite.v4.data', 'altair.expr.core', 'altair.expr.funcs', 'altair.expr.consts', 'altair.expr', 'altair.utils.mimebundle', 'altair.utils.display', 'altair.vegalite.display', 'altair.vegalite.v4.display', 'altair.utils.theme', 'altair.vegalite.v4.theme', 'altair.vegalite.v4.api', 'altair.datasets', 'altair.vegalite.v4', 'altair.vegalite', 'altair.examples', 'altair', 'matplotlib', 'matplotlib.cbook.deprecation', 'matplotlib.cbook', 'matplotlib._animation_data', 'matplotlib.animation', 'pyparsing', 'matplotlib.fontconfig_pattern', 'matplotlib.docstring', 'matplotlib._color_data', 'matplotlib.colors', 'cycler', 'matplotlib.rcsetup', 'matplotlib._version', 'matplotlib.ft2font', 'kiwisolver']\n",
      "DEBUG:matplotlib:CACHEDIR=/root/.cache/matplotlib\n",
      "DEBUG:matplotlib.font_manager:Using fontManager instance from /root/.cache/matplotlib/fontlist-v330.json\n",
      "DEBUG:matplotlib.pyplot:Loaded backend module://matplotlib_inline.backend_inline version unknown.\n",
      "DEBUG:matplotlib.pyplot:Loaded backend module://matplotlib_inline.backend_inline version unknown.\n",
      "DEBUG:httpx:load_ssl_context verify=True cert=None trust_env=True http2=False\n",
      "DEBUG:urllib3.connectionpool:Starting new HTTPS connection (1): api.gradio.app:443\n",
      "DEBUG:httpx:load_verify_locations cafile='/root/miniconda3/lib/python3.8/site-packages/certifi/cacert.pem'\n",
      "DEBUG:httpx:load_ssl_context verify=True cert=None trust_env=True http2=False\n",
      "DEBUG:httpx:load_verify_locations cafile='/root/miniconda3/lib/python3.8/site-packages/certifi/cacert.pem'\n",
      "DEBUG:PIL.Image:Importing BlpImagePlugin\n",
      "DEBUG:PIL.Image:Importing BmpImagePlugin\n",
      "DEBUG:PIL.Image:Importing BufrStubImagePlugin\n",
      "DEBUG:PIL.Image:Importing CurImagePlugin\n",
      "DEBUG:PIL.Image:Importing DcxImagePlugin\n",
      "DEBUG:PIL.Image:Importing DdsImagePlugin\n",
      "DEBUG:PIL.Image:Importing EpsImagePlugin\n",
      "DEBUG:PIL.Image:Importing FitsImagePlugin\n",
      "DEBUG:PIL.Image:Importing FitsStubImagePlugin\n",
      "DEBUG:PIL.Image:Importing FliImagePlugin\n",
      "DEBUG:PIL.Image:Importing FpxImagePlugin\n",
      "DEBUG:PIL.Image:Image: failed to import FpxImagePlugin: No module named 'olefile'\n",
      "DEBUG:PIL.Image:Importing FtexImagePlugin\n",
      "DEBUG:PIL.Image:Importing GbrImagePlugin\n",
      "DEBUG:PIL.Image:Importing GifImagePlugin\n",
      "DEBUG:PIL.Image:Importing GribStubImagePlugin\n",
      "DEBUG:PIL.Image:Importing Hdf5StubImagePlugin\n",
      "DEBUG:PIL.Image:Importing IcnsImagePlugin\n",
      "DEBUG:PIL.Image:Importing IcoImagePlugin\n",
      "DEBUG:PIL.Image:Importing ImImagePlugin\n",
      "DEBUG:PIL.Image:Importing ImtImagePlugin\n",
      "DEBUG:PIL.Image:Importing IptcImagePlugin\n",
      "DEBUG:PIL.Image:Importing JpegImagePlugin\n",
      "DEBUG:PIL.Image:Importing Jpeg2KImagePlugin\n",
      "DEBUG:PIL.Image:Importing McIdasImagePlugin\n",
      "DEBUG:PIL.Image:Importing MicImagePlugin\n",
      "DEBUG:PIL.Image:Image: failed to import MicImagePlugin: No module named 'olefile'\n",
      "DEBUG:PIL.Image:Importing MpegImagePlugin\n",
      "DEBUG:PIL.Image:Importing MpoImagePlugin\n",
      "DEBUG:PIL.Image:Importing MspImagePlugin\n",
      "DEBUG:PIL.Image:Importing PalmImagePlugin\n",
      "DEBUG:PIL.Image:Importing PcdImagePlugin\n",
      "DEBUG:PIL.Image:Importing PcxImagePlugin\n",
      "DEBUG:PIL.Image:Importing PdfImagePlugin\n",
      "DEBUG:PIL.Image:Importing PixarImagePlugin\n",
      "DEBUG:PIL.Image:Importing PngImagePlugin\n",
      "DEBUG:PIL.Image:Importing PpmImagePlugin\n",
      "DEBUG:PIL.Image:Importing PsdImagePlugin\n",
      "DEBUG:PIL.Image:Importing QoiImagePlugin\n",
      "DEBUG:PIL.Image:Importing SgiImagePlugin\n",
      "DEBUG:PIL.Image:Importing SpiderImagePlugin\n",
      "DEBUG:PIL.Image:Importing SunImagePlugin\n",
      "DEBUG:PIL.Image:Importing TgaImagePlugin\n",
      "DEBUG:PIL.Image:Importing TiffImagePlugin\n",
      "DEBUG:PIL.Image:Importing WebPImagePlugin\n",
      "DEBUG:PIL.Image:Importing WmfImagePlugin\n",
      "DEBUG:PIL.Image:Importing XbmImagePlugin\n",
      "DEBUG:PIL.Image:Importing XpmImagePlugin\n",
      "DEBUG:PIL.Image:Importing XVThumbImagePlugin\n",
      "DEBUG:urllib3.connectionpool:https://api.gradio.app:443 \"GET /gradio-messaging/en HTTP/1.1\" 200 3\n",
      "INFO:root:Loaded checkpoint './OUTPUT_MODEL/G_latest.pth' (iteration 299)\n",
      "DEBUG:urllib3.connectionpool:Starting new HTTPS connection (1): checkip.amazonaws.com:443\n",
      "DEBUG:urllib3.connectionpool:https://checkip.amazonaws.com:443 \"GET / HTTP/1.1\" 200 14\n",
      "DEBUG:markdown_it.rules_block.code:entering code: StateBlock(line=0,level=0,tokens=0), 0, 1, False\n",
      "DEBUG:markdown_it.rules_block.fence:entering fence: StateBlock(line=0,level=0,tokens=0), 0, 1, False\n",
      "DEBUG:urllib3.connectionpool:Starting new HTTPS connection (1): api.gradio.app:443\n",
      "DEBUG:markdown_it.rules_block.blockquote:entering blockquote: StateBlock(line=0,level=0,tokens=0), 0, 1, False\n",
      "DEBUG:markdown_it.rules_block.hr:entering hr: StateBlock(line=0,level=0,tokens=0), 0, 1, False\n",
      "DEBUG:markdown_it.rules_block.list:entering list: StateBlock(line=0,level=0,tokens=0), 0, 1, False\n",
      "DEBUG:markdown_it.rules_block.reference:entering reference: StateBlock(line=0,level=0,tokens=0), 0, 1, False\n",
      "DEBUG:markdown_it.rules_block.html_block:entering html_block: StateBlock(line=0,level=0,tokens=0), 0, 1, False\n",
      "DEBUG:markdown_it.rules_block.heading:entering heading: StateBlock(line=0,level=0,tokens=0), 0, 1, False\n",
      "DEBUG:markdown_it.rules_block.lheading:entering lheading: StateBlock(line=0,level=0,tokens=0), 0, 1, False\n",
      "DEBUG:markdown_it.rules_block.paragraph:entering paragraph: StateBlock(line=0,level=0,tokens=0), 0, 1, False\n",
      "DEBUG:asyncio:Using selector: EpollSelector\n",
      "DEBUG:urllib3.connectionpool:Starting new HTTP connection (1): localhost:6006\n",
      "DEBUG:urllib3.connectionpool:http://localhost:6006 \"GET /startup-events HTTP/1.1\" 200 5\n",
      "DEBUG:urllib3.connectionpool:Starting new HTTP connection (1): localhost:6006\n",
      "DEBUG:urllib3.connectionpool:http://localhost:6006 \"HEAD / HTTP/1.1\" 200 0\n",
      "Running on local URL:  http://0.0.0.0:6006\n",
      "\n",
      "To create a public link, set `share=True` in `launch()`.\n"
     ]
    },
    {
     "data": {
      "text/html": [
       "<div><iframe src=\"http://localhost:6006/\" width=\"100%\" height=\"500\" allow=\"autoplay; camera; microphone; clipboard-read; clipboard-write;\" frameborder=\"0\" allowfullscreen></iframe></div>"
      ],
      "text/plain": [
       "<IPython.core.display.HTML object>"
      ]
     },
     "metadata": {},
     "output_type": "display_data"
    },
    {
     "name": "stdout",
     "output_type": "stream",
     "text": [
      "DEBUG:urllib3.connectionpool:Starting new HTTPS connection (1): api.gradio.app:443\n",
      "DEBUG:urllib3.connectionpool:Starting new HTTPS connection (1): api.gradio.app:443\n",
      "DEBUG:urllib3.connectionpool:https://api.gradio.app:443 \"POST /gradio-initiated-analytics/ HTTP/1.1\" 200 None\n",
      "DEBUG:urllib3.connectionpool:https://api.gradio.app:443 \"POST /gradio-launched-analytics/ HTTP/1.1\" 200 None\n",
      "DEBUG:urllib3.connectionpool:https://api.gradio.app:443 \"POST /gradio-launched-telemetry/ HTTP/1.1\" 200 None\n"
     ]
    },
    {
     "name": "stderr",
     "output_type": "stream",
     "text": [
      "Building prefix dict from the default dictionary ...\n"
     ]
    },
    {
     "name": "stdout",
     "output_type": "stream",
     "text": [
      "DEBUG:jieba:Building prefix dict from the default dictionary ...\n"
     ]
    },
    {
     "name": "stderr",
     "output_type": "stream",
     "text": [
      "Loading model from cache /tmp/jieba.cache\n"
     ]
    },
    {
     "name": "stdout",
     "output_type": "stream",
     "text": [
      "DEBUG:jieba:Loading model from cache /tmp/jieba.cache\n"
     ]
    },
    {
     "name": "stderr",
     "output_type": "stream",
     "text": [
      "Loading model cost 1.218 seconds.\n"
     ]
    },
    {
     "name": "stdout",
     "output_type": "stream",
     "text": [
      "DEBUG:jieba:Loading model cost 1.218 seconds.\n"
     ]
    },
    {
     "name": "stderr",
     "output_type": "stream",
     "text": [
      "Prefix dict has been built successfully.\n"
     ]
    },
    {
     "name": "stdout",
     "output_type": "stream",
     "text": [
      "DEBUG:jieba:Prefix dict has been built successfully.\n",
      "ʦ`⁼ə↓li↓↑ s`ɹ`↓ ʦʰə↓s`ɹ`↓ s`ɹ`↑ʧ⁼yeNN→.\n",
      " length:39\n",
      " length:39\n"
     ]
    },
    {
     "name": "stderr",
     "output_type": "stream",
     "text": [
      "/root/miniconda3/lib/python3.8/site-packages/gradio/processing_utils.py:175: UserWarning: Trying to convert audio automatically from float32 to 16-bit int format.\n",
      "  warnings.warn(warning.format(data.dtype))\n"
     ]
    }
   ],
   "source": [
    "#@markdown ### 微调完成后，在这里尝试效果。\n",
    "#@markdown ### Try out TTS & VC quality here after fine-tuning is finished.\n",
    "!cp ./configs/modified_finetune_speaker.json ./finetune_speaker.json\n",
    "%run VC_inference.py --model_dir ./OUTPUT_MODEL/G_latest.pth"
   ]
  },
  {
   "cell_type": "markdown",
   "metadata": {
    "id": "MXYxSdt-m3YK"
   },
   "source": [
    "# STEP 5 下载模型\n",
    "## 本地部署方法请见[README](https://github.com/Plachtaa/VITS-fast-fine-tuning/blob/main/README_ZH.md)"
   ]
  },
  {
   "cell_type": "code",
   "execution_count": 2,
   "metadata": {},
   "outputs": [
    {
     "name": "stdout",
     "output_type": "stream",
     "text": [
      "/root/VITS-fast-fine-tuning\n"
     ]
    }
   ],
   "source": [
    "%cd VITS-fast-fine-tuning/"
   ]
  },
  {
   "cell_type": "code",
   "execution_count": 4,
   "metadata": {
    "id": "QcJQm6_ImD7o"
   },
   "outputs": [
    {
     "ename": "ModuleNotFoundError",
     "evalue": "No module named 'google.colab'",
     "output_type": "error",
     "traceback": [
      "\u001b[0;31m---------------------------------------------------------------------------\u001b[0m",
      "\u001b[0;31mModuleNotFoundError\u001b[0m                       Traceback (most recent call last)",
      "\u001b[0;32m~/VITS-fast-fine-tuning/download_model.py\u001b[0m in \u001b[0;36m<module>\u001b[0;34m\u001b[0m\n\u001b[0;32m----> 1\u001b[0;31m \u001b[0;32mfrom\u001b[0m \u001b[0mgoogle\u001b[0m\u001b[0;34m.\u001b[0m\u001b[0mcolab\u001b[0m \u001b[0;32mimport\u001b[0m \u001b[0mfiles\u001b[0m\u001b[0;34m\u001b[0m\u001b[0;34m\u001b[0m\u001b[0m\n\u001b[0m\u001b[1;32m      2\u001b[0m \u001b[0mfiles\u001b[0m\u001b[0;34m.\u001b[0m\u001b[0mdownload\u001b[0m\u001b[0;34m(\u001b[0m\u001b[0;34m\"./G_latest.pth\"\u001b[0m\u001b[0;34m)\u001b[0m\u001b[0;34m\u001b[0m\u001b[0;34m\u001b[0m\u001b[0m\n\u001b[1;32m      3\u001b[0m \u001b[0mfiles\u001b[0m\u001b[0;34m.\u001b[0m\u001b[0mdownload\u001b[0m\u001b[0;34m(\u001b[0m\u001b[0;34m\"./finetune_speaker.json\"\u001b[0m\u001b[0;34m)\u001b[0m\u001b[0;34m\u001b[0m\u001b[0;34m\u001b[0m\u001b[0m\n\u001b[1;32m      4\u001b[0m \u001b[0mfiles\u001b[0m\u001b[0;34m.\u001b[0m\u001b[0mdownload\u001b[0m\u001b[0;34m(\u001b[0m\u001b[0;34m\"./moegoe_config.json\"\u001b[0m\u001b[0;34m)\u001b[0m\u001b[0;34m\u001b[0m\u001b[0;34m\u001b[0m\u001b[0m\n",
      "\u001b[0;31mModuleNotFoundError\u001b[0m: No module named 'google.colab'"
     ]
    }
   ],
   "source": [
    "#@markdown ### 下载选项1：运行该单元格，浏览器会自动下载模型和配置文件\n",
    "#@markdown ### Download option 1: Running this codeblock will download model & config files by your browser.\n",
    "!python rearrange_speaker.py \n",
    "%run download_model.py"
   ]
  },
  {
   "cell_type": "code",
   "execution_count": null,
   "metadata": {
    "id": "k13JBTommkTj"
   },
   "outputs": [],
   "source": [
    "#@markdown ### 下载选项2：运行该单元格会将模型和配置文件保存到Google云端硬盘\n",
    "#@markdown ### Download option 2: Running this codeblock will save the mode & config files to your Google drive.\n",
    "!python rearrange_speaker.py \n",
    "!cp ./G_latest.pth ../drive/MyDrive/G_latest.pth\n",
    "!cp ./finetune_speaker.json ../drive/MyDrive/finetune_speaker.json\n",
    "!cp ./moegoe_config.json ../drive/MyDrive/moegoe_config.json"
   ]
  },
  {
   "cell_type": "code",
   "execution_count": 3,
   "metadata": {},
   "outputs": [
    {
     "name": "stdout",
     "output_type": "stream",
     "text": [
      "/root/VITS-fast-fine-tuning\n"
     ]
    }
   ],
   "source": [
    "%cd VITS-fast-fine-tuning"
   ]
  },
  {
   "cell_type": "code",
   "execution_count": 4,
   "metadata": {
    "id": "hU8LmJlUcF1z"
   },
   "outputs": [],
   "source": [
    "#@markdown ### 运行该单元格会清空所有已上传的样本，需要时可使用\n",
    "#@markdown ### Running this codeblock will delete all voice samples you have uploaded. Use it if you need.\n",
    "!rm -rf ./custom_character_voice/*\n",
    "!rm -rf ./video_data/*\n",
    "!rm -rf ./raw_audio/*\n",
    "!rm -rf ./denoised_audio/*\n",
    "!rm -rf ./segmented_character_voice/*\n",
    "!rm -rf long_character_anno.txt\n",
    "!rm -rf short_character_anno.txt"
   ]
  },
  {
   "cell_type": "code",
   "execution_count": null,
   "metadata": {
    "id": "ZHK6qw4wRF8T"
   },
   "outputs": [],
   "source": [
    "#@markdown ### 运行该单元格会将切片和标注复制到谷歌云端硬盘根目录下名为`voice_data`的文件夹下以用作其它用途\n",
    "#@markdown ### Running this codeblock will copy all processed voices & annotations to a folder named `voice_data` under the root of Google Drive for other purpose of usage\n",
    "!mkdir ../drive/MyDrive/voice_data/\n",
    "!cp -rf ./custom_character_voice/ ../drive/MyDrive/voice_data/custom_character_voice/\n",
    "!cp -rf ./segmented_character_voice/ ../drive/MyDrive/voice_data/segmented_character_voice/\n",
    "!cp long_character_anno.txt ../drive/MyDrive/voice_data/long_character_anno.txt\n",
    "!cp short_character_anno.txt ../drive/MyDrive/voice_data/short_character_anno.txt"
   ]
  },
  {
   "cell_type": "code",
   "execution_count": null,
   "metadata": {
    "id": "mc1ksXqdl8TL"
   },
   "outputs": [],
   "source": [
    "!pip install torch==1.13.1 torchvision==0.14.1 torchaudio==0.13.1"
   ]
  }
 ],
 "metadata": {
  "accelerator": "GPU",
  "colab": {
   "authorship_tag": "ABX9TyN4k7ZPhU0ezlR2NiTJPjNk",
   "collapsed_sections": [
    "Wjpr__yCPp_J",
    "FLGkhbvhP33f",
    "5IDg3hAgWY0T"
   ],
   "mount_file_id": "1pn1xnFfdLK63gVXDwV4zCXfVeo8c-I-0",
   "private_outputs": true,
   "provenance": []
  },
  "gpuClass": "standard",
  "kernelspec": {
   "display_name": "Python 3 (ipykernel)",
   "language": "python",
   "name": "python3"
  },
  "language_info": {
   "codemirror_mode": {
    "name": "ipython",
    "version": 3
   },
   "file_extension": ".py",
   "mimetype": "text/x-python",
   "name": "python",
   "nbconvert_exporter": "python",
   "pygments_lexer": "ipython3",
   "version": "3.8.10"
  }
 },
 "nbformat": 4,
 "nbformat_minor": 4
}
